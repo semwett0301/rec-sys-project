{
 "cells": [
  {
   "metadata": {},
   "cell_type": "markdown",
   "source": "# Imports",
   "id": "e808d84ca54b0857"
  },
  {
   "metadata": {
    "ExecuteTime": {
     "end_time": "2025-03-10T08:30:59.693585Z",
     "start_time": "2025-03-10T08:30:58.698161Z"
    }
   },
   "cell_type": "code",
   "source": "!pip install kagglehub",
   "id": "89691cbfaebcf2ca",
   "outputs": [
    {
     "name": "stdout",
     "output_type": "stream",
     "text": [
      "Collecting kagglehub\r\n",
      "  Downloading kagglehub-0.3.10-py3-none-any.whl.metadata (31 kB)\r\n",
      "Requirement already satisfied: packaging in /opt/homebrew/anaconda3/lib/python3.12/site-packages (from kagglehub) (24.1)\r\n",
      "Requirement already satisfied: pyyaml in /opt/homebrew/anaconda3/lib/python3.12/site-packages (from kagglehub) (6.0.1)\r\n",
      "Requirement already satisfied: requests in /opt/homebrew/anaconda3/lib/python3.12/site-packages (from kagglehub) (2.32.3)\r\n",
      "Requirement already satisfied: tqdm in /opt/homebrew/anaconda3/lib/python3.12/site-packages (from kagglehub) (4.66.5)\r\n",
      "Requirement already satisfied: charset-normalizer<4,>=2 in /opt/homebrew/anaconda3/lib/python3.12/site-packages (from requests->kagglehub) (3.3.2)\r\n",
      "Requirement already satisfied: idna<4,>=2.5 in /opt/homebrew/anaconda3/lib/python3.12/site-packages (from requests->kagglehub) (3.7)\r\n",
      "Requirement already satisfied: urllib3<3,>=1.21.1 in /opt/homebrew/anaconda3/lib/python3.12/site-packages (from requests->kagglehub) (2.2.3)\r\n",
      "Requirement already satisfied: certifi>=2017.4.17 in /opt/homebrew/anaconda3/lib/python3.12/site-packages (from requests->kagglehub) (2025.1.31)\r\n",
      "Downloading kagglehub-0.3.10-py3-none-any.whl (63 kB)\r\n",
      "Installing collected packages: kagglehub\r\n",
      "Successfully installed kagglehub-0.3.10\r\n"
     ]
    }
   ],
   "execution_count": 1
  },
  {
   "cell_type": "code",
   "id": "initial_id",
   "metadata": {
    "collapsed": true,
    "ExecuteTime": {
     "end_time": "2025-03-10T08:30:59.794786Z",
     "start_time": "2025-03-10T08:30:59.705389Z"
    }
   },
   "source": [
    "import kagglehub\n",
    "from kagglehub import KaggleDatasetAdapter"
   ],
   "outputs": [],
   "execution_count": 2
  },
  {
   "metadata": {},
   "cell_type": "markdown",
   "source": "# Dataset loading",
   "id": "fca58197b004b59b"
  },
  {
   "metadata": {
    "ExecuteTime": {
     "end_time": "2025-03-10T08:34:22.274380Z",
     "start_time": "2025-03-10T08:34:22.271372Z"
    }
   },
   "cell_type": "code",
   "source": [
    "def load_from_kaggle(file_path: str):\n",
    "    return kagglehub.dataset_load(\n",
    "        KaggleDatasetAdapter.PANDAS,\n",
    "        \"yelp-dataset/yelp-dataset\",\n",
    "        file_path)"
   ],
   "id": "6adb6b52dae34ac8",
   "outputs": [],
   "execution_count": 9
  },
  {
   "metadata": {
    "ExecuteTime": {
     "end_time": "2025-03-10T08:39:24.975Z",
     "start_time": "2025-03-10T08:35:30.583958Z"
    }
   },
   "cell_type": "code",
   "source": [
    "path = kagglehub.dataset_download(\"yelp-dataset/yelp-dataset\")\n",
    "\n",
    "print(\"Path to dataset files:\", path)"
   ],
   "id": "a9683619f7b8822f",
   "outputs": [
    {
     "name": "stdout",
     "output_type": "stream",
     "text": [
      "Downloading from https://www.kaggle.com/api/v1/datasets/download/yelp-dataset/yelp-dataset?dataset_version_number=4...\n"
     ]
    },
    {
     "name": "stderr",
     "output_type": "stream",
     "text": [
      "100%|██████████| 4.07G/4.07G [03:22<00:00, 21.6MB/s]"
     ]
    },
    {
     "name": "stdout",
     "output_type": "stream",
     "text": [
      "Extracting files...\n"
     ]
    },
    {
     "name": "stderr",
     "output_type": "stream",
     "text": [
      "\n"
     ]
    },
    {
     "name": "stdout",
     "output_type": "stream",
     "text": [
      "Path to dataset files: /Users/simon/.cache/kagglehub/datasets/yelp-dataset/yelp-dataset/versions/4\n"
     ]
    }
   ],
   "execution_count": 11
  }
 ],
 "metadata": {
  "kernelspec": {
   "display_name": "Python 3",
   "language": "python",
   "name": "python3"
  },
  "language_info": {
   "codemirror_mode": {
    "name": "ipython",
    "version": 2
   },
   "file_extension": ".py",
   "mimetype": "text/x-python",
   "name": "python",
   "nbconvert_exporter": "python",
   "pygments_lexer": "ipython2",
   "version": "2.7.6"
  }
 },
 "nbformat": 4,
 "nbformat_minor": 5
}
