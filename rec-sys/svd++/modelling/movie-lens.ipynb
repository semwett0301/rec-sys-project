{
 "cells": [
  {
   "cell_type": "code",
   "execution_count": 1,
   "id": "initial_id",
   "metadata": {
    "ExecuteTime": {
     "end_time": "2025-04-03T11:41:46.971221Z",
     "start_time": "2025-04-03T11:41:46.886094Z"
    }
   },
   "outputs": [],
   "source": [
    "%load_ext autoreload\n",
    "%autoreload 2"
   ]
  },
  {
   "cell_type": "code",
   "execution_count": 2,
   "id": "f7a278936aebaf73",
   "metadata": {
    "ExecuteTime": {
     "end_time": "2025-04-03T11:41:46.986130Z",
     "start_time": "2025-04-03T11:41:46.977025Z"
    }
   },
   "outputs": [],
   "source": [
    "import os\n",
    "import sys\n",
    "\n",
    "library_path = os.path.abspath(\"../library\")\n",
    "if library_path not in sys.path:\n",
    "    sys.path.append(library_path)"
   ]
  },
  {
   "cell_type": "code",
   "execution_count": 3,
   "id": "af170ca4f228ee99",
   "metadata": {
    "ExecuteTime": {
     "end_time": "2025-04-03T11:41:47.003516Z",
     "start_time": "2025-04-03T11:41:46.994041Z"
    }
   },
   "outputs": [],
   "source": [
    "import logging\n",
    "\n",
    "logging.basicConfig(level=logging.INFO)\n",
    "logger = logging.getLogger(__name__)"
   ]
  },
  {
   "cell_type": "code",
   "execution_count": 4,
   "id": "c5dd8236573dcfbe",
   "metadata": {
    "ExecuteTime": {
     "end_time": "2025-04-03T11:41:47.131770Z",
     "start_time": "2025-04-03T11:41:47.008194Z"
    }
   },
   "outputs": [],
   "source": [
    "import pandas as pd\n",
    "\n",
    "pd.options.mode.chained_assignment = None  # Disable the warning\n",
    "\n",
    "import pickle\n",
    "import numpy as np\n",
    "\n",
    "from metrics import RmseCalculator, SvdTestMetricsCalculator\n",
    "from rating import get_explicit_rating, get_implicit_rating_out_of_positive_ratings_df, split_matrix_csr, \\\n",
    "    sanity_check_implicit_rating, sanity_check_explicit_split, sanity_check_explicit_matrix\n",
    "from tuning import GridSearchSvdPP"
   ]
  },
  {
   "cell_type": "markdown",
   "id": "800735921da3cad6",
   "metadata": {},
   "source": [
    "# Feature selection"
   ]
  },
  {
   "cell_type": "markdown",
   "id": "c70c649d4e7d7b06",
   "metadata": {},
   "source": [
    "The only dataset that is necessary for our purposes is **review** dataset since:\n",
    "- it contains the information about explicit ratings (the mean of the field **Rating** for pairs of users and items, check the chapter **Feature engineering** for more details)\n",
    "- it contains the information for implicit rating (check the chapter **Feature engineering** for more details)\n",
    "- it already contains only those users who provided at least one review and those items that received at least one estimation"
   ]
  },
  {
   "cell_type": "code",
   "execution_count": 5,
   "id": "c9eb4416814e12c7",
   "metadata": {
    "ExecuteTime": {
     "end_time": "2025-04-03T11:41:47.149783Z",
     "start_time": "2025-04-03T11:41:47.136610Z"
    }
   },
   "outputs": [],
   "source": [
    "PATH = '../../../eda/dataset_samples/df_movie_lens.parquet'"
   ]
  },
  {
   "cell_type": "markdown",
   "id": "a2f1ef05fc04416b",
   "metadata": {},
   "source": [
    "For this dataset **no one** sampling approach was conducted since the size of final matrix `User` x `Item` interactions will have size `6040 x 3706` that can be processed on our **compute power**\n",
    "\n",
    "Moreover, there is no features to drop since all of them are necessary to create **explicit** and **implicit** ratings"
   ]
  },
  {
   "cell_type": "code",
   "execution_count": 6,
   "id": "c658c53bd6804a3a",
   "metadata": {
    "ExecuteTime": {
     "end_time": "2025-04-03T11:41:47.234969Z",
     "start_time": "2025-04-03T11:41:47.158818Z"
    }
   },
   "outputs": [
    {
     "data": {
      "text/html": [
       "<div>\n",
       "<style scoped>\n",
       "    .dataframe tbody tr th:only-of-type {\n",
       "        vertical-align: middle;\n",
       "    }\n",
       "\n",
       "    .dataframe tbody tr th {\n",
       "        vertical-align: top;\n",
       "    }\n",
       "\n",
       "    .dataframe thead th {\n",
       "        text-align: right;\n",
       "    }\n",
       "</style>\n",
       "<table border=\"1\" class=\"dataframe\">\n",
       "  <thead>\n",
       "    <tr style=\"text-align: right;\">\n",
       "      <th></th>\n",
       "      <th>UserID</th>\n",
       "      <th>MovieID</th>\n",
       "      <th>Rating</th>\n",
       "      <th>Timestamp</th>\n",
       "    </tr>\n",
       "  </thead>\n",
       "  <tbody>\n",
       "    <tr>\n",
       "      <th>0</th>\n",
       "      <td>1</td>\n",
       "      <td>1193</td>\n",
       "      <td>5</td>\n",
       "      <td>978300760</td>\n",
       "    </tr>\n",
       "    <tr>\n",
       "      <th>1</th>\n",
       "      <td>1</td>\n",
       "      <td>661</td>\n",
       "      <td>3</td>\n",
       "      <td>978302109</td>\n",
       "    </tr>\n",
       "    <tr>\n",
       "      <th>2</th>\n",
       "      <td>1</td>\n",
       "      <td>914</td>\n",
       "      <td>3</td>\n",
       "      <td>978301968</td>\n",
       "    </tr>\n",
       "    <tr>\n",
       "      <th>3</th>\n",
       "      <td>1</td>\n",
       "      <td>3408</td>\n",
       "      <td>4</td>\n",
       "      <td>978300275</td>\n",
       "    </tr>\n",
       "    <tr>\n",
       "      <th>4</th>\n",
       "      <td>1</td>\n",
       "      <td>2355</td>\n",
       "      <td>5</td>\n",
       "      <td>978824291</td>\n",
       "    </tr>\n",
       "    <tr>\n",
       "      <th>...</th>\n",
       "      <td>...</td>\n",
       "      <td>...</td>\n",
       "      <td>...</td>\n",
       "      <td>...</td>\n",
       "    </tr>\n",
       "    <tr>\n",
       "      <th>1000204</th>\n",
       "      <td>6040</td>\n",
       "      <td>1091</td>\n",
       "      <td>1</td>\n",
       "      <td>956716541</td>\n",
       "    </tr>\n",
       "    <tr>\n",
       "      <th>1000205</th>\n",
       "      <td>6040</td>\n",
       "      <td>1094</td>\n",
       "      <td>5</td>\n",
       "      <td>956704887</td>\n",
       "    </tr>\n",
       "    <tr>\n",
       "      <th>1000206</th>\n",
       "      <td>6040</td>\n",
       "      <td>562</td>\n",
       "      <td>5</td>\n",
       "      <td>956704746</td>\n",
       "    </tr>\n",
       "    <tr>\n",
       "      <th>1000207</th>\n",
       "      <td>6040</td>\n",
       "      <td>1096</td>\n",
       "      <td>4</td>\n",
       "      <td>956715648</td>\n",
       "    </tr>\n",
       "    <tr>\n",
       "      <th>1000208</th>\n",
       "      <td>6040</td>\n",
       "      <td>1097</td>\n",
       "      <td>4</td>\n",
       "      <td>956715569</td>\n",
       "    </tr>\n",
       "  </tbody>\n",
       "</table>\n",
       "<p>1000209 rows × 4 columns</p>\n",
       "</div>"
      ],
      "text/plain": [
       "         UserID  MovieID  Rating  Timestamp\n",
       "0             1     1193       5  978300760\n",
       "1             1      661       3  978302109\n",
       "2             1      914       3  978301968\n",
       "3             1     3408       4  978300275\n",
       "4             1     2355       5  978824291\n",
       "...         ...      ...     ...        ...\n",
       "1000204    6040     1091       1  956716541\n",
       "1000205    6040     1094       5  956704887\n",
       "1000206    6040      562       5  956704746\n",
       "1000207    6040     1096       4  956715648\n",
       "1000208    6040     1097       4  956715569\n",
       "\n",
       "[1000209 rows x 4 columns]"
      ]
     },
     "execution_count": 6,
     "metadata": {},
     "output_type": "execute_result"
    }
   ],
   "source": [
    "review_df = pd.read_parquet(PATH)\n",
    "review_df"
   ]
  },
  {
   "cell_type": "markdown",
   "id": "1ff3bec5748df05c",
   "metadata": {},
   "source": [
    "# Explicit rating extracting"
   ]
  },
  {
   "cell_type": "markdown",
   "id": "424e75ffe263cfe",
   "metadata": {},
   "source": [
    "Calculating the **explicit rating** for the MovieLens dataset. \n",
    "\n",
    "The output consists of two CSR matrices with identical structure: the first matrix contains **the mean review rating** given by user *u_i* to business *b_i*, and the second matrix stores **the timestamp of the latest review** at the same positions. \n",
    "\n",
    "Additionally, two utility dictionaries are provided, containing mappings **between IDs and matrix indices** (and vice versa)."
   ]
  },
  {
   "cell_type": "code",
   "execution_count": 7,
   "id": "1df004a9206b61dc",
   "metadata": {
    "ExecuteTime": {
     "end_time": "2025-04-03T11:41:47.699526Z",
     "start_time": "2025-04-03T11:41:47.260224Z"
    }
   },
   "outputs": [
    {
     "data": {
      "text/plain": [
       "(array([[5., 3., 3., ..., 0., 0., 0.],\n",
       "        [5., 0., 0., ..., 0., 0., 0.],\n",
       "        [0., 0., 0., ..., 0., 0., 0.],\n",
       "        ...,\n",
       "        [0., 0., 0., ..., 0., 0., 0.],\n",
       "        [0., 3., 4., ..., 0., 0., 0.],\n",
       "        [4., 0., 0., ..., 0., 0., 0.]]),\n",
       " array([[978300760, 978302109, 978301968, ...,         0,         0,\n",
       "                 0],\n",
       "        [978298413,         0,         0, ...,         0,         0,\n",
       "                 0],\n",
       "        [        0,         0,         0, ...,         0,         0,\n",
       "                 0],\n",
       "        ...,\n",
       "        [        0,         0,         0, ...,         0,         0,\n",
       "                 0],\n",
       "        [        0, 956706019, 956705872, ...,         0,         0,\n",
       "                 0],\n",
       "        [957716612,         0,         0, ...,         0,         0,\n",
       "                 0]]))"
      ]
     },
     "execution_count": 7,
     "metadata": {},
     "output_type": "execute_result"
    }
   ],
   "source": [
    "explicit_ratings, last_dates, user_mapping, item_mapping = get_explicit_rating(review_df, \"UserID\",\n",
    "                                                                               \"MovieID\", \"Rating\", \"Timestamp\")\n",
    "\n",
    "explicit_ratings.toarray(), last_dates.toarray()"
   ]
  },
  {
   "cell_type": "markdown",
   "id": "41628b75c1544c1",
   "metadata": {},
   "source": [
    "**Sanity check**:\n",
    "* the amount of filled cells in the sparse matrices (`.nnz`) must be the same as **the number of unique pairs** of users and items\n",
    "* the amount is **the same**"
   ]
  },
  {
   "cell_type": "code",
   "execution_count": 8,
   "id": "b408edf5891d8da8",
   "metadata": {
    "ExecuteTime": {
     "end_time": "2025-04-03T11:41:48.005678Z",
     "start_time": "2025-04-03T11:41:47.883833Z"
    }
   },
   "outputs": [
    {
     "data": {
      "text/html": [
       "<div>\n",
       "<style scoped>\n",
       "    .dataframe tbody tr th:only-of-type {\n",
       "        vertical-align: middle;\n",
       "    }\n",
       "\n",
       "    .dataframe tbody tr th {\n",
       "        vertical-align: top;\n",
       "    }\n",
       "\n",
       "    .dataframe thead th {\n",
       "        text-align: right;\n",
       "    }\n",
       "</style>\n",
       "<table border=\"1\" class=\"dataframe\">\n",
       "  <thead>\n",
       "    <tr style=\"text-align: right;\">\n",
       "      <th></th>\n",
       "      <th>Source</th>\n",
       "      <th>Calculated metrics</th>\n",
       "      <th>Value</th>\n",
       "    </tr>\n",
       "  </thead>\n",
       "  <tbody>\n",
       "    <tr>\n",
       "      <th>0</th>\n",
       "      <td>Explicit ratings matrix</td>\n",
       "      <td>Non-zero entries</td>\n",
       "      <td>1000209</td>\n",
       "    </tr>\n",
       "    <tr>\n",
       "      <th>1</th>\n",
       "      <td>Last dates matrix</td>\n",
       "      <td>Non-zero entries</td>\n",
       "      <td>1000209</td>\n",
       "    </tr>\n",
       "    <tr>\n",
       "      <th>2</th>\n",
       "      <td>Filtered review DataFrame</td>\n",
       "      <td>Unique (user_id, business_id) pairs</td>\n",
       "      <td>1000209</td>\n",
       "    </tr>\n",
       "  </tbody>\n",
       "</table>\n",
       "</div>"
      ],
      "text/plain": [
       "                      Source                   Calculated metrics    Value\n",
       "0    Explicit ratings matrix                     Non-zero entries  1000209\n",
       "1          Last dates matrix                     Non-zero entries  1000209\n",
       "2  Filtered review DataFrame  Unique (user_id, business_id) pairs  1000209"
      ]
     },
     "execution_count": 8,
     "metadata": {},
     "output_type": "execute_result"
    }
   ],
   "source": [
    "sanity_check_explicit_matrix(explicit_ratings=explicit_ratings, last_dates=last_dates, review_df=review_df,\n",
    "                             user_field=\"UserID\", item_field=\"MovieID\")"
   ]
  },
  {
   "cell_type": "markdown",
   "id": "a8802e46a3e4cec7",
   "metadata": {},
   "source": [
    "# Train / validation / test split"
   ]
  },
  {
   "cell_type": "markdown",
   "id": "f10d6662e42ee204",
   "metadata": {},
   "source": [
    "Define the divisions within the initial matrix (**test / validation / train** according to the documentation of split function)"
   ]
  },
  {
   "cell_type": "code",
   "execution_count": 9,
   "id": "2f7f3e718d578f20",
   "metadata": {
    "ExecuteTime": {
     "end_time": "2025-04-03T11:41:48.093382Z",
     "start_time": "2025-04-03T11:41:48.082670Z"
    }
   },
   "outputs": [],
   "source": [
    "DIVISIONS = [0.1, 0.2, 0.7]"
   ]
  },
  {
   "cell_type": "markdown",
   "id": "d9a34e69428ff8a4",
   "metadata": {},
   "source": [
    "Split matrix in proportions `0.1, 0.2, 0.7` for **test**, **validation** and **train** set."
   ]
  },
  {
   "cell_type": "code",
   "execution_count": 10,
   "id": "d54262d70dddcde",
   "metadata": {
    "ExecuteTime": {
     "end_time": "2025-04-03T11:41:48.397487Z",
     "start_time": "2025-04-03T11:41:48.108963Z"
    }
   },
   "outputs": [
    {
     "data": {
      "text/plain": [
       "(array([[5., 3., 3., ..., 0., 0., 0.],\n",
       "        [5., 0., 0., ..., 0., 0., 0.],\n",
       "        [0., 0., 0., ..., 0., 0., 0.],\n",
       "        ...,\n",
       "        [0., 0., 0., ..., 0., 0., 0.],\n",
       "        [0., 0., 4., ..., 0., 0., 0.],\n",
       "        [4., 0., 0., ..., 0., 0., 0.]]),\n",
       " array([[0., 0., 0., ..., 0., 0., 0.],\n",
       "        [0., 0., 0., ..., 0., 0., 0.],\n",
       "        [0., 0., 0., ..., 0., 0., 0.],\n",
       "        ...,\n",
       "        [0., 0., 0., ..., 0., 0., 0.],\n",
       "        [0., 3., 0., ..., 0., 0., 0.],\n",
       "        [0., 0., 0., ..., 0., 0., 0.]]),\n",
       " array([[0., 0., 0., ..., 0., 0., 0.],\n",
       "        [0., 0., 0., ..., 0., 0., 0.],\n",
       "        [0., 0., 0., ..., 0., 0., 0.],\n",
       "        ...,\n",
       "        [0., 0., 0., ..., 0., 0., 0.],\n",
       "        [0., 0., 0., ..., 0., 0., 0.],\n",
       "        [0., 0., 0., ..., 0., 0., 0.]]))"
      ]
     },
     "execution_count": 10,
     "metadata": {},
     "output_type": "execute_result"
    }
   ],
   "source": [
    "test_matrix, validation_matrix, train_matrix = split_matrix_csr(explicit_ratings, last_dates, DIVISIONS)\n",
    "train_matrix.toarray(), validation_matrix.toarray(), test_matrix.toarray()"
   ]
  },
  {
   "cell_type": "markdown",
   "id": "a208982b357ab2d8",
   "metadata": {},
   "source": [
    "**Sanity check** (verify that the explicit matrix has been correctly split into **train, validation, and test** subsets):\n",
    "* The total number of interactions (nnz) in the splits matches the original explicit matrix.\n",
    "* The proportions of data in each split (Train, Validation, Test) **almost** align with the intended ratios.\n",
    "* No interactions are lost during the split."
   ]
  },
  {
   "cell_type": "code",
   "execution_count": 11,
   "id": "a7fb79cbe410b048",
   "metadata": {
    "ExecuteTime": {
     "end_time": "2025-04-03T11:41:48.432064Z",
     "start_time": "2025-04-03T11:41:48.417123Z"
    }
   },
   "outputs": [
    {
     "data": {
      "text/html": [
       "<div>\n",
       "<style scoped>\n",
       "    .dataframe tbody tr th:only-of-type {\n",
       "        vertical-align: middle;\n",
       "    }\n",
       "\n",
       "    .dataframe tbody tr th {\n",
       "        vertical-align: top;\n",
       "    }\n",
       "\n",
       "    .dataframe thead th {\n",
       "        text-align: right;\n",
       "    }\n",
       "</style>\n",
       "<table border=\"1\" class=\"dataframe\">\n",
       "  <thead>\n",
       "    <tr style=\"text-align: right;\">\n",
       "      <th></th>\n",
       "      <th>Split</th>\n",
       "      <th>Number of interactions</th>\n",
       "      <th>Part of factual interactions</th>\n",
       "    </tr>\n",
       "  </thead>\n",
       "  <tbody>\n",
       "    <tr>\n",
       "      <th>0</th>\n",
       "      <td>Train</td>\n",
       "      <td>701042</td>\n",
       "      <td>70.09%</td>\n",
       "    </tr>\n",
       "    <tr>\n",
       "      <th>1</th>\n",
       "      <td>Validation</td>\n",
       "      <td>199516</td>\n",
       "      <td>19.95%</td>\n",
       "    </tr>\n",
       "    <tr>\n",
       "      <th>2</th>\n",
       "      <td>Test</td>\n",
       "      <td>99651</td>\n",
       "      <td>9.96%</td>\n",
       "    </tr>\n",
       "    <tr>\n",
       "      <th>3</th>\n",
       "      <td>Explicit total</td>\n",
       "      <td>1000209</td>\n",
       "      <td>100.0%</td>\n",
       "    </tr>\n",
       "    <tr>\n",
       "      <th>4</th>\n",
       "      <td>Factual total</td>\n",
       "      <td>1000209</td>\n",
       "      <td>100%</td>\n",
       "    </tr>\n",
       "  </tbody>\n",
       "</table>\n",
       "</div>"
      ],
      "text/plain": [
       "            Split  Number of interactions Part of factual interactions\n",
       "0           Train                  701042                       70.09%\n",
       "1      Validation                  199516                       19.95%\n",
       "2            Test                   99651                        9.96%\n",
       "3  Explicit total                 1000209                       100.0%\n",
       "4   Factual total                 1000209                         100%"
      ]
     },
     "execution_count": 11,
     "metadata": {},
     "output_type": "execute_result"
    }
   ],
   "source": [
    "sanity_check_explicit_split(train_matrix=train_matrix, validation_matrix=validation_matrix, test_matrix=test_matrix, explicit_matrix=explicit_ratings)"
   ]
  },
  {
   "cell_type": "markdown",
   "id": "cd70b271d5347c2e",
   "metadata": {},
   "source": [
    "# Implicit rating extraction for train dataset"
   ]
  },
  {
   "cell_type": "markdown",
   "id": "45ec87552fa22dab",
   "metadata": {},
   "source": [
    "**The threshold** for implicit ratings calculations (only positive ratings are considered and explicit ratings are `from 1 to 5`)"
   ]
  },
  {
   "cell_type": "code",
   "execution_count": 12,
   "id": "4c564eaf8c1145ea",
   "metadata": {
    "ExecuteTime": {
     "end_time": "2025-04-03T11:41:48.485318Z",
     "start_time": "2025-04-03T11:41:48.474314Z"
    }
   },
   "outputs": [],
   "source": [
    "IMPLICIT_THRESHOLD = 4"
   ]
  },
  {
   "cell_type": "markdown",
   "id": "e8e5720f54cfc354",
   "metadata": {},
   "source": [
    "Calculate the **implicit rating** in the following way:\n",
    "* calculate the amount of reviews from `u_i` to `b_i` that have the number of starts is above `IMPLICIT_THRESHOLD`\n",
    "\n",
    "Final artifact:\n",
    "* dict in the format `{<user_id>: {<item_id>: <amount of positive reviews>} }`"
   ]
  },
  {
   "cell_type": "code",
   "execution_count": 13,
   "id": "f23fb209bf4684ae",
   "metadata": {
    "ExecuteTime": {
     "end_time": "2025-04-03T11:41:48.886506Z",
     "start_time": "2025-04-03T11:41:48.529375Z"
    }
   },
   "outputs": [
    {
     "data": {
      "text/plain": [
       "(6038, 6040)"
      ]
     },
     "execution_count": 13,
     "metadata": {},
     "output_type": "execute_result"
    }
   ],
   "source": [
    "implicit_ratings = get_implicit_rating_out_of_positive_ratings_df(df=review_df, user_field='UserID',item_field='MovieID', rating_field='Rating', implicit_threshold=IMPLICIT_THRESHOLD)\n",
    "\n",
    "len(implicit_ratings.keys()), review_df['UserID'].nunique()"
   ]
  },
  {
   "cell_type": "markdown",
   "id": "47391961eea7c010",
   "metadata": {},
   "source": [
    "**Sanity check** (verify the correctness of the `implicit_ratings` matrix creation from the filtered review DataFrame using a specified `IMPLICIT_THRESHOLD`):\n",
    "\n",
    "Metrics:\n",
    "* Total number of reviews in the original dataset that meet or exceed the implicit threshold.\n",
    "* Confirms that all qualifying reviews were included in the final implicit ratings' matrix.\n",
    "* Number of distinct users present in the MovieLens dataset before conversion.\n",
    "* Ensures that no user information was lost during transformation.\n",
    "* Total movies that were reviewed in the original dataset.\n",
    "* Confirms that all relevant business interactions are retained.\n",
    "\n",
    "Results: \n",
    "* All user and movies counts match between the initial and processed datasets.\n",
    "* The number of implicit ratings is equal to the number of qualifying reviews — indicating a correct threshold-based transformation."
   ]
  },
  {
   "cell_type": "code",
   "execution_count": 14,
   "id": "5fda136f655135c",
   "metadata": {
    "ExecuteTime": {
     "end_time": "2025-04-03T11:42:12.387648Z",
     "start_time": "2025-04-03T11:42:12.339602Z"
    }
   },
   "outputs": [
    {
     "data": {
      "text/html": [
       "<div>\n",
       "<style scoped>\n",
       "    .dataframe tbody tr th:only-of-type {\n",
       "        vertical-align: middle;\n",
       "    }\n",
       "\n",
       "    .dataframe tbody tr th {\n",
       "        vertical-align: top;\n",
       "    }\n",
       "\n",
       "    .dataframe thead th {\n",
       "        text-align: right;\n",
       "    }\n",
       "</style>\n",
       "<table border=\"1\" class=\"dataframe\">\n",
       "  <thead>\n",
       "    <tr style=\"text-align: right;\">\n",
       "      <th></th>\n",
       "      <th>Metric</th>\n",
       "      <th>Value</th>\n",
       "    </tr>\n",
       "  </thead>\n",
       "  <tbody>\n",
       "    <tr>\n",
       "      <th>0</th>\n",
       "      <td>Number of reviews (stars &gt;= threshold)</td>\n",
       "      <td>575281</td>\n",
       "    </tr>\n",
       "    <tr>\n",
       "      <th>1</th>\n",
       "      <td>Number of reviews in implicit_ratings</td>\n",
       "      <td>575281</td>\n",
       "    </tr>\n",
       "    <tr>\n",
       "      <th>2</th>\n",
       "      <td>Unique users in initial reviews</td>\n",
       "      <td>6038</td>\n",
       "    </tr>\n",
       "    <tr>\n",
       "      <th>3</th>\n",
       "      <td>Unique users in implicit_ratings</td>\n",
       "      <td>6038</td>\n",
       "    </tr>\n",
       "    <tr>\n",
       "      <th>4</th>\n",
       "      <td>Unique businesses in initial reviews</td>\n",
       "      <td>3533</td>\n",
       "    </tr>\n",
       "    <tr>\n",
       "      <th>5</th>\n",
       "      <td>Unique businesses in implicit_ratings</td>\n",
       "      <td>3533</td>\n",
       "    </tr>\n",
       "  </tbody>\n",
       "</table>\n",
       "</div>"
      ],
      "text/plain": [
       "                                   Metric   Value\n",
       "0  Number of reviews (stars >= threshold)  575281\n",
       "1   Number of reviews in implicit_ratings  575281\n",
       "2         Unique users in initial reviews    6038\n",
       "3        Unique users in implicit_ratings    6038\n",
       "4    Unique businesses in initial reviews    3533\n",
       "5   Unique businesses in implicit_ratings    3533"
      ]
     },
     "execution_count": 14,
     "metadata": {},
     "output_type": "execute_result"
    }
   ],
   "source": [
    "sanity_check_implicit_rating(initial_df=review_df, implicit_ratings=implicit_ratings, implicit_threshold=IMPLICIT_THRESHOLD, user_field='UserID',item_field='MovieID', rating_field='Rating')"
   ]
  },
  {
   "cell_type": "markdown",
   "id": "eb41e4fe398885ce",
   "metadata": {},
   "source": [
    "# Hyperparameters tuning"
   ]
  },
  {
   "cell_type": "markdown",
   "id": "4ad05b6b3baf0507",
   "metadata": {},
   "source": [
    "Define potential values of hyperparameters for the implementation of **SVD++** "
   ]
  },
  {
   "cell_type": "code",
   "execution_count": 15,
   "id": "59d5361fbd0d5fb3",
   "metadata": {},
   "outputs": [],
   "source": [
    "svd_pp_param_grid = {\n",
    "    'n_factors': [20, 40, 70, 100, 150],    # Number of latent factors\n",
    "    'n_epochs': [10, 20, 30, 50],           # Number of training iterations\n",
    "    'lr_all': [0.002, 0.005, 0.007, 0.01],  # Learning rate\n",
    "    'reg_all': [0.02, 0.05, 0.1, 0.2]       # Regularization strength\n",
    "}"
   ]
  },
  {
   "cell_type": "markdown",
   "id": "2e1907cc85511445",
   "metadata": {},
   "source": [
    "Using **train and validation** dataset conduct grid search based on **RMSE** metric and extract the best hyperparameters for the target metric on the validation dataset. \n",
    "\n",
    "Best hyperparameters (based on validation matrix):\n",
    "* **learning rate**: _\n",
    "* **number of epochs**: _\n",
    "* **number of hidden factors**: _\n",
    "* **regularization term**: _\n",
    "\n",
    "Best RMSE: **1.111** (in average the model makes in 1.111 point in rating estimation)"
   ]
  },
  {
   "cell_type": "code",
   "execution_count": 16,
   "id": "e184a80f31ceb3ab",
   "metadata": {},
   "outputs": [
    {
     "name": "stderr",
     "output_type": "stream",
     "text": [
      "INFO:root:Try number: 1\n",
      "INFO:root:Train with params: {'lr_all': 0.002, 'n_epochs': 10, 'n_factors': 20, 'reg_all': 0.02}\n",
      "INFO:root:Epoch: 1\n"
     ]
    },
    {
     "ename": "KeyboardInterrupt",
     "evalue": "",
     "output_type": "error",
     "traceback": [
      "\u001B[31m---------------------------------------------------------------------------\u001B[39m",
      "\u001B[31mKeyboardInterrupt\u001B[39m                         Traceback (most recent call last)",
      "\u001B[36mCell\u001B[39m\u001B[36m \u001B[39m\u001B[32mIn[16]\u001B[39m\u001B[32m, line 5\u001B[39m\n\u001B[32m      1\u001B[39m grid_search_svd_pp = GridSearchSvdPP(train_matrix=train_matrix, val_matrix=validation_matrix,\n\u001B[32m      2\u001B[39m                                      implicit_rating=implicit_ratings, user_mapping=user_mapping,\n\u001B[32m      3\u001B[39m                                      item_mapping=item_mapping, param_grid=svd_pp_param_grid)\n\u001B[32m----> \u001B[39m\u001B[32m5\u001B[39m best_params, best_score, best_svdpp_model = \u001B[43mgrid_search_svd_pp\u001B[49m\u001B[43m.\u001B[49m\u001B[43mrun\u001B[49m\u001B[43m(\u001B[49m\u001B[43m)\u001B[49m\n\u001B[32m      7\u001B[39m \u001B[38;5;28mprint\u001B[39m(\u001B[33mf\u001B[39m\u001B[33m\"\u001B[39m\u001B[33mBest params: \u001B[39m\u001B[38;5;132;01m{\u001B[39;00mbest_params\u001B[38;5;132;01m}\u001B[39;00m\u001B[33m\"\u001B[39m)\n\u001B[32m      8\u001B[39m \u001B[38;5;28mprint\u001B[39m(\u001B[33mf\u001B[39m\u001B[33m\"\u001B[39m\u001B[33mBest RMSE: \u001B[39m\u001B[38;5;132;01m{\u001B[39;00mbest_score\u001B[38;5;132;01m}\u001B[39;00m\u001B[33m\"\u001B[39m)\n",
      "\u001B[36mFile \u001B[39m\u001B[32m~/PycharmProjects/rec-sys-project/rec-sys/svd++/library/tuning.py:83\u001B[39m, in \u001B[36mGridSearchSvdPP.run\u001B[39m\u001B[34m(self)\u001B[39m\n\u001B[32m     80\u001B[39m logging.info(\u001B[33mf\u001B[39m\u001B[33m\"\u001B[39m\u001B[33mTrain with params: \u001B[39m\u001B[38;5;132;01m{\u001B[39;00mparams\u001B[38;5;132;01m}\u001B[39;00m\u001B[33m\"\u001B[39m)\n\u001B[32m     82\u001B[39m \u001B[38;5;66;03m# Train model with current hyperparameters\u001B[39;00m\n\u001B[32m---> \u001B[39m\u001B[32m83\u001B[39m model = \u001B[38;5;28;43mself\u001B[39;49m\u001B[43m.\u001B[49m\u001B[43m_create_model\u001B[49m\u001B[43m(\u001B[49m\u001B[43mparams\u001B[49m\u001B[43m)\u001B[49m\n\u001B[32m     85\u001B[39m \u001B[38;5;66;03m# Compute validation RMSE\u001B[39;00m\n\u001B[32m     86\u001B[39m metric_calculator = \u001B[38;5;28mself\u001B[39m._create_metrics_calculator(model)\n",
      "\u001B[36mFile \u001B[39m\u001B[32m~/PycharmProjects/rec-sys-project/rec-sys/svd++/library/tuning.py:48\u001B[39m, in \u001B[36mGridSearchSvdPP._create_model\u001B[39m\u001B[34m(self, params)\u001B[39m\n\u001B[32m     41\u001B[39m \u001B[38;5;250m\u001B[39m\u001B[33;03m\"\"\"\u001B[39;00m\n\u001B[32m     42\u001B[39m \u001B[33;03mInstantiates and fits the SVD++ model with the given parameters.\u001B[39;00m\n\u001B[32m     43\u001B[39m \n\u001B[32m     44\u001B[39m \u001B[33;03m:param params: Dictionary of hyperparameters.\u001B[39;00m\n\u001B[32m     45\u001B[39m \u001B[33;03m:return: Trained SVDpp model.\u001B[39;00m\n\u001B[32m     46\u001B[39m \u001B[33;03m\"\"\"\u001B[39;00m\n\u001B[32m     47\u001B[39m model = SVDpp(**params)\n\u001B[32m---> \u001B[39m\u001B[32m48\u001B[39m \u001B[43mmodel\u001B[49m\u001B[43m.\u001B[49m\u001B[43mfit\u001B[49m\u001B[43m(\u001B[49m\u001B[43mratings\u001B[49m\u001B[43m=\u001B[49m\u001B[38;5;28;43mself\u001B[39;49m\u001B[43m.\u001B[49m\u001B[43m_train_matrix\u001B[49m\u001B[43m,\u001B[49m\u001B[43m \u001B[49m\u001B[43mimplicit_rating\u001B[49m\u001B[43m=\u001B[49m\u001B[38;5;28;43mself\u001B[39;49m\u001B[43m.\u001B[49m\u001B[43m_implicit_rating\u001B[49m\u001B[43m,\u001B[49m\n\u001B[32m     49\u001B[39m \u001B[43m          \u001B[49m\u001B[43muser_id_to_idx\u001B[49m\u001B[43m=\u001B[49m\u001B[38;5;28;43mself\u001B[39;49m\u001B[43m.\u001B[49m\u001B[43m_user_mapping\u001B[49m\u001B[43m[\u001B[49m\u001B[33;43m'\u001B[39;49m\u001B[33;43mid_to_idx\u001B[39;49m\u001B[33;43m'\u001B[39;49m\u001B[43m]\u001B[49m\u001B[43m,\u001B[49m\u001B[43m \u001B[49m\u001B[43mitem_id_to_idx\u001B[49m\u001B[43m=\u001B[49m\u001B[38;5;28;43mself\u001B[39;49m\u001B[43m.\u001B[49m\u001B[43m_item_mapping\u001B[49m\u001B[43m[\u001B[49m\u001B[33;43m'\u001B[39;49m\u001B[33;43mid_to_idx\u001B[39;49m\u001B[33;43m'\u001B[39;49m\u001B[43m]\u001B[49m\u001B[43m)\u001B[49m\n\u001B[32m     51\u001B[39m \u001B[38;5;28;01mreturn\u001B[39;00m model\n",
      "\u001B[36mFile \u001B[39m\u001B[32m~/PycharmProjects/rec-sys-project/rec-sys/svd++/library/svdpp.py:144\u001B[39m, in \u001B[36mSVDpp.fit\u001B[39m\u001B[34m(self, ratings, implicit_rating, user_id_to_idx, item_id_to_idx)\u001B[39m\n\u001B[32m    138\u001B[39m rows, cols = ratings.nonzero()\n\u001B[32m    140\u001B[39m \u001B[38;5;28;01mfor\u001B[39;00m user_idx, item_idx \u001B[38;5;129;01min\u001B[39;00m \u001B[38;5;28mzip\u001B[39m(rows, cols):\n\u001B[32m    141\u001B[39m     \u001B[38;5;66;03m# logger.info(f\"Epoch: {epoch + 1}, User: {user_idx}, Item: {item_idx}\")\u001B[39;00m\n\u001B[32m    142\u001B[39m \n\u001B[32m    143\u001B[39m     \u001B[38;5;66;03m# Perform gradient descent\u001B[39;00m\n\u001B[32m--> \u001B[39m\u001B[32m144\u001B[39m     \u001B[38;5;28;43mself\u001B[39;49m\u001B[43m.\u001B[49m\u001B[43m_gradient_descent_iteration\u001B[49m\u001B[43m(\u001B[49m\u001B[43muser_idx\u001B[49m\u001B[43m,\u001B[49m\u001B[43m \u001B[49m\u001B[43mitem_idx\u001B[49m\u001B[43m)\u001B[49m\n",
      "\u001B[36mFile \u001B[39m\u001B[32m~/PycharmProjects/rec-sys-project/rec-sys/svd++/library/svdpp.py:282\u001B[39m, in \u001B[36mSVDpp._gradient_descent_iteration\u001B[39m\u001B[34m(self, user_idx, item_idx)\u001B[39m\n\u001B[32m    280\u001B[39m \u001B[38;5;28;01mif\u001B[39;00m user_idx \u001B[38;5;129;01min\u001B[39;00m \u001B[38;5;28mself\u001B[39m._implicit_rating:\n\u001B[32m    281\u001B[39m     \u001B[38;5;28;01mfor\u001B[39;00m j_item_idx, implicit_rating \u001B[38;5;129;01min\u001B[39;00m \u001B[38;5;28mself\u001B[39m._implicit_rating[user_idx].items():\n\u001B[32m--> \u001B[39m\u001B[32m282\u001B[39m         \u001B[38;5;28mself\u001B[39m._implicit_factors[j_item_idx] += \u001B[38;5;28mself\u001B[39m._lr_yj * (\n\u001B[32m    283\u001B[39m                 error * current_item_factors * implicit_rating / sqrt_n -\n\u001B[32m    284\u001B[39m                 \u001B[38;5;28mself\u001B[39m._reg_yj * \u001B[38;5;28mself\u001B[39m._implicit_factors[j_item_idx]\n\u001B[32m    285\u001B[39m         )\n",
      "\u001B[31mKeyboardInterrupt\u001B[39m: "
     ]
    }
   ],
   "source": [
    "grid_search_svd_pp = GridSearchSvdPP(train_matrix=train_matrix, val_matrix=validation_matrix,\n",
    "                                     implicit_rating=implicit_ratings, user_mapping=user_mapping,\n",
    "                                     item_mapping=item_mapping, param_grid=svd_pp_param_grid)\n",
    "\n",
    "best_params, best_score, best_svdpp_model = grid_search_svd_pp.run()\n",
    "\n",
    "print(f\"Best params: {best_params}\")\n",
    "print(f\"Best RMSE: {best_score}\")"
   ]
  },
  {
   "cell_type": "markdown",
   "id": "774d3cfa7bbee915",
   "metadata": {},
   "source": [
    "# Model testing"
   ]
  },
  {
   "cell_type": "markdown",
   "id": "42c8ff80e8a9d667",
   "metadata": {},
   "source": []
  },
  {
   "cell_type": "code",
   "execution_count": null,
   "id": "944412d42c95b125",
   "metadata": {},
   "outputs": [],
   "source": [
    "metrics_calculator = RmseCalculator(test_matrix=test_matrix, model=best_svdpp_model,\n",
    "                                    idx_to_user_id=user_mapping['idx_to_id'],\n",
    "                                    idx_to_item_id=item_mapping['idx_to_id'])\n",
    "\n",
    "metrics_calculator.calculate_rmse()"
   ]
  },
  {
   "cell_type": "markdown",
   "id": "195bffdef7e4eed",
   "metadata": {},
   "source": [
    "# Model saving"
   ]
  },
  {
   "cell_type": "markdown",
   "id": "11a35bf4b987e37a",
   "metadata": {},
   "source": [
    "The following code saves the result object to reuse **the trained model** in the service\n"
   ]
  },
  {
   "cell_type": "code",
   "execution_count": null,
   "id": "5eaaa2d776ec3f4",
   "metadata": {},
   "outputs": [],
   "source": [
    "with open(\"./models/svd_pp_movie_lens.pkl\", \"wb\") as f:\n",
    "    pickle.dump(best_svdpp_model, f)"
   ]
  }
 ],
 "metadata": {
  "kernelspec": {
   "display_name": "Python 3 (ipykernel)",
   "language": "python",
   "name": "python3"
  },
  "language_info": {
   "codemirror_mode": {
    "name": "ipython",
    "version": 3
   },
   "file_extension": ".py",
   "mimetype": "text/x-python",
   "name": "python",
   "nbconvert_exporter": "python",
   "pygments_lexer": "ipython3",
   "version": "3.12.7"
  }
 },
 "nbformat": 4,
 "nbformat_minor": 5
}
