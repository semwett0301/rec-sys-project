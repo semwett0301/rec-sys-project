{
 "cells": [
  {
   "metadata": {},
   "cell_type": "markdown",
   "source": [
    "from typing import Tuple, Dict, Any\n",
    "!pip install -r ../../../requirements.txt"
   ],
   "id": "118de5559bbff018"
  },
  {
   "metadata": {
    "ExecuteTime": {
     "end_time": "2025-03-21T00:31:15.319414Z",
     "start_time": "2025-03-21T00:31:15.312077Z"
    }
   },
   "cell_type": "code",
   "source": [
    "import os\n",
    "import sys\n",
    "\n",
    "parent_dir = os.path.abspath('..')\n",
    "sys.path.insert(0, parent_dir)"
   ],
   "id": "10211374a0c94e4",
   "outputs": [],
   "execution_count": 1
  },
  {
   "metadata": {
    "ExecuteTime": {
     "end_time": "2025-03-21T00:31:15.330083Z",
     "start_time": "2025-03-21T00:31:15.326554Z"
    }
   },
   "cell_type": "code",
   "source": [
    "import logging\n",
    "\n",
    "logging.basicConfig(level=logging.INFO)\n",
    "logger = logging.getLogger(__name__)"
   ],
   "id": "95a25f34a32aba57",
   "outputs": [],
   "execution_count": 2
  },
  {
   "cell_type": "code",
   "id": "initial_id",
   "metadata": {
    "ExecuteTime": {
     "end_time": "2025-03-21T00:31:16.245642Z",
     "start_time": "2025-03-21T00:31:15.395718Z"
    }
   },
   "source": [
    "import pandas as pd\n",
    "pd.options.mode.chained_assignment = None  # Disable the warning\n",
    "\n",
    "import pickle\n",
    "import numpy as np\n",
    "import kagglehub\n",
    "\n",
    "from library.rating import get_explicit_rating, get_implicit_rating_out_of_positive_ratings, split_matrix\n",
    "from library.svdpp import SVDpp"
   ],
   "outputs": [
    {
     "name": "stderr",
     "output_type": "stream",
     "text": [
      "INFO:numexpr.utils:Note: NumExpr detected 10 cores but \"NUMEXPR_MAX_THREADS\" not set, so enforcing safe limit of 8.\n",
      "INFO:numexpr.utils:NumExpr defaulting to 8 threads.\n"
     ]
    }
   ],
   "execution_count": 3
  },
  {
   "metadata": {},
   "cell_type": "markdown",
   "source": "# Feature selection",
   "id": "e808d84ca54b0857"
  },
  {
   "cell_type": "markdown",
   "id": "83367425b5ad6944",
   "metadata": {},
   "source": [
    "The only dataset that is necessary for our purposes is **review** dataset since:\n",
    "- it contains the information about explicit ratings (the mean of the field **stars** for pairs of users and items, check the chapter **Feature engineering** for more details)\n",
    "- it contains the information for implicit rating (check the chapter **Feature engineering** for more details)\n",
    "- it already contains only those users who provided at least one review and those items that received at least one estimation"
   ]
  },
  {
   "metadata": {},
   "cell_type": "markdown",
   "source": [
    "There are two paths of working with the dataset that contains more than **900 000** rows\n",
    "\n",
    "*The standard flow:*\n",
    "1. Download dataset from Kaggle\n",
    "2. Drop the reviews for closed businesses (`is_open == True`)\n",
    "3. Drop the reviews were provided by users that assessed less than **threshold** items (check the threshold definition in `/eda/yelp.ipynb`) \n",
    "4. Use all the dataset in the purpose of analysis, training and testing\n",
    "\n",
    "*The \"sampled\" flow* (provided in `/eda/yelp.ipynb`):\n",
    "1. Download dataset from Kaggle\n",
    "2. Drop the reviews for closed businesses (`is_open == True`)\n",
    "3. Drop the reviews were provided by users that assessed less than **threshold** items (check the threshold definition in `/eda/yelp.ipynb`) \n",
    "4. Sample **10%** randomly\n",
    "5. Check similarity of mathematical moments (`.describe()`) and dataset balancing (`.value_counts()`) with main dataset (initial YELP)\n",
    "\n",
    "In the purpose of time-efficiency and due to the lack of power **the \"sampled\" flow** was chosen during EDA, and the sampled dataset was saved using the following path **`/eda/dataset_samples`**"
   ],
   "id": "8139c4caed516a19"
  },
  {
   "metadata": {
    "ExecuteTime": {
     "end_time": "2025-03-21T00:31:16.255204Z",
     "start_time": "2025-03-21T00:31:16.252510Z"
    }
   },
   "cell_type": "code",
   "source": "PATH = '../../../eda/dataset_samples/sampled_yelp.csv'",
   "id": "426d1d6fe8ceb80b",
   "outputs": [],
   "execution_count": 4
  },
  {
   "cell_type": "markdown",
   "id": "51f4b738e48e7294",
   "metadata": {},
   "source": [
    "Reviews' features:\n",
    "- `review_id` | `user_id` | `business_id` - id of the review and foreign keys (one user can leave several reviews for one item)\n",
    "- `stars` - **explicit rating** provided by user for the particular item in the particular moment\n",
    "- `useful` | `funny` | `cool`  - user's flags about (presumably) review. We don't drop this feature since it's necessary to get any evidences that theory about the nature of the feature is right - check the **opportunity of usage them for implicit rating** \n",
    "- `text` - the content of review (can be useful for potential sentimental analysis)\n",
    "- `date` - the timestamp of review"
   ]
  },
  {
   "cell_type": "code",
   "id": "f88dd88230fa18a4",
   "metadata": {
    "ExecuteTime": {
     "end_time": "2025-03-21T00:31:20.868976Z",
     "start_time": "2025-03-21T00:31:16.265735Z"
    }
   },
   "source": [
    "review_df = pd.read_csv(PATH)\n",
    "review_df"
   ],
   "outputs": [
    {
     "data": {
      "text/plain": [
       "                     review_id                 user_id  \\\n",
       "0       J5Q1gH4ACCj6CtQG7Yom7g  56gL9KEJNHiSDUoyjk2o3Q   \n",
       "1       HlXP79ecTquSVXmjM10QxQ  bAt9OUFX9ZRgGLCXG22UmA   \n",
       "2       JBBULrjyGx6vHto2osk_CQ  NRHPcLq2vGWqgqwVugSgnQ   \n",
       "3       U9-43s8YUl6GWBFCpxUGEw  PAxc0qpqt5c2kA0rjDFFAg   \n",
       "4       8T8EGa_4Cj12M6w8vRgUsQ  BqPR1Dp5Rb_QYs9_fz9RiA   \n",
       "...                        ...                     ...   \n",
       "699023  35n-AfizcW5N5KoKkYBSiQ  0PIrTmRx2EXHjAJOxxWvLA   \n",
       "699024  b8_VWg1UF-Xwbg2PBiYDuA  X3fYkqlfQFNI3vP2sS-JWw   \n",
       "699025  ZRNDyqZMoBvfDn1WeKzI3w  ZEcFnCWWT7wGEbPZkPQb0Q   \n",
       "699026  7-uxIDn4CkcBJedNm6IdTw  nWMwtH1xGvn1Utm11Ufxow   \n",
       "699027  lLE0oQumH1yqPH9YpYdmTA  T56vEU0r6Sk9W6vip5FhPA   \n",
       "\n",
       "                   business_id  stars  useful  funny  cool  \\\n",
       "0       8yR12PNSMo6FBYx1u5KPlw      2       1      0     0   \n",
       "1       pBNucviUkNsiqhJv5IFpjg      5       0      0     0   \n",
       "2       8sf9kv6O4GgEb0j1o22N1g      5       0      0     0   \n",
       "3       XwepyB7KjJ-XGJf0vKc6Vg      4       0      0     0   \n",
       "4       prm5wvpp0OHJBlrvTj9uOg      5       0      0     0   \n",
       "...                        ...    ...     ...    ...   ...   \n",
       "699023  IM0gPEyNRUoZVmYZhwuBpQ      5       0      0     0   \n",
       "699024  l_slvEnh4v3W8BXF1gYlcQ      5       0      0     0   \n",
       "699025  Mr7Aov2n7wPCpwaUxk8lCw      4       0      0     0   \n",
       "699026  v9jNsSprsNpERYvyTOAzqw      5       2      1     1   \n",
       "699027  b4dvH9VUIY5mwUr1Y-M1eQ      5       0      0     0   \n",
       "\n",
       "                                                     text                 date  \n",
       "0       Went for lunch and found that my burger was me...  2018-04-04 21:09:53  \n",
       "1       I needed a new tires for my wife's car. They h...  2020-05-24 12:22:14  \n",
       "2       Jim Woltman who works at Goleta Honda is 5 sta...  2019-02-14 03:47:48  \n",
       "3       Been here a few times to get some shrimp.  The...  2013-04-27 01:55:49  \n",
       "4       This is one fantastic place to eat whether you...  2019-05-15 18:29:25  \n",
       "...                                                   ...                  ...  \n",
       "699023  Today was our first time to go here and the st...  2019-04-15 22:55:39  \n",
       "699024  Sharkeez still the best place on State Street ...  2016-01-08 01:11:29  \n",
       "699025  Good vegetarian selections. Excellent sangria....  2013-05-13 12:23:06  \n",
       "699026  Normally I wouldn't review a buffet but I feel...  2019-05-27 18:29:40  \n",
       "699027  Eagle Automotive is a fantastic repair shop ru...  2017-08-03 19:15:01  \n",
       "\n",
       "[699028 rows x 9 columns]"
      ],
      "text/html": [
       "<div>\n",
       "<style scoped>\n",
       "    .dataframe tbody tr th:only-of-type {\n",
       "        vertical-align: middle;\n",
       "    }\n",
       "\n",
       "    .dataframe tbody tr th {\n",
       "        vertical-align: top;\n",
       "    }\n",
       "\n",
       "    .dataframe thead th {\n",
       "        text-align: right;\n",
       "    }\n",
       "</style>\n",
       "<table border=\"1\" class=\"dataframe\">\n",
       "  <thead>\n",
       "    <tr style=\"text-align: right;\">\n",
       "      <th></th>\n",
       "      <th>review_id</th>\n",
       "      <th>user_id</th>\n",
       "      <th>business_id</th>\n",
       "      <th>stars</th>\n",
       "      <th>useful</th>\n",
       "      <th>funny</th>\n",
       "      <th>cool</th>\n",
       "      <th>text</th>\n",
       "      <th>date</th>\n",
       "    </tr>\n",
       "  </thead>\n",
       "  <tbody>\n",
       "    <tr>\n",
       "      <th>0</th>\n",
       "      <td>J5Q1gH4ACCj6CtQG7Yom7g</td>\n",
       "      <td>56gL9KEJNHiSDUoyjk2o3Q</td>\n",
       "      <td>8yR12PNSMo6FBYx1u5KPlw</td>\n",
       "      <td>2</td>\n",
       "      <td>1</td>\n",
       "      <td>0</td>\n",
       "      <td>0</td>\n",
       "      <td>Went for lunch and found that my burger was me...</td>\n",
       "      <td>2018-04-04 21:09:53</td>\n",
       "    </tr>\n",
       "    <tr>\n",
       "      <th>1</th>\n",
       "      <td>HlXP79ecTquSVXmjM10QxQ</td>\n",
       "      <td>bAt9OUFX9ZRgGLCXG22UmA</td>\n",
       "      <td>pBNucviUkNsiqhJv5IFpjg</td>\n",
       "      <td>5</td>\n",
       "      <td>0</td>\n",
       "      <td>0</td>\n",
       "      <td>0</td>\n",
       "      <td>I needed a new tires for my wife's car. They h...</td>\n",
       "      <td>2020-05-24 12:22:14</td>\n",
       "    </tr>\n",
       "    <tr>\n",
       "      <th>2</th>\n",
       "      <td>JBBULrjyGx6vHto2osk_CQ</td>\n",
       "      <td>NRHPcLq2vGWqgqwVugSgnQ</td>\n",
       "      <td>8sf9kv6O4GgEb0j1o22N1g</td>\n",
       "      <td>5</td>\n",
       "      <td>0</td>\n",
       "      <td>0</td>\n",
       "      <td>0</td>\n",
       "      <td>Jim Woltman who works at Goleta Honda is 5 sta...</td>\n",
       "      <td>2019-02-14 03:47:48</td>\n",
       "    </tr>\n",
       "    <tr>\n",
       "      <th>3</th>\n",
       "      <td>U9-43s8YUl6GWBFCpxUGEw</td>\n",
       "      <td>PAxc0qpqt5c2kA0rjDFFAg</td>\n",
       "      <td>XwepyB7KjJ-XGJf0vKc6Vg</td>\n",
       "      <td>4</td>\n",
       "      <td>0</td>\n",
       "      <td>0</td>\n",
       "      <td>0</td>\n",
       "      <td>Been here a few times to get some shrimp.  The...</td>\n",
       "      <td>2013-04-27 01:55:49</td>\n",
       "    </tr>\n",
       "    <tr>\n",
       "      <th>4</th>\n",
       "      <td>8T8EGa_4Cj12M6w8vRgUsQ</td>\n",
       "      <td>BqPR1Dp5Rb_QYs9_fz9RiA</td>\n",
       "      <td>prm5wvpp0OHJBlrvTj9uOg</td>\n",
       "      <td>5</td>\n",
       "      <td>0</td>\n",
       "      <td>0</td>\n",
       "      <td>0</td>\n",
       "      <td>This is one fantastic place to eat whether you...</td>\n",
       "      <td>2019-05-15 18:29:25</td>\n",
       "    </tr>\n",
       "    <tr>\n",
       "      <th>...</th>\n",
       "      <td>...</td>\n",
       "      <td>...</td>\n",
       "      <td>...</td>\n",
       "      <td>...</td>\n",
       "      <td>...</td>\n",
       "      <td>...</td>\n",
       "      <td>...</td>\n",
       "      <td>...</td>\n",
       "      <td>...</td>\n",
       "    </tr>\n",
       "    <tr>\n",
       "      <th>699023</th>\n",
       "      <td>35n-AfizcW5N5KoKkYBSiQ</td>\n",
       "      <td>0PIrTmRx2EXHjAJOxxWvLA</td>\n",
       "      <td>IM0gPEyNRUoZVmYZhwuBpQ</td>\n",
       "      <td>5</td>\n",
       "      <td>0</td>\n",
       "      <td>0</td>\n",
       "      <td>0</td>\n",
       "      <td>Today was our first time to go here and the st...</td>\n",
       "      <td>2019-04-15 22:55:39</td>\n",
       "    </tr>\n",
       "    <tr>\n",
       "      <th>699024</th>\n",
       "      <td>b8_VWg1UF-Xwbg2PBiYDuA</td>\n",
       "      <td>X3fYkqlfQFNI3vP2sS-JWw</td>\n",
       "      <td>l_slvEnh4v3W8BXF1gYlcQ</td>\n",
       "      <td>5</td>\n",
       "      <td>0</td>\n",
       "      <td>0</td>\n",
       "      <td>0</td>\n",
       "      <td>Sharkeez still the best place on State Street ...</td>\n",
       "      <td>2016-01-08 01:11:29</td>\n",
       "    </tr>\n",
       "    <tr>\n",
       "      <th>699025</th>\n",
       "      <td>ZRNDyqZMoBvfDn1WeKzI3w</td>\n",
       "      <td>ZEcFnCWWT7wGEbPZkPQb0Q</td>\n",
       "      <td>Mr7Aov2n7wPCpwaUxk8lCw</td>\n",
       "      <td>4</td>\n",
       "      <td>0</td>\n",
       "      <td>0</td>\n",
       "      <td>0</td>\n",
       "      <td>Good vegetarian selections. Excellent sangria....</td>\n",
       "      <td>2013-05-13 12:23:06</td>\n",
       "    </tr>\n",
       "    <tr>\n",
       "      <th>699026</th>\n",
       "      <td>7-uxIDn4CkcBJedNm6IdTw</td>\n",
       "      <td>nWMwtH1xGvn1Utm11Ufxow</td>\n",
       "      <td>v9jNsSprsNpERYvyTOAzqw</td>\n",
       "      <td>5</td>\n",
       "      <td>2</td>\n",
       "      <td>1</td>\n",
       "      <td>1</td>\n",
       "      <td>Normally I wouldn't review a buffet but I feel...</td>\n",
       "      <td>2019-05-27 18:29:40</td>\n",
       "    </tr>\n",
       "    <tr>\n",
       "      <th>699027</th>\n",
       "      <td>lLE0oQumH1yqPH9YpYdmTA</td>\n",
       "      <td>T56vEU0r6Sk9W6vip5FhPA</td>\n",
       "      <td>b4dvH9VUIY5mwUr1Y-M1eQ</td>\n",
       "      <td>5</td>\n",
       "      <td>0</td>\n",
       "      <td>0</td>\n",
       "      <td>0</td>\n",
       "      <td>Eagle Automotive is a fantastic repair shop ru...</td>\n",
       "      <td>2017-08-03 19:15:01</td>\n",
       "    </tr>\n",
       "  </tbody>\n",
       "</table>\n",
       "<p>699028 rows × 9 columns</p>\n",
       "</div>"
      ]
     },
     "execution_count": 5,
     "metadata": {},
     "output_type": "execute_result"
    }
   ],
   "execution_count": 5
  },
  {
   "metadata": {},
   "cell_type": "markdown",
   "source": [
    "Reasons of feature dropping:\n",
    "- since `useful | funny | cool` features describe the preferences of other users about this particular review, not an item, they can't be used for calculations of **explicit** and **implicit** ratings (our assumption is that these features are reactions that user can give to review that theoretically describes the user-to-user relations) \n",
    "- `review_id` won't be dropped, but will be used for indexing since it's unique field\n",
    "- `text` of review won't be used for implicit or explicit ratings so this feature can be also dropped "
   ],
   "id": "879e12e98109e516"
  },
  {
   "metadata": {
    "ExecuteTime": {
     "end_time": "2025-03-21T00:31:20.925224Z",
     "start_time": "2025-03-21T00:31:20.895353Z"
    }
   },
   "cell_type": "code",
   "source": [
    "REMAINED_FEATURES = ['review_id', 'user_id', 'business_id', 'stars', 'date']\n",
    "\n",
    "filtered_review_df = review_df[REMAINED_FEATURES]\n",
    "filtered_review_df.set_index('review_id', inplace=True)\n",
    "filtered_review_df"
   ],
   "id": "4337e6f613e58988",
   "outputs": [
    {
     "data": {
      "text/plain": [
       "                                       user_id             business_id  stars  \\\n",
       "review_id                                                                       \n",
       "J5Q1gH4ACCj6CtQG7Yom7g  56gL9KEJNHiSDUoyjk2o3Q  8yR12PNSMo6FBYx1u5KPlw      2   \n",
       "HlXP79ecTquSVXmjM10QxQ  bAt9OUFX9ZRgGLCXG22UmA  pBNucviUkNsiqhJv5IFpjg      5   \n",
       "JBBULrjyGx6vHto2osk_CQ  NRHPcLq2vGWqgqwVugSgnQ  8sf9kv6O4GgEb0j1o22N1g      5   \n",
       "U9-43s8YUl6GWBFCpxUGEw  PAxc0qpqt5c2kA0rjDFFAg  XwepyB7KjJ-XGJf0vKc6Vg      4   \n",
       "8T8EGa_4Cj12M6w8vRgUsQ  BqPR1Dp5Rb_QYs9_fz9RiA  prm5wvpp0OHJBlrvTj9uOg      5   \n",
       "...                                        ...                     ...    ...   \n",
       "35n-AfizcW5N5KoKkYBSiQ  0PIrTmRx2EXHjAJOxxWvLA  IM0gPEyNRUoZVmYZhwuBpQ      5   \n",
       "b8_VWg1UF-Xwbg2PBiYDuA  X3fYkqlfQFNI3vP2sS-JWw  l_slvEnh4v3W8BXF1gYlcQ      5   \n",
       "ZRNDyqZMoBvfDn1WeKzI3w  ZEcFnCWWT7wGEbPZkPQb0Q  Mr7Aov2n7wPCpwaUxk8lCw      4   \n",
       "7-uxIDn4CkcBJedNm6IdTw  nWMwtH1xGvn1Utm11Ufxow  v9jNsSprsNpERYvyTOAzqw      5   \n",
       "lLE0oQumH1yqPH9YpYdmTA  T56vEU0r6Sk9W6vip5FhPA  b4dvH9VUIY5mwUr1Y-M1eQ      5   \n",
       "\n",
       "                                       date  \n",
       "review_id                                    \n",
       "J5Q1gH4ACCj6CtQG7Yom7g  2018-04-04 21:09:53  \n",
       "HlXP79ecTquSVXmjM10QxQ  2020-05-24 12:22:14  \n",
       "JBBULrjyGx6vHto2osk_CQ  2019-02-14 03:47:48  \n",
       "U9-43s8YUl6GWBFCpxUGEw  2013-04-27 01:55:49  \n",
       "8T8EGa_4Cj12M6w8vRgUsQ  2019-05-15 18:29:25  \n",
       "...                                     ...  \n",
       "35n-AfizcW5N5KoKkYBSiQ  2019-04-15 22:55:39  \n",
       "b8_VWg1UF-Xwbg2PBiYDuA  2016-01-08 01:11:29  \n",
       "ZRNDyqZMoBvfDn1WeKzI3w  2013-05-13 12:23:06  \n",
       "7-uxIDn4CkcBJedNm6IdTw  2019-05-27 18:29:40  \n",
       "lLE0oQumH1yqPH9YpYdmTA  2017-08-03 19:15:01  \n",
       "\n",
       "[699028 rows x 4 columns]"
      ],
      "text/html": [
       "<div>\n",
       "<style scoped>\n",
       "    .dataframe tbody tr th:only-of-type {\n",
       "        vertical-align: middle;\n",
       "    }\n",
       "\n",
       "    .dataframe tbody tr th {\n",
       "        vertical-align: top;\n",
       "    }\n",
       "\n",
       "    .dataframe thead th {\n",
       "        text-align: right;\n",
       "    }\n",
       "</style>\n",
       "<table border=\"1\" class=\"dataframe\">\n",
       "  <thead>\n",
       "    <tr style=\"text-align: right;\">\n",
       "      <th></th>\n",
       "      <th>user_id</th>\n",
       "      <th>business_id</th>\n",
       "      <th>stars</th>\n",
       "      <th>date</th>\n",
       "    </tr>\n",
       "    <tr>\n",
       "      <th>review_id</th>\n",
       "      <th></th>\n",
       "      <th></th>\n",
       "      <th></th>\n",
       "      <th></th>\n",
       "    </tr>\n",
       "  </thead>\n",
       "  <tbody>\n",
       "    <tr>\n",
       "      <th>J5Q1gH4ACCj6CtQG7Yom7g</th>\n",
       "      <td>56gL9KEJNHiSDUoyjk2o3Q</td>\n",
       "      <td>8yR12PNSMo6FBYx1u5KPlw</td>\n",
       "      <td>2</td>\n",
       "      <td>2018-04-04 21:09:53</td>\n",
       "    </tr>\n",
       "    <tr>\n",
       "      <th>HlXP79ecTquSVXmjM10QxQ</th>\n",
       "      <td>bAt9OUFX9ZRgGLCXG22UmA</td>\n",
       "      <td>pBNucviUkNsiqhJv5IFpjg</td>\n",
       "      <td>5</td>\n",
       "      <td>2020-05-24 12:22:14</td>\n",
       "    </tr>\n",
       "    <tr>\n",
       "      <th>JBBULrjyGx6vHto2osk_CQ</th>\n",
       "      <td>NRHPcLq2vGWqgqwVugSgnQ</td>\n",
       "      <td>8sf9kv6O4GgEb0j1o22N1g</td>\n",
       "      <td>5</td>\n",
       "      <td>2019-02-14 03:47:48</td>\n",
       "    </tr>\n",
       "    <tr>\n",
       "      <th>U9-43s8YUl6GWBFCpxUGEw</th>\n",
       "      <td>PAxc0qpqt5c2kA0rjDFFAg</td>\n",
       "      <td>XwepyB7KjJ-XGJf0vKc6Vg</td>\n",
       "      <td>4</td>\n",
       "      <td>2013-04-27 01:55:49</td>\n",
       "    </tr>\n",
       "    <tr>\n",
       "      <th>8T8EGa_4Cj12M6w8vRgUsQ</th>\n",
       "      <td>BqPR1Dp5Rb_QYs9_fz9RiA</td>\n",
       "      <td>prm5wvpp0OHJBlrvTj9uOg</td>\n",
       "      <td>5</td>\n",
       "      <td>2019-05-15 18:29:25</td>\n",
       "    </tr>\n",
       "    <tr>\n",
       "      <th>...</th>\n",
       "      <td>...</td>\n",
       "      <td>...</td>\n",
       "      <td>...</td>\n",
       "      <td>...</td>\n",
       "    </tr>\n",
       "    <tr>\n",
       "      <th>35n-AfizcW5N5KoKkYBSiQ</th>\n",
       "      <td>0PIrTmRx2EXHjAJOxxWvLA</td>\n",
       "      <td>IM0gPEyNRUoZVmYZhwuBpQ</td>\n",
       "      <td>5</td>\n",
       "      <td>2019-04-15 22:55:39</td>\n",
       "    </tr>\n",
       "    <tr>\n",
       "      <th>b8_VWg1UF-Xwbg2PBiYDuA</th>\n",
       "      <td>X3fYkqlfQFNI3vP2sS-JWw</td>\n",
       "      <td>l_slvEnh4v3W8BXF1gYlcQ</td>\n",
       "      <td>5</td>\n",
       "      <td>2016-01-08 01:11:29</td>\n",
       "    </tr>\n",
       "    <tr>\n",
       "      <th>ZRNDyqZMoBvfDn1WeKzI3w</th>\n",
       "      <td>ZEcFnCWWT7wGEbPZkPQb0Q</td>\n",
       "      <td>Mr7Aov2n7wPCpwaUxk8lCw</td>\n",
       "      <td>4</td>\n",
       "      <td>2013-05-13 12:23:06</td>\n",
       "    </tr>\n",
       "    <tr>\n",
       "      <th>7-uxIDn4CkcBJedNm6IdTw</th>\n",
       "      <td>nWMwtH1xGvn1Utm11Ufxow</td>\n",
       "      <td>v9jNsSprsNpERYvyTOAzqw</td>\n",
       "      <td>5</td>\n",
       "      <td>2019-05-27 18:29:40</td>\n",
       "    </tr>\n",
       "    <tr>\n",
       "      <th>lLE0oQumH1yqPH9YpYdmTA</th>\n",
       "      <td>T56vEU0r6Sk9W6vip5FhPA</td>\n",
       "      <td>b4dvH9VUIY5mwUr1Y-M1eQ</td>\n",
       "      <td>5</td>\n",
       "      <td>2017-08-03 19:15:01</td>\n",
       "    </tr>\n",
       "  </tbody>\n",
       "</table>\n",
       "<p>699028 rows × 4 columns</p>\n",
       "</div>"
      ]
     },
     "execution_count": 6,
     "metadata": {},
     "output_type": "execute_result"
    }
   ],
   "execution_count": 6
  },
  {
   "metadata": {},
   "cell_type": "markdown",
   "source": "# Rating extracting",
   "id": "12daa31e816702f8"
  },
  {
   "metadata": {},
   "cell_type": "markdown",
   "source": "Below predefined constants for this section",
   "id": "9d6eb688f54c5b7b"
  },
  {
   "metadata": {
    "ExecuteTime": {
     "end_time": "2025-03-21T00:31:21.000380Z",
     "start_time": "2025-03-21T00:31:20.998397Z"
    }
   },
   "cell_type": "code",
   "source": [
    "# The threshold for implicit ratings calculations (only positive ratings are considered and explicit ratings are from 1 to 5)\n",
    "IMPLICIT_THRESHOLD = 4"
   ],
   "id": "60c0b95f4aecba67",
   "outputs": [],
   "execution_count": 7
  },
  {
   "metadata": {},
   "cell_type": "markdown",
   "source": "",
   "id": "1266928437da2d7a"
  },
  {
   "metadata": {
    "ExecuteTime": {
     "end_time": "2025-03-21T00:31:21.203446Z",
     "start_time": "2025-03-21T00:31:21.075478Z"
    }
   },
   "cell_type": "code",
   "source": [
    "filtered_review_df[\"date\"] = pd.to_datetime(filtered_review_df[\"date\"]).astype(np.int64) // 10**9 \n",
    "filtered_review_df"
   ],
   "id": "51b089a2afe6fe6f",
   "outputs": [
    {
     "data": {
      "text/plain": [
       "                                       user_id             business_id  stars  \\\n",
       "review_id                                                                       \n",
       "J5Q1gH4ACCj6CtQG7Yom7g  56gL9KEJNHiSDUoyjk2o3Q  8yR12PNSMo6FBYx1u5KPlw      2   \n",
       "HlXP79ecTquSVXmjM10QxQ  bAt9OUFX9ZRgGLCXG22UmA  pBNucviUkNsiqhJv5IFpjg      5   \n",
       "JBBULrjyGx6vHto2osk_CQ  NRHPcLq2vGWqgqwVugSgnQ  8sf9kv6O4GgEb0j1o22N1g      5   \n",
       "U9-43s8YUl6GWBFCpxUGEw  PAxc0qpqt5c2kA0rjDFFAg  XwepyB7KjJ-XGJf0vKc6Vg      4   \n",
       "8T8EGa_4Cj12M6w8vRgUsQ  BqPR1Dp5Rb_QYs9_fz9RiA  prm5wvpp0OHJBlrvTj9uOg      5   \n",
       "...                                        ...                     ...    ...   \n",
       "35n-AfizcW5N5KoKkYBSiQ  0PIrTmRx2EXHjAJOxxWvLA  IM0gPEyNRUoZVmYZhwuBpQ      5   \n",
       "b8_VWg1UF-Xwbg2PBiYDuA  X3fYkqlfQFNI3vP2sS-JWw  l_slvEnh4v3W8BXF1gYlcQ      5   \n",
       "ZRNDyqZMoBvfDn1WeKzI3w  ZEcFnCWWT7wGEbPZkPQb0Q  Mr7Aov2n7wPCpwaUxk8lCw      4   \n",
       "7-uxIDn4CkcBJedNm6IdTw  nWMwtH1xGvn1Utm11Ufxow  v9jNsSprsNpERYvyTOAzqw      5   \n",
       "lLE0oQumH1yqPH9YpYdmTA  T56vEU0r6Sk9W6vip5FhPA  b4dvH9VUIY5mwUr1Y-M1eQ      5   \n",
       "\n",
       "                              date  \n",
       "review_id                           \n",
       "J5Q1gH4ACCj6CtQG7Yom7g  1522876193  \n",
       "HlXP79ecTquSVXmjM10QxQ  1590322934  \n",
       "JBBULrjyGx6vHto2osk_CQ  1550116068  \n",
       "U9-43s8YUl6GWBFCpxUGEw  1367027749  \n",
       "8T8EGa_4Cj12M6w8vRgUsQ  1557944965  \n",
       "...                            ...  \n",
       "35n-AfizcW5N5KoKkYBSiQ  1555368939  \n",
       "b8_VWg1UF-Xwbg2PBiYDuA  1452215489  \n",
       "ZRNDyqZMoBvfDn1WeKzI3w  1368447786  \n",
       "7-uxIDn4CkcBJedNm6IdTw  1558981780  \n",
       "lLE0oQumH1yqPH9YpYdmTA  1501787701  \n",
       "\n",
       "[699028 rows x 4 columns]"
      ],
      "text/html": [
       "<div>\n",
       "<style scoped>\n",
       "    .dataframe tbody tr th:only-of-type {\n",
       "        vertical-align: middle;\n",
       "    }\n",
       "\n",
       "    .dataframe tbody tr th {\n",
       "        vertical-align: top;\n",
       "    }\n",
       "\n",
       "    .dataframe thead th {\n",
       "        text-align: right;\n",
       "    }\n",
       "</style>\n",
       "<table border=\"1\" class=\"dataframe\">\n",
       "  <thead>\n",
       "    <tr style=\"text-align: right;\">\n",
       "      <th></th>\n",
       "      <th>user_id</th>\n",
       "      <th>business_id</th>\n",
       "      <th>stars</th>\n",
       "      <th>date</th>\n",
       "    </tr>\n",
       "    <tr>\n",
       "      <th>review_id</th>\n",
       "      <th></th>\n",
       "      <th></th>\n",
       "      <th></th>\n",
       "      <th></th>\n",
       "    </tr>\n",
       "  </thead>\n",
       "  <tbody>\n",
       "    <tr>\n",
       "      <th>J5Q1gH4ACCj6CtQG7Yom7g</th>\n",
       "      <td>56gL9KEJNHiSDUoyjk2o3Q</td>\n",
       "      <td>8yR12PNSMo6FBYx1u5KPlw</td>\n",
       "      <td>2</td>\n",
       "      <td>1522876193</td>\n",
       "    </tr>\n",
       "    <tr>\n",
       "      <th>HlXP79ecTquSVXmjM10QxQ</th>\n",
       "      <td>bAt9OUFX9ZRgGLCXG22UmA</td>\n",
       "      <td>pBNucviUkNsiqhJv5IFpjg</td>\n",
       "      <td>5</td>\n",
       "      <td>1590322934</td>\n",
       "    </tr>\n",
       "    <tr>\n",
       "      <th>JBBULrjyGx6vHto2osk_CQ</th>\n",
       "      <td>NRHPcLq2vGWqgqwVugSgnQ</td>\n",
       "      <td>8sf9kv6O4GgEb0j1o22N1g</td>\n",
       "      <td>5</td>\n",
       "      <td>1550116068</td>\n",
       "    </tr>\n",
       "    <tr>\n",
       "      <th>U9-43s8YUl6GWBFCpxUGEw</th>\n",
       "      <td>PAxc0qpqt5c2kA0rjDFFAg</td>\n",
       "      <td>XwepyB7KjJ-XGJf0vKc6Vg</td>\n",
       "      <td>4</td>\n",
       "      <td>1367027749</td>\n",
       "    </tr>\n",
       "    <tr>\n",
       "      <th>8T8EGa_4Cj12M6w8vRgUsQ</th>\n",
       "      <td>BqPR1Dp5Rb_QYs9_fz9RiA</td>\n",
       "      <td>prm5wvpp0OHJBlrvTj9uOg</td>\n",
       "      <td>5</td>\n",
       "      <td>1557944965</td>\n",
       "    </tr>\n",
       "    <tr>\n",
       "      <th>...</th>\n",
       "      <td>...</td>\n",
       "      <td>...</td>\n",
       "      <td>...</td>\n",
       "      <td>...</td>\n",
       "    </tr>\n",
       "    <tr>\n",
       "      <th>35n-AfizcW5N5KoKkYBSiQ</th>\n",
       "      <td>0PIrTmRx2EXHjAJOxxWvLA</td>\n",
       "      <td>IM0gPEyNRUoZVmYZhwuBpQ</td>\n",
       "      <td>5</td>\n",
       "      <td>1555368939</td>\n",
       "    </tr>\n",
       "    <tr>\n",
       "      <th>b8_VWg1UF-Xwbg2PBiYDuA</th>\n",
       "      <td>X3fYkqlfQFNI3vP2sS-JWw</td>\n",
       "      <td>l_slvEnh4v3W8BXF1gYlcQ</td>\n",
       "      <td>5</td>\n",
       "      <td>1452215489</td>\n",
       "    </tr>\n",
       "    <tr>\n",
       "      <th>ZRNDyqZMoBvfDn1WeKzI3w</th>\n",
       "      <td>ZEcFnCWWT7wGEbPZkPQb0Q</td>\n",
       "      <td>Mr7Aov2n7wPCpwaUxk8lCw</td>\n",
       "      <td>4</td>\n",
       "      <td>1368447786</td>\n",
       "    </tr>\n",
       "    <tr>\n",
       "      <th>7-uxIDn4CkcBJedNm6IdTw</th>\n",
       "      <td>nWMwtH1xGvn1Utm11Ufxow</td>\n",
       "      <td>v9jNsSprsNpERYvyTOAzqw</td>\n",
       "      <td>5</td>\n",
       "      <td>1558981780</td>\n",
       "    </tr>\n",
       "    <tr>\n",
       "      <th>lLE0oQumH1yqPH9YpYdmTA</th>\n",
       "      <td>T56vEU0r6Sk9W6vip5FhPA</td>\n",
       "      <td>b4dvH9VUIY5mwUr1Y-M1eQ</td>\n",
       "      <td>5</td>\n",
       "      <td>1501787701</td>\n",
       "    </tr>\n",
       "  </tbody>\n",
       "</table>\n",
       "<p>699028 rows × 4 columns</p>\n",
       "</div>"
      ]
     },
     "execution_count": 8,
     "metadata": {},
     "output_type": "execute_result"
    }
   ],
   "execution_count": 8
  },
  {
   "metadata": {},
   "cell_type": "markdown",
   "source": "## Explicit rating ",
   "id": "ef7d845df3fabe8f"
  },
  {
   "metadata": {
    "ExecuteTime": {
     "end_time": "2025-03-21T00:31:25.403662Z",
     "start_time": "2025-03-21T00:31:21.220286Z"
    }
   },
   "cell_type": "code",
   "source": [
    "explicit_ratings, last_dates, user_mapping, item_mapping = get_explicit_rating(filtered_review_df, \"user_id\", \"business_id\", \"stars\", \"date\")\n",
    "\n",
    "explicit_ratings.toarray() , last_dates.toarray() "
   ],
   "id": "2254f229e3ff32ad",
   "outputs": [
    {
     "data": {
      "text/plain": [
       "(array([[2., 0., 0., ..., 0., 0., 0.],\n",
       "        [0., 5., 0., ..., 0., 0., 0.],\n",
       "        [0., 0., 5., ..., 0., 0., 0.],\n",
       "        ...,\n",
       "        [0., 0., 0., ..., 0., 0., 0.],\n",
       "        [0., 0., 0., ..., 0., 0., 0.],\n",
       "        [0., 0., 0., ..., 0., 0., 0.]]),\n",
       " array([[1522876193,          0,          0, ...,          0,          0,\n",
       "                  0],\n",
       "        [         0, 1590322934,          0, ...,          0,          0,\n",
       "                  0],\n",
       "        [         0,          0, 1550116068, ...,          0,          0,\n",
       "                  0],\n",
       "        ...,\n",
       "        [         0,          0,          0, ...,          0,          0,\n",
       "                  0],\n",
       "        [         0,          0,          0, ...,          0,          0,\n",
       "                  0],\n",
       "        [         0,          0,          0, ...,          0,          0,\n",
       "                  0]]))"
      ]
     },
     "execution_count": 9,
     "metadata": {},
     "output_type": "execute_result"
    }
   ],
   "execution_count": 9
  },
  {
   "metadata": {},
   "cell_type": "markdown",
   "source": "## Implicit rating",
   "id": "92b6ae990f0736f4"
  },
  {
   "metadata": {},
   "cell_type": "markdown",
   "source": "# Train / validation / test split",
   "id": "268aed9bc12c304e"
  },
  {
   "metadata": {
    "ExecuteTime": {
     "end_time": "2025-03-21T00:31:28.344924Z",
     "start_time": "2025-03-21T00:31:25.504217Z"
    }
   },
   "cell_type": "code",
   "source": [
    "DIVISIONS = [0.7, 0.2, 0.1]\n",
    "\n",
    "train_matrix, validation_matrix, test_matrix = split_matrix(explicit_ratings, last_dates, DIVISIONS)\n",
    "train_matrix.toarray(), validation_matrix.toarray(), test_matrix.toarray()"
   ],
   "id": "b1708a82a28d5479",
   "outputs": [
    {
     "data": {
      "text/plain": [
       "(array([[0., 0., 0., ..., 0., 0., 0.],\n",
       "        [0., 0., 0., ..., 0., 0., 0.],\n",
       "        [0., 0., 0., ..., 0., 0., 0.],\n",
       "        ...,\n",
       "        [0., 0., 0., ..., 0., 0., 0.],\n",
       "        [0., 0., 0., ..., 0., 0., 0.],\n",
       "        [0., 0., 0., ..., 0., 0., 0.]]),\n",
       " array([[0., 0., 0., ..., 0., 0., 0.],\n",
       "        [0., 0., 0., ..., 0., 0., 0.],\n",
       "        [0., 0., 0., ..., 0., 0., 0.],\n",
       "        ...,\n",
       "        [0., 0., 0., ..., 0., 0., 0.],\n",
       "        [0., 0., 0., ..., 0., 0., 0.],\n",
       "        [0., 0., 0., ..., 0., 0., 0.]]),\n",
       " array([[0., 0., 0., ..., 0., 0., 0.],\n",
       "        [0., 0., 0., ..., 0., 0., 0.],\n",
       "        [0., 0., 0., ..., 0., 0., 0.],\n",
       "        ...,\n",
       "        [0., 0., 0., ..., 0., 0., 0.],\n",
       "        [0., 0., 0., ..., 0., 0., 0.],\n",
       "        [0., 0., 0., ..., 0., 0., 0.]]))"
      ]
     },
     "execution_count": 10,
     "metadata": {},
     "output_type": "execute_result"
    }
   ],
   "execution_count": 10
  },
  {
   "metadata": {
    "ExecuteTime": {
     "end_time": "2025-03-21T00:31:29.852274Z",
     "start_time": "2025-03-21T00:31:28.420923Z"
    }
   },
   "cell_type": "code",
   "source": [
    "train_df = pd.DataFrame.sparse.from_spmatrix(train_matrix)\n",
    "implicit_ratings = get_implicit_rating_out_of_positive_ratings(train_df, \"user_id\", \"business_id\", \"stars\", IMPLICIT_THRESHOLD)\n",
    "implicit_ratings"
   ],
   "id": "1835cf3fd8cb2e8b",
   "outputs": [
    {
     "ename": "KeyError",
     "evalue": "'stars'",
     "output_type": "error",
     "traceback": [
      "\u001B[0;31m---------------------------------------------------------------------------\u001B[0m",
      "\u001B[0;31mKeyError\u001B[0m                                  Traceback (most recent call last)",
      "Cell \u001B[0;32mIn[11], line 2\u001B[0m\n\u001B[1;32m      1\u001B[0m train_df \u001B[38;5;241m=\u001B[39m pd\u001B[38;5;241m.\u001B[39mDataFrame\u001B[38;5;241m.\u001B[39msparse\u001B[38;5;241m.\u001B[39mfrom_spmatrix(train_matrix)\n\u001B[0;32m----> 2\u001B[0m implicit_ratings \u001B[38;5;241m=\u001B[39m get_implicit_rating_out_of_positive_ratings(train_df, \u001B[38;5;124m\"\u001B[39m\u001B[38;5;124muser_id\u001B[39m\u001B[38;5;124m\"\u001B[39m, \u001B[38;5;124m\"\u001B[39m\u001B[38;5;124mbusiness_id\u001B[39m\u001B[38;5;124m\"\u001B[39m, \u001B[38;5;124m\"\u001B[39m\u001B[38;5;124mstars\u001B[39m\u001B[38;5;124m\"\u001B[39m, IMPLICIT_THRESHOLD)\n\u001B[1;32m      3\u001B[0m implicit_ratings\n",
      "File \u001B[0;32m~/PycharmProjects/rec-sys-project/rec-sys/svd++/library/rating.py:73\u001B[0m, in \u001B[0;36mget_implicit_rating_out_of_positive_ratings\u001B[0;34m(df, user_field, item_field, rating_field, implicit_threshold)\u001B[0m\n\u001B[1;32m     61\u001B[0m \u001B[38;5;250m\u001B[39m\u001B[38;5;124;03m\"\"\"\u001B[39;00m\n\u001B[1;32m     62\u001B[0m \u001B[38;5;124;03mConverts a DataFrame into a dictionary {user_id: {item_id: number of times rating >= implicit_threshold}}.\u001B[39;00m\n\u001B[1;32m     63\u001B[0m \n\u001B[0;32m   (...)\u001B[0m\n\u001B[1;32m     70\u001B[0m \u001B[38;5;124;03m:return: A dictionary in the format {user_id: {item_id: number_of_interactions}}.\u001B[39;00m\n\u001B[1;32m     71\u001B[0m \u001B[38;5;124;03m\"\"\"\u001B[39;00m\n\u001B[1;32m     72\u001B[0m \u001B[38;5;66;03m# Filter out interactions where the rating is below the implicit threshold\u001B[39;00m\n\u001B[0;32m---> 73\u001B[0m filtered_df \u001B[38;5;241m=\u001B[39m df[df[rating_field] \u001B[38;5;241m>\u001B[39m\u001B[38;5;241m=\u001B[39m implicit_threshold]\n\u001B[1;32m     75\u001B[0m \u001B[38;5;66;03m# Count the number of times each user-item pair meets the threshold\u001B[39;00m\n\u001B[1;32m     76\u001B[0m interaction_counts \u001B[38;5;241m=\u001B[39m filtered_df\u001B[38;5;241m.\u001B[39mgroupby([user_field, item_field])\u001B[38;5;241m.\u001B[39msize()\u001B[38;5;241m.\u001B[39mreset_index(name\u001B[38;5;241m=\u001B[39m\u001B[38;5;124m'\u001B[39m\u001B[38;5;124mcount\u001B[39m\u001B[38;5;124m'\u001B[39m)\n",
      "File \u001B[0;32m/opt/homebrew/anaconda3/lib/python3.12/site-packages/pandas/core/frame.py:4102\u001B[0m, in \u001B[0;36mDataFrame.__getitem__\u001B[0;34m(self, key)\u001B[0m\n\u001B[1;32m   4100\u001B[0m \u001B[38;5;28;01mif\u001B[39;00m \u001B[38;5;28mself\u001B[39m\u001B[38;5;241m.\u001B[39mcolumns\u001B[38;5;241m.\u001B[39mnlevels \u001B[38;5;241m>\u001B[39m \u001B[38;5;241m1\u001B[39m:\n\u001B[1;32m   4101\u001B[0m     \u001B[38;5;28;01mreturn\u001B[39;00m \u001B[38;5;28mself\u001B[39m\u001B[38;5;241m.\u001B[39m_getitem_multilevel(key)\n\u001B[0;32m-> 4102\u001B[0m indexer \u001B[38;5;241m=\u001B[39m \u001B[38;5;28mself\u001B[39m\u001B[38;5;241m.\u001B[39mcolumns\u001B[38;5;241m.\u001B[39mget_loc(key)\n\u001B[1;32m   4103\u001B[0m \u001B[38;5;28;01mif\u001B[39;00m is_integer(indexer):\n\u001B[1;32m   4104\u001B[0m     indexer \u001B[38;5;241m=\u001B[39m [indexer]\n",
      "File \u001B[0;32m/opt/homebrew/anaconda3/lib/python3.12/site-packages/pandas/core/indexes/range.py:417\u001B[0m, in \u001B[0;36mRangeIndex.get_loc\u001B[0;34m(self, key)\u001B[0m\n\u001B[1;32m    415\u001B[0m         \u001B[38;5;28;01mraise\u001B[39;00m \u001B[38;5;167;01mKeyError\u001B[39;00m(key) \u001B[38;5;28;01mfrom\u001B[39;00m \u001B[38;5;21;01merr\u001B[39;00m\n\u001B[1;32m    416\u001B[0m \u001B[38;5;28;01mif\u001B[39;00m \u001B[38;5;28misinstance\u001B[39m(key, Hashable):\n\u001B[0;32m--> 417\u001B[0m     \u001B[38;5;28;01mraise\u001B[39;00m \u001B[38;5;167;01mKeyError\u001B[39;00m(key)\n\u001B[1;32m    418\u001B[0m \u001B[38;5;28mself\u001B[39m\u001B[38;5;241m.\u001B[39m_check_indexing_error(key)\n\u001B[1;32m    419\u001B[0m \u001B[38;5;28;01mraise\u001B[39;00m \u001B[38;5;167;01mKeyError\u001B[39;00m(key)\n",
      "\u001B[0;31mKeyError\u001B[0m: 'stars'"
     ]
    }
   ],
   "execution_count": 11
  },
  {
   "metadata": {},
   "cell_type": "markdown",
   "source": "# Hyperparameters tuning",
   "id": "4eb840cb7d2ddc45"
  },
  {
   "metadata": {
    "ExecuteTime": {
     "end_time": "2025-03-21T00:31:29.916489Z",
     "start_time": "2025-03-21T00:12:36.993180Z"
    }
   },
   "cell_type": "code",
   "source": [
    "svd_pp = SVDpp()\n",
    "svd_pp.fit(ratings=train_matrix, implicit_rating=implicit_ratings, user_mapping=user_mapping, item_mapping=item_mapping)\n"
   ],
   "id": "4d1132775e2e8ab4",
   "outputs": [],
   "execution_count": null
  },
  {
   "metadata": {
    "ExecuteTime": {
     "end_time": "2025-03-21T00:31:29.916759Z",
     "start_time": "2025-03-20T23:14:59.267395Z"
    }
   },
   "cell_type": "code",
   "source": "svd_pp.predict(user_id=\"F9vYcUknd9JY2lxsaEObQQ\", item_id=\"T6ihfy4SYiF4PvuE6Y0VPA\")",
   "id": "88860f07a0d8edf1",
   "outputs": [
    {
     "data": {
      "text/plain": [
       "4.5"
      ]
     },
     "execution_count": 12,
     "metadata": {},
     "output_type": "execute_result"
    }
   ],
   "execution_count": 12
  },
  {
   "metadata": {},
   "cell_type": "markdown",
   "source": "# Model testing",
   "id": "a7a434d0b07293bd"
  },
  {
   "metadata": {},
   "cell_type": "markdown",
   "source": "# Model saving ",
   "id": "f2e4a3dc2957f955"
  },
  {
   "metadata": {},
   "cell_type": "markdown",
   "source": "The following code saves the result object to reuse **the trained model** in the service",
   "id": "9b16f90ec2ba33ed"
  },
  {
   "metadata": {
    "ExecuteTime": {
     "end_time": "2025-03-21T00:31:29.916992Z",
     "start_time": "2025-03-20T23:14:59.838455Z"
    }
   },
   "cell_type": "code",
   "source": [
    "with open(\"./models/svd_pp.pkl\", \"wb\") as f:\n",
    "    pickle.dump(svd_pp, f)"
   ],
   "id": "29d1fb7c330a016f",
   "outputs": [],
   "execution_count": 13
  }
 ],
 "metadata": {
  "kernelspec": {
   "display_name": "Python 3 (ipykernel)",
   "language": "python",
   "name": "python3"
  },
  "language_info": {
   "codemirror_mode": {
    "name": "ipython",
    "version": 3
   },
   "file_extension": ".py",
   "mimetype": "text/x-python",
   "name": "python",
   "nbconvert_exporter": "python",
   "pygments_lexer": "ipython3",
   "version": "3.12.7"
  }
 },
 "nbformat": 4,
 "nbformat_minor": 5
}
