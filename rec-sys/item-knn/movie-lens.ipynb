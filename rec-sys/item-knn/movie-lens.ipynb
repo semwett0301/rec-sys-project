{
 "cells": [
  {
   "cell_type": "code",
   "id": "e086eb6d",
   "metadata": {
    "ExecuteTime": {
     "end_time": "2025-04-05T12:50:04.969600Z",
     "start_time": "2025-04-05T12:50:04.967474Z"
    }
   },
   "source": [
    "import pickle\n",
    "\n",
    "import pandas as pd\n",
    "import numpy as np\n",
    "from item_based import ItemBasedRecommender\n",
    "from metrics import TestMetricsCalculator, RmseCalculator\n",
    "from tune_k_item_based import tune_k\n",
    "from rating import get_explicit_rating, get_implicit_rating_out_of_positive_ratings_df, split_matrix_csr, \\\n",
    "    sanity_check_implicit_rating, sanity_check_explicit_split, sanity_check_explicit_matrix\n"
   ],
   "outputs": [],
   "execution_count": 29
  },
  {
   "metadata": {
    "ExecuteTime": {
     "end_time": "2025-04-05T12:51:03.506032Z",
     "start_time": "2025-04-05T12:51:03.503364Z"
    }
   },
   "cell_type": "code",
   "source": [
    "import logging\n",
    "\n",
    "logging.basicConfig(level=logging.INFO)\n",
    "logger = logging.getLogger(__name__)"
   ],
   "id": "8b99129617250936",
   "outputs": [],
   "execution_count": 33
  },
  {
   "cell_type": "code",
   "id": "43da094e",
   "metadata": {
    "ExecuteTime": {
     "end_time": "2025-04-05T12:42:56.068159Z",
     "start_time": "2025-04-05T12:42:56.060400Z"
    }
   },
   "source": [
    "# Load Yelp dataset (JSON format)\n",
    "\n",
    "movielens_file_path = \"../../eda/dataset_samples/df_movie_lens.parquet\"\n",
    "movielens_df = pd.read_parquet(movielens_file_path)\n",
    "movielens_df.head()\n",
    "\n",
    "\n"
   ],
   "outputs": [
    {
     "data": {
      "text/plain": [
       "   user_id  movie_id  Rating       Date YearMonth\n",
       "0     5621       358       1 2000-05-23   2000-05\n",
       "1     5112      2450       1 2000-06-30   2000-06\n",
       "2      203       147       1 2000-12-16   2000-12\n",
       "3     4387      1007       1 2000-08-05   2000-08\n",
       "4     5980      2414       1 2000-04-28   2000-04"
      ],
      "text/html": [
       "<div>\n",
       "<style scoped>\n",
       "    .dataframe tbody tr th:only-of-type {\n",
       "        vertical-align: middle;\n",
       "    }\n",
       "\n",
       "    .dataframe tbody tr th {\n",
       "        vertical-align: top;\n",
       "    }\n",
       "\n",
       "    .dataframe thead th {\n",
       "        text-align: right;\n",
       "    }\n",
       "</style>\n",
       "<table border=\"1\" class=\"dataframe\">\n",
       "  <thead>\n",
       "    <tr style=\"text-align: right;\">\n",
       "      <th></th>\n",
       "      <th>user_id</th>\n",
       "      <th>movie_id</th>\n",
       "      <th>Rating</th>\n",
       "      <th>Date</th>\n",
       "      <th>YearMonth</th>\n",
       "    </tr>\n",
       "  </thead>\n",
       "  <tbody>\n",
       "    <tr>\n",
       "      <th>0</th>\n",
       "      <td>5621</td>\n",
       "      <td>358</td>\n",
       "      <td>1</td>\n",
       "      <td>2000-05-23</td>\n",
       "      <td>2000-05</td>\n",
       "    </tr>\n",
       "    <tr>\n",
       "      <th>1</th>\n",
       "      <td>5112</td>\n",
       "      <td>2450</td>\n",
       "      <td>1</td>\n",
       "      <td>2000-06-30</td>\n",
       "      <td>2000-06</td>\n",
       "    </tr>\n",
       "    <tr>\n",
       "      <th>2</th>\n",
       "      <td>203</td>\n",
       "      <td>147</td>\n",
       "      <td>1</td>\n",
       "      <td>2000-12-16</td>\n",
       "      <td>2000-12</td>\n",
       "    </tr>\n",
       "    <tr>\n",
       "      <th>3</th>\n",
       "      <td>4387</td>\n",
       "      <td>1007</td>\n",
       "      <td>1</td>\n",
       "      <td>2000-08-05</td>\n",
       "      <td>2000-08</td>\n",
       "    </tr>\n",
       "    <tr>\n",
       "      <th>4</th>\n",
       "      <td>5980</td>\n",
       "      <td>2414</td>\n",
       "      <td>1</td>\n",
       "      <td>2000-04-28</td>\n",
       "      <td>2000-04</td>\n",
       "    </tr>\n",
       "  </tbody>\n",
       "</table>\n",
       "</div>"
      ]
     },
     "execution_count": 8,
     "metadata": {},
     "output_type": "execute_result"
    }
   ],
   "execution_count": 8
  },
  {
   "cell_type": "code",
   "id": "5b44d43a",
   "metadata": {
    "ExecuteTime": {
     "end_time": "2025-04-05T12:43:21.614138Z",
     "start_time": "2025-04-05T12:43:21.602718Z"
    }
   },
   "source": [
    "movielens_df[\"Date\"] = pd.to_datetime(movielens_df[\"Date\"]).astype(np.int64) // 10 ** 9\n",
    "movielens_df"
   ],
   "outputs": [
    {
     "data": {
      "text/plain": [
       "      user_id  movie_id  Rating       Date YearMonth\n",
       "0        5621       358       1  959040000   2000-05\n",
       "1        5112      2450       1  962323200   2000-06\n",
       "2         203       147       1  976924800   2000-12\n",
       "3        4387      1007       1  965433600   2000-08\n",
       "4        5980      2414       1  956880000   2000-04\n",
       "...       ...       ...     ...        ...       ...\n",
       "9941     1041      2186       5  974937600   2000-11\n",
       "9942     3842      1963       5  965865600   2000-08\n",
       "9943     1324      1213       5  974764800   2000-11\n",
       "9944     3580       353       5  966643200   2000-08\n",
       "9945      834      1307       5  975283200   2000-11\n",
       "\n",
       "[9946 rows x 5 columns]"
      ],
      "text/html": [
       "<div>\n",
       "<style scoped>\n",
       "    .dataframe tbody tr th:only-of-type {\n",
       "        vertical-align: middle;\n",
       "    }\n",
       "\n",
       "    .dataframe tbody tr th {\n",
       "        vertical-align: top;\n",
       "    }\n",
       "\n",
       "    .dataframe thead th {\n",
       "        text-align: right;\n",
       "    }\n",
       "</style>\n",
       "<table border=\"1\" class=\"dataframe\">\n",
       "  <thead>\n",
       "    <tr style=\"text-align: right;\">\n",
       "      <th></th>\n",
       "      <th>user_id</th>\n",
       "      <th>movie_id</th>\n",
       "      <th>Rating</th>\n",
       "      <th>Date</th>\n",
       "      <th>YearMonth</th>\n",
       "    </tr>\n",
       "  </thead>\n",
       "  <tbody>\n",
       "    <tr>\n",
       "      <th>0</th>\n",
       "      <td>5621</td>\n",
       "      <td>358</td>\n",
       "      <td>1</td>\n",
       "      <td>959040000</td>\n",
       "      <td>2000-05</td>\n",
       "    </tr>\n",
       "    <tr>\n",
       "      <th>1</th>\n",
       "      <td>5112</td>\n",
       "      <td>2450</td>\n",
       "      <td>1</td>\n",
       "      <td>962323200</td>\n",
       "      <td>2000-06</td>\n",
       "    </tr>\n",
       "    <tr>\n",
       "      <th>2</th>\n",
       "      <td>203</td>\n",
       "      <td>147</td>\n",
       "      <td>1</td>\n",
       "      <td>976924800</td>\n",
       "      <td>2000-12</td>\n",
       "    </tr>\n",
       "    <tr>\n",
       "      <th>3</th>\n",
       "      <td>4387</td>\n",
       "      <td>1007</td>\n",
       "      <td>1</td>\n",
       "      <td>965433600</td>\n",
       "      <td>2000-08</td>\n",
       "    </tr>\n",
       "    <tr>\n",
       "      <th>4</th>\n",
       "      <td>5980</td>\n",
       "      <td>2414</td>\n",
       "      <td>1</td>\n",
       "      <td>956880000</td>\n",
       "      <td>2000-04</td>\n",
       "    </tr>\n",
       "    <tr>\n",
       "      <th>...</th>\n",
       "      <td>...</td>\n",
       "      <td>...</td>\n",
       "      <td>...</td>\n",
       "      <td>...</td>\n",
       "      <td>...</td>\n",
       "    </tr>\n",
       "    <tr>\n",
       "      <th>9941</th>\n",
       "      <td>1041</td>\n",
       "      <td>2186</td>\n",
       "      <td>5</td>\n",
       "      <td>974937600</td>\n",
       "      <td>2000-11</td>\n",
       "    </tr>\n",
       "    <tr>\n",
       "      <th>9942</th>\n",
       "      <td>3842</td>\n",
       "      <td>1963</td>\n",
       "      <td>5</td>\n",
       "      <td>965865600</td>\n",
       "      <td>2000-08</td>\n",
       "    </tr>\n",
       "    <tr>\n",
       "      <th>9943</th>\n",
       "      <td>1324</td>\n",
       "      <td>1213</td>\n",
       "      <td>5</td>\n",
       "      <td>974764800</td>\n",
       "      <td>2000-11</td>\n",
       "    </tr>\n",
       "    <tr>\n",
       "      <th>9944</th>\n",
       "      <td>3580</td>\n",
       "      <td>353</td>\n",
       "      <td>5</td>\n",
       "      <td>966643200</td>\n",
       "      <td>2000-08</td>\n",
       "    </tr>\n",
       "    <tr>\n",
       "      <th>9945</th>\n",
       "      <td>834</td>\n",
       "      <td>1307</td>\n",
       "      <td>5</td>\n",
       "      <td>975283200</td>\n",
       "      <td>2000-11</td>\n",
       "    </tr>\n",
       "  </tbody>\n",
       "</table>\n",
       "<p>9946 rows × 5 columns</p>\n",
       "</div>"
      ]
     },
     "execution_count": 10,
     "metadata": {},
     "output_type": "execute_result"
    }
   ],
   "execution_count": 10
  },
  {
   "cell_type": "code",
   "id": "81acf951",
   "metadata": {
    "ExecuteTime": {
     "end_time": "2025-04-05T12:43:45.193882Z",
     "start_time": "2025-04-05T12:43:45.180982Z"
    }
   },
   "source": [
    "explicit_ratings, last_dates, user_mapping, item_mapping = get_explicit_rating(movielens_df, \"user_id\",\n",
    "                                                                               \"movie_id\", \"Rating\", \"Date\")\n",
    "\n",
    "explicit_ratings.toarray(), last_dates.toarray()"
   ],
   "outputs": [
    {
     "data": {
      "text/plain": [
       "(array([[1., 0., 0., ..., 0., 0., 0.],\n",
       "        [0., 1., 0., ..., 0., 0., 0.],\n",
       "        [0., 0., 1., ..., 0., 0., 0.],\n",
       "        ...,\n",
       "        [0., 0., 0., ..., 0., 0., 0.],\n",
       "        [0., 0., 0., ..., 0., 0., 0.],\n",
       "        [0., 0., 0., ..., 0., 0., 0.]]),\n",
       " array([[959040000,         0,         0, ...,         0,         0,\n",
       "                 0],\n",
       "        [        0, 962323200,         0, ...,         0,         0,\n",
       "                 0],\n",
       "        [        0,         0, 976924800, ...,         0,         0,\n",
       "                 0],\n",
       "        ...,\n",
       "        [        0,         0,         0, ...,         0,         0,\n",
       "                 0],\n",
       "        [        0,         0,         0, ...,         0,         0,\n",
       "                 0],\n",
       "        [        0,         0,         0, ...,         0,         0,\n",
       "                 0]]))"
      ]
     },
     "execution_count": 13,
     "metadata": {},
     "output_type": "execute_result"
    }
   ],
   "execution_count": 13
  },
  {
   "cell_type": "code",
   "id": "a36fbdb7",
   "metadata": {
    "ExecuteTime": {
     "end_time": "2025-04-05T12:43:47.686927Z",
     "start_time": "2025-04-05T12:43:47.680290Z"
    }
   },
   "source": [
    "sanity_check_explicit_matrix(explicit_ratings=explicit_ratings, last_dates=last_dates, review_df=movielens_df,\n",
    "                             user_field=\"user_id\", item_field=\"movie_id\")"
   ],
   "outputs": [
    {
     "data": {
      "text/plain": [
       "                      Source                   Calculated metrics  Value\n",
       "0    Explicit ratings matrix                     Non-zero entries   9946\n",
       "1          Last dates matrix                     Non-zero entries   9946\n",
       "2  Filtered review DataFrame  Unique (user_id, business_id) pairs   9946"
      ],
      "text/html": [
       "<div>\n",
       "<style scoped>\n",
       "    .dataframe tbody tr th:only-of-type {\n",
       "        vertical-align: middle;\n",
       "    }\n",
       "\n",
       "    .dataframe tbody tr th {\n",
       "        vertical-align: top;\n",
       "    }\n",
       "\n",
       "    .dataframe thead th {\n",
       "        text-align: right;\n",
       "    }\n",
       "</style>\n",
       "<table border=\"1\" class=\"dataframe\">\n",
       "  <thead>\n",
       "    <tr style=\"text-align: right;\">\n",
       "      <th></th>\n",
       "      <th>Source</th>\n",
       "      <th>Calculated metrics</th>\n",
       "      <th>Value</th>\n",
       "    </tr>\n",
       "  </thead>\n",
       "  <tbody>\n",
       "    <tr>\n",
       "      <th>0</th>\n",
       "      <td>Explicit ratings matrix</td>\n",
       "      <td>Non-zero entries</td>\n",
       "      <td>9946</td>\n",
       "    </tr>\n",
       "    <tr>\n",
       "      <th>1</th>\n",
       "      <td>Last dates matrix</td>\n",
       "      <td>Non-zero entries</td>\n",
       "      <td>9946</td>\n",
       "    </tr>\n",
       "    <tr>\n",
       "      <th>2</th>\n",
       "      <td>Filtered review DataFrame</td>\n",
       "      <td>Unique (user_id, business_id) pairs</td>\n",
       "      <td>9946</td>\n",
       "    </tr>\n",
       "  </tbody>\n",
       "</table>\n",
       "</div>"
      ]
     },
     "execution_count": 14,
     "metadata": {},
     "output_type": "execute_result"
    }
   ],
   "execution_count": 14
  },
  {
   "cell_type": "code",
   "id": "2dba8647",
   "metadata": {
    "ExecuteTime": {
     "end_time": "2025-04-05T12:43:49.711961Z",
     "start_time": "2025-04-05T12:43:49.708825Z"
    }
   },
   "source": [
    "DIVISIONS = [0.1, 0.2, 0.7]"
   ],
   "outputs": [],
   "execution_count": 15
  },
  {
   "cell_type": "code",
   "id": "b5dc652a",
   "metadata": {
    "ExecuteTime": {
     "end_time": "2025-04-05T12:43:50.866124Z",
     "start_time": "2025-04-05T12:43:50.844420Z"
    }
   },
   "source": [
    "test_matrix, validation_matrix, train_matrix = split_matrix_csr(explicit_ratings, last_dates, DIVISIONS)\n",
    "train_matrix.toarray(), validation_matrix.toarray(), test_matrix.toarray()"
   ],
   "outputs": [
    {
     "data": {
      "text/plain": [
       "(array([[1., 0., 0., ..., 0., 0., 0.],\n",
       "        [0., 1., 0., ..., 0., 0., 0.],\n",
       "        [0., 0., 1., ..., 0., 0., 0.],\n",
       "        ...,\n",
       "        [0., 0., 0., ..., 0., 0., 0.],\n",
       "        [0., 0., 0., ..., 0., 0., 0.],\n",
       "        [0., 0., 0., ..., 0., 0., 0.]]),\n",
       " array([[0., 0., 0., ..., 0., 0., 0.],\n",
       "        [0., 0., 0., ..., 0., 0., 0.],\n",
       "        [0., 0., 0., ..., 0., 0., 0.],\n",
       "        ...,\n",
       "        [0., 0., 0., ..., 0., 0., 0.],\n",
       "        [0., 0., 0., ..., 0., 0., 0.],\n",
       "        [0., 0., 0., ..., 0., 0., 0.]]),\n",
       " array([[0., 0., 0., ..., 0., 0., 0.],\n",
       "        [0., 0., 0., ..., 0., 0., 0.],\n",
       "        [0., 0., 0., ..., 0., 0., 0.],\n",
       "        ...,\n",
       "        [0., 0., 0., ..., 0., 0., 0.],\n",
       "        [0., 0., 0., ..., 0., 0., 0.],\n",
       "        [0., 0., 0., ..., 0., 0., 0.]]))"
      ]
     },
     "execution_count": 16,
     "metadata": {},
     "output_type": "execute_result"
    }
   ],
   "execution_count": 16
  },
  {
   "cell_type": "code",
   "id": "5434212c",
   "metadata": {
    "ExecuteTime": {
     "end_time": "2025-04-05T12:43:52.510410Z",
     "start_time": "2025-04-05T12:43:52.502522Z"
    }
   },
   "source": [
    "sanity_check_explicit_split(train_matrix=train_matrix, validation_matrix=validation_matrix, test_matrix=test_matrix,\n",
    "                            explicit_matrix=explicit_ratings)"
   ],
   "outputs": [
    {
     "data": {
      "text/plain": [
       "            Split  Number of interactions Part of factual interactions\n",
       "0           Train                    7013                       70.51%\n",
       "1      Validation                    1981                       19.92%\n",
       "2            Test                     952                        9.57%\n",
       "3  Explicit total                    9946                       100.0%\n",
       "4   Factual total                    9946                         100%"
      ],
      "text/html": [
       "<div>\n",
       "<style scoped>\n",
       "    .dataframe tbody tr th:only-of-type {\n",
       "        vertical-align: middle;\n",
       "    }\n",
       "\n",
       "    .dataframe tbody tr th {\n",
       "        vertical-align: top;\n",
       "    }\n",
       "\n",
       "    .dataframe thead th {\n",
       "        text-align: right;\n",
       "    }\n",
       "</style>\n",
       "<table border=\"1\" class=\"dataframe\">\n",
       "  <thead>\n",
       "    <tr style=\"text-align: right;\">\n",
       "      <th></th>\n",
       "      <th>Split</th>\n",
       "      <th>Number of interactions</th>\n",
       "      <th>Part of factual interactions</th>\n",
       "    </tr>\n",
       "  </thead>\n",
       "  <tbody>\n",
       "    <tr>\n",
       "      <th>0</th>\n",
       "      <td>Train</td>\n",
       "      <td>7013</td>\n",
       "      <td>70.51%</td>\n",
       "    </tr>\n",
       "    <tr>\n",
       "      <th>1</th>\n",
       "      <td>Validation</td>\n",
       "      <td>1981</td>\n",
       "      <td>19.92%</td>\n",
       "    </tr>\n",
       "    <tr>\n",
       "      <th>2</th>\n",
       "      <td>Test</td>\n",
       "      <td>952</td>\n",
       "      <td>9.57%</td>\n",
       "    </tr>\n",
       "    <tr>\n",
       "      <th>3</th>\n",
       "      <td>Explicit total</td>\n",
       "      <td>9946</td>\n",
       "      <td>100.0%</td>\n",
       "    </tr>\n",
       "    <tr>\n",
       "      <th>4</th>\n",
       "      <td>Factual total</td>\n",
       "      <td>9946</td>\n",
       "      <td>100%</td>\n",
       "    </tr>\n",
       "  </tbody>\n",
       "</table>\n",
       "</div>"
      ]
     },
     "execution_count": 17,
     "metadata": {},
     "output_type": "execute_result"
    }
   ],
   "execution_count": 17
  },
  {
   "cell_type": "code",
   "id": "646b49fb",
   "metadata": {
    "ExecuteTime": {
     "end_time": "2025-04-05T12:43:55.847945Z",
     "start_time": "2025-04-05T12:43:55.844900Z"
    }
   },
   "source": [
    "IMPLICIT_THRESHOLD = 4"
   ],
   "outputs": [],
   "execution_count": 18
  },
  {
   "cell_type": "code",
   "id": "38a6d546",
   "metadata": {
    "ExecuteTime": {
     "end_time": "2025-04-05T12:44:05.514966Z",
     "start_time": "2025-04-05T12:44:05.504041Z"
    }
   },
   "source": [
    "implicit_ratings = get_implicit_rating_out_of_positive_ratings_df(df=movielens_df, user_field='user_id',\n",
    "                                                                  item_field='movie_id', rating_field='Rating',\n",
    "                                                                  implicit_threshold=IMPLICIT_THRESHOLD)\n",
    "\n",
    "len(implicit_ratings.keys()), movielens_df['user_id'].nunique()"
   ],
   "outputs": [
    {
     "data": {
      "text/plain": [
       "(579, 597)"
      ]
     },
     "execution_count": 20,
     "metadata": {},
     "output_type": "execute_result"
    }
   ],
   "execution_count": 20
  },
  {
   "cell_type": "code",
   "id": "835f8aa2",
   "metadata": {
    "ExecuteTime": {
     "end_time": "2025-04-05T12:44:38.388363Z",
     "start_time": "2025-04-05T12:44:38.382204Z"
    }
   },
   "source": [
    "sanity_check_implicit_rating(initial_df=movielens_df, implicit_ratings=implicit_ratings,\n",
    "                             implicit_threshold=IMPLICIT_THRESHOLD, item_field='movie_id', user_field='user_id',\n",
    "                             rating_field='Rating')"
   ],
   "outputs": [
    {
     "data": {
      "text/plain": [
       "                                   Metric  Value\n",
       "0  Number of reviews (stars >= threshold)   5667\n",
       "1   Number of reviews in implicit_ratings   5667\n",
       "2         Unique users in initial reviews    579\n",
       "3        Unique users in implicit_ratings    579\n",
       "4    Unique businesses in initial reviews   1607\n",
       "5   Unique businesses in implicit_ratings   1607"
      ],
      "text/html": [
       "<div>\n",
       "<style scoped>\n",
       "    .dataframe tbody tr th:only-of-type {\n",
       "        vertical-align: middle;\n",
       "    }\n",
       "\n",
       "    .dataframe tbody tr th {\n",
       "        vertical-align: top;\n",
       "    }\n",
       "\n",
       "    .dataframe thead th {\n",
       "        text-align: right;\n",
       "    }\n",
       "</style>\n",
       "<table border=\"1\" class=\"dataframe\">\n",
       "  <thead>\n",
       "    <tr style=\"text-align: right;\">\n",
       "      <th></th>\n",
       "      <th>Metric</th>\n",
       "      <th>Value</th>\n",
       "    </tr>\n",
       "  </thead>\n",
       "  <tbody>\n",
       "    <tr>\n",
       "      <th>0</th>\n",
       "      <td>Number of reviews (stars &gt;= threshold)</td>\n",
       "      <td>5667</td>\n",
       "    </tr>\n",
       "    <tr>\n",
       "      <th>1</th>\n",
       "      <td>Number of reviews in implicit_ratings</td>\n",
       "      <td>5667</td>\n",
       "    </tr>\n",
       "    <tr>\n",
       "      <th>2</th>\n",
       "      <td>Unique users in initial reviews</td>\n",
       "      <td>579</td>\n",
       "    </tr>\n",
       "    <tr>\n",
       "      <th>3</th>\n",
       "      <td>Unique users in implicit_ratings</td>\n",
       "      <td>579</td>\n",
       "    </tr>\n",
       "    <tr>\n",
       "      <th>4</th>\n",
       "      <td>Unique businesses in initial reviews</td>\n",
       "      <td>1607</td>\n",
       "    </tr>\n",
       "    <tr>\n",
       "      <th>5</th>\n",
       "      <td>Unique businesses in implicit_ratings</td>\n",
       "      <td>1607</td>\n",
       "    </tr>\n",
       "  </tbody>\n",
       "</table>\n",
       "</div>"
      ]
     },
     "execution_count": 21,
     "metadata": {},
     "output_type": "execute_result"
    }
   ],
   "execution_count": 21
  },
  {
   "cell_type": "code",
   "id": "aa03514d",
   "metadata": {
    "ExecuteTime": {
     "end_time": "2025-04-05T12:44:48.563100Z",
     "start_time": "2025-04-05T12:44:42.907835Z"
    }
   },
   "source": [
    "# Tune k using the elbow method and lowest validation RMSE\n",
    "best_k, elbow_k, results_df, *_ = tune_k(\n",
    "    train_matrix,\n",
    "    validation_matrix,\n",
    "    test_matrix,\n",
    "    user_mapping=user_mapping,\n",
    "    item_mapping=item_mapping\n",
    ")\n",
    "\n",
    "print(f\"Best K (lowest validation RMSE): {best_k}\")\n",
    "print(f\"Elbow K (stability cutoff): {elbow_k}\")\n"
   ],
   "outputs": [
    {
     "name": "stdout",
     "output_type": "stream",
     "text": [
      "\n",
      "Starting K tuning for Item-Based Collaborative Filtering...\n"
     ]
    },
    {
     "name": "stderr",
     "output_type": "stream",
     "text": [
      "Testing different K values: 100%|██████████| 20/20 [00:05<00:00,  3.57it/s]"
     ]
    },
    {
     "name": "stdout",
     "output_type": "stream",
     "text": [
      "\n",
      "Tuning Complete\n",
      "Best K (lowest validation RMSE): 10\n",
      "Elbow Point K: 35\n",
      "Best K (lowest validation RMSE): 10\n",
      "Elbow K (stability cutoff): 35\n"
     ]
    },
    {
     "name": "stderr",
     "output_type": "stream",
     "text": [
      "\n"
     ]
    }
   ],
   "execution_count": 22
  },
  {
   "cell_type": "code",
   "id": "eb24378b",
   "metadata": {
    "ExecuteTime": {
     "end_time": "2025-04-05T12:44:48.731794Z",
     "start_time": "2025-04-05T12:44:48.692706Z"
    }
   },
   "source": [
    "# Train the model with optimal k\n",
    "recommender = ItemBasedRecommender(k=elbow_k)\n",
    "recommender.fit(train_matrix, user_mapping, item_mapping)\n"
   ],
   "outputs": [],
   "execution_count": 23
  },
  {
   "metadata": {
    "ExecuteTime": {
     "end_time": "2025-04-05T12:50:17.066254Z",
     "start_time": "2025-04-05T12:50:17.056046Z"
    }
   },
   "cell_type": "code",
   "source": [
    "with open(\"../../models/item_knn_colab_movie_lens.pkl\", \"wb\") as f:\n",
    "    pickle.dump(recommender, f)"
   ],
   "id": "ff3a319d59328286",
   "outputs": [],
   "execution_count": 30
  },
  {
   "cell_type": "code",
   "id": "ae450d69",
   "metadata": {
    "ExecuteTime": {
     "end_time": "2025-04-05T12:51:37.125192Z",
     "start_time": "2025-04-05T12:51:06.423376Z"
    }
   },
   "source": [
    "metrics_calculator = TestMetricsCalculator(\n",
    "    test_matrix=test_matrix,\n",
    "    model=recommender,\n",
    "    idx_to_user_id=user_mapping['idx_to_id'],\n",
    "    idx_to_item_id=item_mapping['idx_to_id']\n",
    ")"
   ],
   "outputs": [],
   "execution_count": 34
  },
  {
   "metadata": {
    "ExecuteTime": {
     "end_time": "2025-04-05T12:52:31.824856Z",
     "start_time": "2025-04-05T12:52:31.821147Z"
    }
   },
   "cell_type": "code",
   "source": "metrics_calculator.get_test_set_statistic()",
   "id": "bdbe8ebbeac12b80",
   "outputs": [
    {
     "data": {
      "text/plain": [
       "Mean popularity               0.000622\n",
       "Max popularity                0.008375\n",
       "Min popularity                0.000000\n",
       "Number of pairs         1345638.000000\n",
       "Non-null pairs (u-i)        952.000000\n",
       "% of non-null pairs           0.070747\n",
       "Relevant pairs (u-i)        952.000000\n",
       "% of relevant pairs           0.070747\n",
       "dtype: object"
      ]
     },
     "execution_count": 36,
     "metadata": {},
     "output_type": "execute_result"
    }
   ],
   "execution_count": 36
  },
  {
   "metadata": {
    "ExecuteTime": {
     "end_time": "2025-04-05T12:53:00.681480Z",
     "start_time": "2025-04-05T12:53:00.676499Z"
    }
   },
   "cell_type": "code",
   "source": "metrics_calculator.get_test_set_statistic()",
   "id": "b187c7c3c7ab2fc5",
   "outputs": [
    {
     "data": {
      "text/plain": [
       "Mean popularity               0.000622\n",
       "Max popularity                0.008375\n",
       "Min popularity                0.000000\n",
       "Number of pairs         1345638.000000\n",
       "Non-null pairs (u-i)        952.000000\n",
       "% of non-null pairs           0.070747\n",
       "Relevant pairs (u-i)        952.000000\n",
       "% of relevant pairs           0.070747\n",
       "dtype: object"
      ]
     },
     "execution_count": 37,
     "metadata": {},
     "output_type": "execute_result"
    }
   ],
   "execution_count": 37
  },
  {
   "metadata": {
    "ExecuteTime": {
     "end_time": "2025-04-05T12:56:22.492660Z",
     "start_time": "2025-04-05T12:56:22.452052Z"
    }
   },
   "cell_type": "code",
   "source": [
    "rmse_calc = RmseCalculator(matrix=test_matrix, model=recommender, idx_to_user_id=user_mapping['idx_to_id'],\n",
    "                      idx_to_item_id=item_mapping['idx_to_id'])\n",
    "\n",
    "rmse_calc.calculate_rmse()"
   ],
   "id": "9fd2a4f1b41beb02",
   "outputs": [
    {
     "data": {
      "text/plain": [
       "1.1171633855690364"
      ]
     },
     "execution_count": 40,
     "metadata": {},
     "output_type": "execute_result"
    }
   ],
   "execution_count": 40
  },
  {
   "metadata": {
    "ExecuteTime": {
     "end_time": "2025-04-05T12:56:23.800335Z",
     "start_time": "2025-04-05T12:56:23.454787Z"
    }
   },
   "cell_type": "code",
   "source": "metrics_calculator.generate_metrics_summary_df(rmse=rmse_calc.calculate_rmse())",
   "id": "839a67e9821cc3c4",
   "outputs": [
    {
     "name": "stdout",
     "output_type": "stream",
     "text": [
      "There is no one relevant item in the top-10 recommendation list => Recovery can't be calculated\n"
     ]
    },
    {
     "data": {
      "text/plain": [
       "                          Metric                  Area     Value  \\\n",
       "0                       Recovery             Relevance      None   \n",
       "1  Normalized AggDiv (diversity)  Inter-user diversity  0.158291   \n",
       "2   Normalized AggDiv (coverage)              Coverage  0.419255   \n",
       "3            Item Space Coverage              Coverage    38.743   \n",
       "4             Normalized ItemDeg               Novelty     0.762   \n",
       "5  Unexpectedness (no relevance)           Serendipity     0.741   \n",
       "6   Serendipity (with relevance)           Serendipity       0.0   \n",
       "7                           RMSE             Relevance     1.117   \n",
       "\n",
       "        Value Range                                            Meaning  \n",
       "0          [0, 0.9]  How early relevant items appear in top-N recom...  \n",
       "1            [0, 1]  Proportion of unique items recommended across ...  \n",
       "2            [0, 1]  Proportion of unique items recommended across ...  \n",
       "3  [0, Not defined]  Shows how many unique items and how often appe...  \n",
       "4            [0, 1]  Novelty of recommended items based on inverse ...  \n",
       "5            [0, 1]  Proportion of items that are unexpected (less ...  \n",
       "6            [0, 1]  Proportion of unexpected and relevant items in...  \n",
       "7            [0, 6]  Root Mean Square Error between predicted and a...  "
      ],
      "text/html": [
       "<div>\n",
       "<style scoped>\n",
       "    .dataframe tbody tr th:only-of-type {\n",
       "        vertical-align: middle;\n",
       "    }\n",
       "\n",
       "    .dataframe tbody tr th {\n",
       "        vertical-align: top;\n",
       "    }\n",
       "\n",
       "    .dataframe thead th {\n",
       "        text-align: right;\n",
       "    }\n",
       "</style>\n",
       "<table border=\"1\" class=\"dataframe\">\n",
       "  <thead>\n",
       "    <tr style=\"text-align: right;\">\n",
       "      <th></th>\n",
       "      <th>Metric</th>\n",
       "      <th>Area</th>\n",
       "      <th>Value</th>\n",
       "      <th>Value Range</th>\n",
       "      <th>Meaning</th>\n",
       "    </tr>\n",
       "  </thead>\n",
       "  <tbody>\n",
       "    <tr>\n",
       "      <th>0</th>\n",
       "      <td>Recovery</td>\n",
       "      <td>Relevance</td>\n",
       "      <td>None</td>\n",
       "      <td>[0, 0.9]</td>\n",
       "      <td>How early relevant items appear in top-N recom...</td>\n",
       "    </tr>\n",
       "    <tr>\n",
       "      <th>1</th>\n",
       "      <td>Normalized AggDiv (diversity)</td>\n",
       "      <td>Inter-user diversity</td>\n",
       "      <td>0.158291</td>\n",
       "      <td>[0, 1]</td>\n",
       "      <td>Proportion of unique items recommended across ...</td>\n",
       "    </tr>\n",
       "    <tr>\n",
       "      <th>2</th>\n",
       "      <td>Normalized AggDiv (coverage)</td>\n",
       "      <td>Coverage</td>\n",
       "      <td>0.419255</td>\n",
       "      <td>[0, 1]</td>\n",
       "      <td>Proportion of unique items recommended across ...</td>\n",
       "    </tr>\n",
       "    <tr>\n",
       "      <th>3</th>\n",
       "      <td>Item Space Coverage</td>\n",
       "      <td>Coverage</td>\n",
       "      <td>38.743</td>\n",
       "      <td>[0, Not defined]</td>\n",
       "      <td>Shows how many unique items and how often appe...</td>\n",
       "    </tr>\n",
       "    <tr>\n",
       "      <th>4</th>\n",
       "      <td>Normalized ItemDeg</td>\n",
       "      <td>Novelty</td>\n",
       "      <td>0.762</td>\n",
       "      <td>[0, 1]</td>\n",
       "      <td>Novelty of recommended items based on inverse ...</td>\n",
       "    </tr>\n",
       "    <tr>\n",
       "      <th>5</th>\n",
       "      <td>Unexpectedness (no relevance)</td>\n",
       "      <td>Serendipity</td>\n",
       "      <td>0.741</td>\n",
       "      <td>[0, 1]</td>\n",
       "      <td>Proportion of items that are unexpected (less ...</td>\n",
       "    </tr>\n",
       "    <tr>\n",
       "      <th>6</th>\n",
       "      <td>Serendipity (with relevance)</td>\n",
       "      <td>Serendipity</td>\n",
       "      <td>0.0</td>\n",
       "      <td>[0, 1]</td>\n",
       "      <td>Proportion of unexpected and relevant items in...</td>\n",
       "    </tr>\n",
       "    <tr>\n",
       "      <th>7</th>\n",
       "      <td>RMSE</td>\n",
       "      <td>Relevance</td>\n",
       "      <td>1.117</td>\n",
       "      <td>[0, 6]</td>\n",
       "      <td>Root Mean Square Error between predicted and a...</td>\n",
       "    </tr>\n",
       "  </tbody>\n",
       "</table>\n",
       "</div>"
      ]
     },
     "execution_count": 41,
     "metadata": {},
     "output_type": "execute_result"
    }
   ],
   "execution_count": 41
  },
  {
   "metadata": {
    "ExecuteTime": {
     "end_time": "2025-04-05T12:53:13.986185Z",
     "start_time": "2025-04-05T12:53:13.982027Z"
    }
   },
   "cell_type": "code",
   "outputs": [
    {
     "data": {
      "text/plain": [
       "                                  Metric  Min          Max  \\\n",
       "0                    Item space coverage    0  Not defined   \n",
       "1                               Recovery    0          0.9   \n",
       "2          Normalized AggDiv (diversity)    0            1   \n",
       "3           Normalized AggDiv (coverage)    0            1   \n",
       "4  Unexpectedness (with_relevance=False)    0            1   \n",
       "5      Serendipity (with_relevance=True)    0            1   \n",
       "6                     Normalized ItemDeg    0            1   \n",
       "\n",
       "                                         Explanation  \n",
       "0  small - recommendations focuses on several ite...  \n",
       "1  0 - all the relevant items on the top of the l...  \n",
       "2  0 - only 1 item was recommended for everyone, ...  \n",
       "3  0 - only 1 item was recommended, 1 - all the i...  \n",
       "4  0 - there is no unexpected item (popularity be...  \n",
       "5  0 - there is no serendipitous item (popularity...  \n",
       "6  0 - the most popular items are used (no novelt...  "
      ],
      "text/html": [
       "<div>\n",
       "<style scoped>\n",
       "    .dataframe tbody tr th:only-of-type {\n",
       "        vertical-align: middle;\n",
       "    }\n",
       "\n",
       "    .dataframe tbody tr th {\n",
       "        vertical-align: top;\n",
       "    }\n",
       "\n",
       "    .dataframe thead th {\n",
       "        text-align: right;\n",
       "    }\n",
       "</style>\n",
       "<table border=\"1\" class=\"dataframe\">\n",
       "  <thead>\n",
       "    <tr style=\"text-align: right;\">\n",
       "      <th></th>\n",
       "      <th>Metric</th>\n",
       "      <th>Min</th>\n",
       "      <th>Max</th>\n",
       "      <th>Explanation</th>\n",
       "    </tr>\n",
       "  </thead>\n",
       "  <tbody>\n",
       "    <tr>\n",
       "      <th>0</th>\n",
       "      <td>Item space coverage</td>\n",
       "      <td>0</td>\n",
       "      <td>Not defined</td>\n",
       "      <td>small - recommendations focuses on several ite...</td>\n",
       "    </tr>\n",
       "    <tr>\n",
       "      <th>1</th>\n",
       "      <td>Recovery</td>\n",
       "      <td>0</td>\n",
       "      <td>0.9</td>\n",
       "      <td>0 - all the relevant items on the top of the l...</td>\n",
       "    </tr>\n",
       "    <tr>\n",
       "      <th>2</th>\n",
       "      <td>Normalized AggDiv (diversity)</td>\n",
       "      <td>0</td>\n",
       "      <td>1</td>\n",
       "      <td>0 - only 1 item was recommended for everyone, ...</td>\n",
       "    </tr>\n",
       "    <tr>\n",
       "      <th>3</th>\n",
       "      <td>Normalized AggDiv (coverage)</td>\n",
       "      <td>0</td>\n",
       "      <td>1</td>\n",
       "      <td>0 - only 1 item was recommended, 1 - all the i...</td>\n",
       "    </tr>\n",
       "    <tr>\n",
       "      <th>4</th>\n",
       "      <td>Unexpectedness (with_relevance=False)</td>\n",
       "      <td>0</td>\n",
       "      <td>1</td>\n",
       "      <td>0 - there is no unexpected item (popularity be...</td>\n",
       "    </tr>\n",
       "    <tr>\n",
       "      <th>5</th>\n",
       "      <td>Serendipity (with_relevance=True)</td>\n",
       "      <td>0</td>\n",
       "      <td>1</td>\n",
       "      <td>0 - there is no serendipitous item (popularity...</td>\n",
       "    </tr>\n",
       "    <tr>\n",
       "      <th>6</th>\n",
       "      <td>Normalized ItemDeg</td>\n",
       "      <td>0</td>\n",
       "      <td>1</td>\n",
       "      <td>0 - the most popular items are used (no novelt...</td>\n",
       "    </tr>\n",
       "  </tbody>\n",
       "</table>\n",
       "</div>"
      ]
     },
     "execution_count": 38,
     "metadata": {},
     "output_type": "execute_result"
    }
   ],
   "execution_count": 38,
   "source": "metrics_calculator.get_range_of_metrics()",
   "id": "eb3cda802ba9b13c"
  }
 ],
 "metadata": {
  "kernelspec": {
   "display_name": "Python 3",
   "language": "python",
   "name": "python3"
  },
  "language_info": {
   "codemirror_mode": {
    "name": "ipython",
    "version": 3
   },
   "file_extension": ".py",
   "mimetype": "text/x-python",
   "name": "python",
   "nbconvert_exporter": "python",
   "pygments_lexer": "ipython3",
   "version": "3.10.0"
  }
 },
 "nbformat": 4,
 "nbformat_minor": 5
}
