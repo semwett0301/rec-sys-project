{
 "cells": [
  {
   "cell_type": "code",
   "execution_count": 66,
   "id": "e086eb6d",
   "metadata": {},
   "outputs": [],
   "source": [
    "import pandas as pd\n",
    "import numpy as np\n",
    "from item_based import ItemBasedRecommender\n",
    "from metrics_knn_based import KnnMetricsCalculator, KnnTestMetricsCalculator\n",
    "from tune_k_item_based import tune_k\n",
    "from rating import get_explicit_rating, get_implicit_rating_out_of_positive_ratings_df, split_matrix_csr, sanity_check_implicit_rating, sanity_check_explicit_split, sanity_check_explicit_matrix\n"
   ]
  },
  {
   "cell_type": "code",
   "execution_count": 67,
   "id": "43da094e",
   "metadata": {},
   "outputs": [
    {
     "data": {
      "text/html": [
       "<div>\n",
       "<style scoped>\n",
       "    .dataframe tbody tr th:only-of-type {\n",
       "        vertical-align: middle;\n",
       "    }\n",
       "\n",
       "    .dataframe tbody tr th {\n",
       "        vertical-align: top;\n",
       "    }\n",
       "\n",
       "    .dataframe thead th {\n",
       "        text-align: right;\n",
       "    }\n",
       "</style>\n",
       "<table border=\"1\" class=\"dataframe\">\n",
       "  <thead>\n",
       "    <tr style=\"text-align: right;\">\n",
       "      <th></th>\n",
       "      <th>user_id</th>\n",
       "      <th>movie_id</th>\n",
       "      <th>Rating</th>\n",
       "      <th>Date</th>\n",
       "    </tr>\n",
       "  </thead>\n",
       "  <tbody>\n",
       "    <tr>\n",
       "      <th>0</th>\n",
       "      <td>1</td>\n",
       "      <td>1193</td>\n",
       "      <td>5</td>\n",
       "      <td>2000-12-31</td>\n",
       "    </tr>\n",
       "    <tr>\n",
       "      <th>1</th>\n",
       "      <td>1</td>\n",
       "      <td>661</td>\n",
       "      <td>3</td>\n",
       "      <td>2000-12-31</td>\n",
       "    </tr>\n",
       "    <tr>\n",
       "      <th>2</th>\n",
       "      <td>1</td>\n",
       "      <td>914</td>\n",
       "      <td>3</td>\n",
       "      <td>2000-12-31</td>\n",
       "    </tr>\n",
       "    <tr>\n",
       "      <th>3</th>\n",
       "      <td>1</td>\n",
       "      <td>3408</td>\n",
       "      <td>4</td>\n",
       "      <td>2000-12-31</td>\n",
       "    </tr>\n",
       "    <tr>\n",
       "      <th>4</th>\n",
       "      <td>1</td>\n",
       "      <td>2355</td>\n",
       "      <td>5</td>\n",
       "      <td>2001-01-06</td>\n",
       "    </tr>\n",
       "  </tbody>\n",
       "</table>\n",
       "</div>"
      ],
      "text/plain": [
       "   user_id  movie_id  Rating        Date\n",
       "0        1      1193       5  2000-12-31\n",
       "1        1       661       3  2000-12-31\n",
       "2        1       914       3  2000-12-31\n",
       "3        1      3408       4  2000-12-31\n",
       "4        1      2355       5  2001-01-06"
      ]
     },
     "execution_count": 67,
     "metadata": {},
     "output_type": "execute_result"
    }
   ],
   "source": [
    "# Load Yelp dataset (JSON format)\n",
    "\n",
    "movielens_file_path = \"/Users/masoud/Downloads/MovieLens_1M_Dataset/ratings.csv\"\n",
    "movielens_df = pd.read_csv(movielens_file_path)\n",
    "movielens_df.head()\n",
    "\n",
    "\n"
   ]
  },
  {
   "cell_type": "code",
   "execution_count": 68,
   "id": "923594d3",
   "metadata": {},
   "outputs": [],
   "source": [
    "movielens_df = movielens_df.rename(columns={\n",
    "    'user_id': 'user_id',         # stays the same (optional)\n",
    "    'movie_id': 'business_id',\n",
    "    'Rating': 'stars',\n",
    "    'Date': 'date'\n",
    "})"
   ]
  },
  {
   "cell_type": "code",
   "execution_count": 69,
   "id": "5b44d43a",
   "metadata": {},
   "outputs": [
    {
     "data": {
      "text/html": [
       "<div>\n",
       "<style scoped>\n",
       "    .dataframe tbody tr th:only-of-type {\n",
       "        vertical-align: middle;\n",
       "    }\n",
       "\n",
       "    .dataframe tbody tr th {\n",
       "        vertical-align: top;\n",
       "    }\n",
       "\n",
       "    .dataframe thead th {\n",
       "        text-align: right;\n",
       "    }\n",
       "</style>\n",
       "<table border=\"1\" class=\"dataframe\">\n",
       "  <thead>\n",
       "    <tr style=\"text-align: right;\">\n",
       "      <th></th>\n",
       "      <th>user_id</th>\n",
       "      <th>business_id</th>\n",
       "      <th>stars</th>\n",
       "      <th>date</th>\n",
       "    </tr>\n",
       "  </thead>\n",
       "  <tbody>\n",
       "    <tr>\n",
       "      <th>0</th>\n",
       "      <td>1</td>\n",
       "      <td>1193</td>\n",
       "      <td>5</td>\n",
       "      <td>978220800</td>\n",
       "    </tr>\n",
       "    <tr>\n",
       "      <th>1</th>\n",
       "      <td>1</td>\n",
       "      <td>661</td>\n",
       "      <td>3</td>\n",
       "      <td>978220800</td>\n",
       "    </tr>\n",
       "    <tr>\n",
       "      <th>2</th>\n",
       "      <td>1</td>\n",
       "      <td>914</td>\n",
       "      <td>3</td>\n",
       "      <td>978220800</td>\n",
       "    </tr>\n",
       "    <tr>\n",
       "      <th>3</th>\n",
       "      <td>1</td>\n",
       "      <td>3408</td>\n",
       "      <td>4</td>\n",
       "      <td>978220800</td>\n",
       "    </tr>\n",
       "    <tr>\n",
       "      <th>4</th>\n",
       "      <td>1</td>\n",
       "      <td>2355</td>\n",
       "      <td>5</td>\n",
       "      <td>978739200</td>\n",
       "    </tr>\n",
       "    <tr>\n",
       "      <th>...</th>\n",
       "      <td>...</td>\n",
       "      <td>...</td>\n",
       "      <td>...</td>\n",
       "      <td>...</td>\n",
       "    </tr>\n",
       "    <tr>\n",
       "      <th>1000204</th>\n",
       "      <td>6040</td>\n",
       "      <td>1091</td>\n",
       "      <td>1</td>\n",
       "      <td>956707200</td>\n",
       "    </tr>\n",
       "    <tr>\n",
       "      <th>1000205</th>\n",
       "      <td>6040</td>\n",
       "      <td>1094</td>\n",
       "      <td>5</td>\n",
       "      <td>956620800</td>\n",
       "    </tr>\n",
       "    <tr>\n",
       "      <th>1000206</th>\n",
       "      <td>6040</td>\n",
       "      <td>562</td>\n",
       "      <td>5</td>\n",
       "      <td>956620800</td>\n",
       "    </tr>\n",
       "    <tr>\n",
       "      <th>1000207</th>\n",
       "      <td>6040</td>\n",
       "      <td>1096</td>\n",
       "      <td>4</td>\n",
       "      <td>956707200</td>\n",
       "    </tr>\n",
       "    <tr>\n",
       "      <th>1000208</th>\n",
       "      <td>6040</td>\n",
       "      <td>1097</td>\n",
       "      <td>4</td>\n",
       "      <td>956707200</td>\n",
       "    </tr>\n",
       "  </tbody>\n",
       "</table>\n",
       "<p>1000209 rows × 4 columns</p>\n",
       "</div>"
      ],
      "text/plain": [
       "         user_id  business_id  stars       date\n",
       "0              1         1193      5  978220800\n",
       "1              1          661      3  978220800\n",
       "2              1          914      3  978220800\n",
       "3              1         3408      4  978220800\n",
       "4              1         2355      5  978739200\n",
       "...          ...          ...    ...        ...\n",
       "1000204     6040         1091      1  956707200\n",
       "1000205     6040         1094      5  956620800\n",
       "1000206     6040          562      5  956620800\n",
       "1000207     6040         1096      4  956707200\n",
       "1000208     6040         1097      4  956707200\n",
       "\n",
       "[1000209 rows x 4 columns]"
      ]
     },
     "execution_count": 69,
     "metadata": {},
     "output_type": "execute_result"
    }
   ],
   "source": [
    "movielens_df[\"date\"] = pd.to_datetime(movielens_df[\"date\"]).astype(np.int64) // 10 ** 9\n",
    "movielens_df"
   ]
  },
  {
   "cell_type": "code",
   "execution_count": 70,
   "id": "81acf951",
   "metadata": {},
   "outputs": [
    {
     "data": {
      "text/plain": [
       "(array([[5., 3., 3., ..., 0., 0., 0.],\n",
       "        [5., 0., 0., ..., 0., 0., 0.],\n",
       "        [0., 0., 0., ..., 0., 0., 0.],\n",
       "        ...,\n",
       "        [0., 0., 0., ..., 0., 0., 0.],\n",
       "        [0., 3., 4., ..., 0., 0., 0.],\n",
       "        [4., 0., 0., ..., 0., 0., 0.]]),\n",
       " array([[978220800, 978220800, 978220800, ...,         0,         0,\n",
       "                 0],\n",
       "        [978220800,         0,         0, ...,         0,         0,\n",
       "                 0],\n",
       "        [        0,         0,         0, ...,         0,         0,\n",
       "                 0],\n",
       "        ...,\n",
       "        [        0,         0,         0, ...,         0,         0,\n",
       "                 0],\n",
       "        [        0, 956620800, 956620800, ...,         0,         0,\n",
       "                 0],\n",
       "        [957657600,         0,         0, ...,         0,         0,\n",
       "                 0]]))"
      ]
     },
     "execution_count": 70,
     "metadata": {},
     "output_type": "execute_result"
    }
   ],
   "source": [
    "explicit_ratings, last_dates, user_mapping, item_mapping = get_explicit_rating(movielens_df, \"user_id\",\n",
    "                                                                               \"business_id\", \"stars\", \"date\")\n",
    "\n",
    "explicit_ratings.toarray(), last_dates.toarray()"
   ]
  },
  {
   "cell_type": "code",
   "execution_count": 71,
   "id": "a36fbdb7",
   "metadata": {},
   "outputs": [
    {
     "data": {
      "text/html": [
       "<div>\n",
       "<style scoped>\n",
       "    .dataframe tbody tr th:only-of-type {\n",
       "        vertical-align: middle;\n",
       "    }\n",
       "\n",
       "    .dataframe tbody tr th {\n",
       "        vertical-align: top;\n",
       "    }\n",
       "\n",
       "    .dataframe thead th {\n",
       "        text-align: right;\n",
       "    }\n",
       "</style>\n",
       "<table border=\"1\" class=\"dataframe\">\n",
       "  <thead>\n",
       "    <tr style=\"text-align: right;\">\n",
       "      <th></th>\n",
       "      <th>Source</th>\n",
       "      <th>Calculated metrics</th>\n",
       "      <th>Value</th>\n",
       "    </tr>\n",
       "  </thead>\n",
       "  <tbody>\n",
       "    <tr>\n",
       "      <th>0</th>\n",
       "      <td>Explicit ratings matrix</td>\n",
       "      <td>Non-zero entries</td>\n",
       "      <td>1000209</td>\n",
       "    </tr>\n",
       "    <tr>\n",
       "      <th>1</th>\n",
       "      <td>Last dates matrix</td>\n",
       "      <td>Non-zero entries</td>\n",
       "      <td>1000209</td>\n",
       "    </tr>\n",
       "    <tr>\n",
       "      <th>2</th>\n",
       "      <td>Filtered review DataFrame</td>\n",
       "      <td>Unique (user_id, business_id) pairs</td>\n",
       "      <td>1000209</td>\n",
       "    </tr>\n",
       "  </tbody>\n",
       "</table>\n",
       "</div>"
      ],
      "text/plain": [
       "                      Source                   Calculated metrics    Value\n",
       "0    Explicit ratings matrix                     Non-zero entries  1000209\n",
       "1          Last dates matrix                     Non-zero entries  1000209\n",
       "2  Filtered review DataFrame  Unique (user_id, business_id) pairs  1000209"
      ]
     },
     "execution_count": 71,
     "metadata": {},
     "output_type": "execute_result"
    }
   ],
   "source": [
    "sanity_check_explicit_matrix(explicit_ratings=explicit_ratings, last_dates=last_dates, review_df=movielens_df)"
   ]
  },
  {
   "cell_type": "code",
   "execution_count": 72,
   "id": "2dba8647",
   "metadata": {},
   "outputs": [],
   "source": [
    "DIVISIONS = [0.1, 0.2, 0.7]"
   ]
  },
  {
   "cell_type": "code",
   "execution_count": 73,
   "id": "b5dc652a",
   "metadata": {},
   "outputs": [
    {
     "data": {
      "text/plain": [
       "(array([[5., 3., 3., ..., 0., 0., 0.],\n",
       "        [5., 0., 0., ..., 0., 0., 0.],\n",
       "        [0., 0., 0., ..., 0., 0., 0.],\n",
       "        ...,\n",
       "        [0., 0., 0., ..., 0., 0., 0.],\n",
       "        [0., 3., 4., ..., 0., 0., 0.],\n",
       "        [0., 0., 0., ..., 0., 0., 0.]]),\n",
       " array([[0., 0., 0., ..., 0., 0., 0.],\n",
       "        [0., 0., 0., ..., 0., 0., 0.],\n",
       "        [0., 0., 0., ..., 0., 0., 0.],\n",
       "        ...,\n",
       "        [0., 0., 0., ..., 0., 0., 0.],\n",
       "        [0., 0., 0., ..., 0., 0., 0.],\n",
       "        [4., 0., 0., ..., 0., 0., 0.]]),\n",
       " array([[0., 0., 0., ..., 0., 0., 0.],\n",
       "        [0., 0., 0., ..., 0., 0., 0.],\n",
       "        [0., 0., 0., ..., 0., 0., 0.],\n",
       "        ...,\n",
       "        [0., 0., 0., ..., 0., 0., 0.],\n",
       "        [0., 0., 0., ..., 0., 0., 0.],\n",
       "        [0., 0., 0., ..., 0., 0., 0.]]))"
      ]
     },
     "execution_count": 73,
     "metadata": {},
     "output_type": "execute_result"
    }
   ],
   "source": [
    "test_matrix, validation_matrix, train_matrix = split_matrix_csr(explicit_ratings, last_dates, DIVISIONS)\n",
    "train_matrix.toarray(), validation_matrix.toarray(), test_matrix.toarray()"
   ]
  },
  {
   "cell_type": "code",
   "execution_count": 74,
   "id": "5434212c",
   "metadata": {},
   "outputs": [
    {
     "data": {
      "text/html": [
       "<div>\n",
       "<style scoped>\n",
       "    .dataframe tbody tr th:only-of-type {\n",
       "        vertical-align: middle;\n",
       "    }\n",
       "\n",
       "    .dataframe tbody tr th {\n",
       "        vertical-align: top;\n",
       "    }\n",
       "\n",
       "    .dataframe thead th {\n",
       "        text-align: right;\n",
       "    }\n",
       "</style>\n",
       "<table border=\"1\" class=\"dataframe\">\n",
       "  <thead>\n",
       "    <tr style=\"text-align: right;\">\n",
       "      <th></th>\n",
       "      <th>Split</th>\n",
       "      <th>Number of interactions</th>\n",
       "      <th>Part of factual interactions</th>\n",
       "    </tr>\n",
       "  </thead>\n",
       "  <tbody>\n",
       "    <tr>\n",
       "      <th>0</th>\n",
       "      <td>Train</td>\n",
       "      <td>701042</td>\n",
       "      <td>70.09%</td>\n",
       "    </tr>\n",
       "    <tr>\n",
       "      <th>1</th>\n",
       "      <td>Validation</td>\n",
       "      <td>199516</td>\n",
       "      <td>19.95%</td>\n",
       "    </tr>\n",
       "    <tr>\n",
       "      <th>2</th>\n",
       "      <td>Test</td>\n",
       "      <td>99651</td>\n",
       "      <td>9.96%</td>\n",
       "    </tr>\n",
       "    <tr>\n",
       "      <th>3</th>\n",
       "      <td>Explicit total</td>\n",
       "      <td>1000209</td>\n",
       "      <td>100.0%</td>\n",
       "    </tr>\n",
       "    <tr>\n",
       "      <th>4</th>\n",
       "      <td>Factual total</td>\n",
       "      <td>1000209</td>\n",
       "      <td>100%</td>\n",
       "    </tr>\n",
       "  </tbody>\n",
       "</table>\n",
       "</div>"
      ],
      "text/plain": [
       "            Split  Number of interactions Part of factual interactions\n",
       "0           Train                  701042                       70.09%\n",
       "1      Validation                  199516                       19.95%\n",
       "2            Test                   99651                        9.96%\n",
       "3  Explicit total                 1000209                       100.0%\n",
       "4   Factual total                 1000209                         100%"
      ]
     },
     "execution_count": 74,
     "metadata": {},
     "output_type": "execute_result"
    }
   ],
   "source": [
    "sanity_check_explicit_split(train_matrix=train_matrix, validation_matrix=validation_matrix, test_matrix=test_matrix, explicit_matrix=explicit_ratings)"
   ]
  },
  {
   "cell_type": "code",
   "execution_count": 75,
   "id": "646b49fb",
   "metadata": {},
   "outputs": [],
   "source": [
    "IMPLICIT_THRESHOLD = 4"
   ]
  },
  {
   "cell_type": "code",
   "execution_count": 76,
   "id": "38a6d546",
   "metadata": {},
   "outputs": [
    {
     "data": {
      "text/plain": [
       "(6038, 6040)"
      ]
     },
     "execution_count": 76,
     "metadata": {},
     "output_type": "execute_result"
    }
   ],
   "source": [
    "implicit_ratings = get_implicit_rating_out_of_positive_ratings_df(df=movielens_df, user_field='user_id',item_field='business_id', rating_field='stars', implicit_threshold=IMPLICIT_THRESHOLD)\n",
    "\n",
    "len(implicit_ratings.keys()), movielens_df['user_id'].nunique()"
   ]
  },
  {
   "cell_type": "code",
   "execution_count": 77,
   "id": "835f8aa2",
   "metadata": {},
   "outputs": [
    {
     "data": {
      "text/html": [
       "<div>\n",
       "<style scoped>\n",
       "    .dataframe tbody tr th:only-of-type {\n",
       "        vertical-align: middle;\n",
       "    }\n",
       "\n",
       "    .dataframe tbody tr th {\n",
       "        vertical-align: top;\n",
       "    }\n",
       "\n",
       "    .dataframe thead th {\n",
       "        text-align: right;\n",
       "    }\n",
       "</style>\n",
       "<table border=\"1\" class=\"dataframe\">\n",
       "  <thead>\n",
       "    <tr style=\"text-align: right;\">\n",
       "      <th></th>\n",
       "      <th>Metric</th>\n",
       "      <th>Value</th>\n",
       "    </tr>\n",
       "  </thead>\n",
       "  <tbody>\n",
       "    <tr>\n",
       "      <th>0</th>\n",
       "      <td>Number of reviews (stars &gt;= threshold)</td>\n",
       "      <td>575281</td>\n",
       "    </tr>\n",
       "    <tr>\n",
       "      <th>1</th>\n",
       "      <td>Number of reviews in implicit_ratings</td>\n",
       "      <td>575281</td>\n",
       "    </tr>\n",
       "    <tr>\n",
       "      <th>2</th>\n",
       "      <td>Unique users in initial reviews</td>\n",
       "      <td>6038</td>\n",
       "    </tr>\n",
       "    <tr>\n",
       "      <th>3</th>\n",
       "      <td>Unique users in implicit_ratings</td>\n",
       "      <td>6038</td>\n",
       "    </tr>\n",
       "    <tr>\n",
       "      <th>4</th>\n",
       "      <td>Unique businesses in initial reviews</td>\n",
       "      <td>3533</td>\n",
       "    </tr>\n",
       "    <tr>\n",
       "      <th>5</th>\n",
       "      <td>Unique businesses in implicit_ratings</td>\n",
       "      <td>3533</td>\n",
       "    </tr>\n",
       "  </tbody>\n",
       "</table>\n",
       "</div>"
      ],
      "text/plain": [
       "                                   Metric   Value\n",
       "0  Number of reviews (stars >= threshold)  575281\n",
       "1   Number of reviews in implicit_ratings  575281\n",
       "2         Unique users in initial reviews    6038\n",
       "3        Unique users in implicit_ratings    6038\n",
       "4    Unique businesses in initial reviews    3533\n",
       "5   Unique businesses in implicit_ratings    3533"
      ]
     },
     "execution_count": 77,
     "metadata": {},
     "output_type": "execute_result"
    }
   ],
   "source": [
    "sanity_check_implicit_rating(initial_df=movielens_df, implicit_ratings=implicit_ratings, implicit_threshold=IMPLICIT_THRESHOLD)"
   ]
  },
  {
   "cell_type": "code",
   "execution_count": 79,
   "id": "aa03514d",
   "metadata": {},
   "outputs": [
    {
     "name": "stdout",
     "output_type": "stream",
     "text": [
      "\n",
      "Starting K tuning for Item-Based Collaborative Filtering...\n"
     ]
    },
    {
     "name": "stderr",
     "output_type": "stream",
     "text": [
      "Testing different K values: 100%|██████████| 20/20 [26:58<00:00, 80.94s/it]"
     ]
    },
    {
     "name": "stdout",
     "output_type": "stream",
     "text": [
      "\n",
      "Tuning Complete\n",
      "Best K (lowest validation RMSE): 100\n",
      "Elbow Point K: 30\n",
      "Best K (lowest validation RMSE): 100\n",
      "Elbow K (stability cutoff): 30\n"
     ]
    },
    {
     "name": "stderr",
     "output_type": "stream",
     "text": [
      "\n"
     ]
    }
   ],
   "source": [
    "# Tune k using the elbow method and lowest validation RMSE\n",
    "best_k, elbow_k, results_df, *_ = tune_k(\n",
    "    train_matrix,\n",
    "    validation_matrix,\n",
    "    test_matrix,\n",
    "    user_mapping=user_mapping,\n",
    "    item_mapping=item_mapping\n",
    ")\n",
    "\n",
    "print(f\"Best K (lowest validation RMSE): {best_k}\")\n",
    "print(f\"Elbow K (stability cutoff): {elbow_k}\")\n"
   ]
  },
  {
   "cell_type": "code",
   "execution_count": 80,
   "id": "eb24378b",
   "metadata": {},
   "outputs": [],
   "source": [
    "# Train the model with optimal k\n",
    "recommender = ItemBasedRecommender(k=elbow_k)\n",
    "recommender.fit(train_matrix, user_mapping, item_mapping)\n"
   ]
  },
  {
   "cell_type": "code",
   "execution_count": 81,
   "id": "99c6b9e7",
   "metadata": {},
   "outputs": [],
   "source": [
    "# Generate predictions for all unrated items\n",
    "prediction_matrix = recommender.predict_matrix()\n"
   ]
  },
  {
   "cell_type": "code",
   "execution_count": 82,
   "id": "ae450d69",
   "metadata": {},
   "outputs": [
    {
     "name": "stdout",
     "output_type": "stream",
     "text": [
      "Test RMSE: 1.0892\n"
     ]
    }
   ],
   "source": [
    "# Calculate RMSE\n",
    "rmse_calculator = KnnMetricsCalculator(\n",
    "    test_matrix=test_matrix,\n",
    "    model=recommender,\n",
    "    idx_to_user_id=user_mapping['idx_to_id'],\n",
    "    idx_to_item_id=item_mapping['idx_to_id']\n",
    ")\n",
    "rmse = rmse_calculator.calculate_rmse()\n",
    "print(f\"Test RMSE: {rmse:.4f}\")\n"
   ]
  },
  {
   "cell_type": "code",
   "execution_count": 83,
   "id": "858d3478",
   "metadata": {},
   "outputs": [
    {
     "name": "stdout",
     "output_type": "stream",
     "text": [
      "Unexpectedness: 0.0172\n"
     ]
    }
   ],
   "source": [
    "# Evaluate Top-N unexpectedness\n",
    "top_n_metrics = KnnTestMetricsCalculator(\n",
    "    test_matrix=test_matrix,\n",
    "    model=recommender,\n",
    "    idx_to_user_id=user_mapping['idx_to_id'],\n",
    "    idx_to_item_id=item_mapping['idx_to_id'],\n",
    "    n=10\n",
    ")\n",
    "unexpectedness = top_n_metrics.calculate_unexpectedness()\n",
    "print(f\"Unexpectedness: {unexpectedness:.4f}\")\n"
   ]
  }
 ],
 "metadata": {
  "kernelspec": {
   "display_name": "Python 3",
   "language": "python",
   "name": "python3"
  },
  "language_info": {
   "codemirror_mode": {
    "name": "ipython",
    "version": 3
   },
   "file_extension": ".py",
   "mimetype": "text/x-python",
   "name": "python",
   "nbconvert_exporter": "python",
   "pygments_lexer": "ipython3",
   "version": "3.10.0"
  }
 },
 "nbformat": 4,
 "nbformat_minor": 5
}
