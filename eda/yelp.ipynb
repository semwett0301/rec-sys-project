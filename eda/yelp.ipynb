{
 "cells": [
  {
   "cell_type": "markdown",
   "id": "e808d84ca54b0857",
   "metadata": {},
   "source": [
    "# Library"
   ]
  },
  {
   "cell_type": "markdown",
   "id": "2f0872f642eaa512",
   "metadata": {},
   "source": [
    "## Imports"
   ]
  },
  {
   "cell_type": "code",
   "id": "89691cbfaebcf2ca",
   "metadata": {
    "ExecuteTime": {
     "end_time": "2025-03-11T08:02:20.360121Z",
     "start_time": "2025-03-11T08:02:16.560839Z"
    }
   },
   "source": [
    "from typing import Optional\n",
    "\n",
    "from transformers.models.esm.openfold_utils.protein import from_prediction\n",
    "!pip install kagglehub"
   ],
   "outputs": [
    {
     "name": "stdout",
     "output_type": "stream",
     "text": [
      "Requirement already satisfied: kagglehub in /opt/homebrew/anaconda3/lib/python3.12/site-packages (0.3.10)\r\n",
      "Requirement already satisfied: packaging in /opt/homebrew/anaconda3/lib/python3.12/site-packages (from kagglehub) (24.1)\r\n",
      "Requirement already satisfied: pyyaml in /opt/homebrew/anaconda3/lib/python3.12/site-packages (from kagglehub) (6.0.1)\r\n",
      "Requirement already satisfied: requests in /opt/homebrew/anaconda3/lib/python3.12/site-packages (from kagglehub) (2.32.3)\r\n",
      "Requirement already satisfied: tqdm in /opt/homebrew/anaconda3/lib/python3.12/site-packages (from kagglehub) (4.66.5)\r\n",
      "Requirement already satisfied: charset-normalizer<4,>=2 in /opt/homebrew/anaconda3/lib/python3.12/site-packages (from requests->kagglehub) (3.3.2)\r\n",
      "Requirement already satisfied: idna<4,>=2.5 in /opt/homebrew/anaconda3/lib/python3.12/site-packages (from requests->kagglehub) (3.7)\r\n",
      "Requirement already satisfied: urllib3<3,>=1.21.1 in /opt/homebrew/anaconda3/lib/python3.12/site-packages (from requests->kagglehub) (2.2.3)\r\n",
      "Requirement already satisfied: certifi>=2017.4.17 in /opt/homebrew/anaconda3/lib/python3.12/site-packages (from requests->kagglehub) (2025.1.31)\r\n"
     ]
    }
   ],
   "execution_count": 1
  },
  {
   "cell_type": "code",
   "id": "initial_id",
   "metadata": {
    "ExecuteTime": {
     "end_time": "2025-03-11T08:02:20.393061Z",
     "start_time": "2025-03-11T08:02:20.375632Z"
    }
   },
   "source": [
    "import pandas as pd\n",
    "import kagglehub\n",
    "import matplotlib.pyplot as plt\n",
    "import seaborn as sns\n",
    "import math\n",
    "from typing import Optional "
   ],
   "outputs": [],
   "execution_count": 2
  },
  {
   "cell_type": "markdown",
   "id": "d85f5cfafbb98157",
   "metadata": {},
   "source": [
    "## Plotting library"
   ]
  },
  {
   "cell_type": "markdown",
   "id": "7f9b23744b96ede2",
   "metadata": {},
   "source": [
    "Plotting of outliers and quantiles for a feature  "
   ]
  },
  {
   "cell_type": "code",
   "id": "adf4509aa67ad9e0",
   "metadata": {
    "ExecuteTime": {
     "end_time": "2025-03-11T08:02:20.470950Z",
     "start_time": "2025-03-11T08:02:20.468259Z"
    }
   },
   "source": [
    "def plot_box_plots(data):\n",
    "    # Limit the number of features plotted\n",
    "    num_features = len(data.columns)\n",
    "\n",
    "    # Create a figure and axes once\n",
    "    fig, axes = plt.subplots(nrows=num_features, ncols=1, figsize=(12, num_features * 3))\n",
    "\n",
    "    # Handle case with only one feature\n",
    "    if num_features == 1:\n",
    "        axes = [axes]\n",
    "\n",
    "    # Efficiently plot each feature\n",
    "    for ax, feature in zip(axes, data.columns[:num_features]):\n",
    "        print(feature)\n",
    "        sns.boxplot(x=data[feature], ax=ax)\n",
    "        ax.set_title(f'Box plot for {feature}')\n",
    "        ax.set_xlim(data[feature].min() - 1, data[feature].max() + 1)\n",
    "\n",
    "    plt.tight_layout()\n",
    "    plt.show()"
   ],
   "outputs": [],
   "execution_count": 3
  },
  {
   "cell_type": "markdown",
   "id": "a6106e8b6723734f",
   "metadata": {},
   "source": [
    "Plot the correlation heatmap"
   ]
  },
  {
   "cell_type": "code",
   "id": "5ec2790a3e48554b",
   "metadata": {
    "ExecuteTime": {
     "end_time": "2025-03-11T08:02:20.478552Z",
     "start_time": "2025-03-11T08:02:20.476437Z"
    }
   },
   "source": [
    "def plot_correlation_matrix(df, method='spearman'):\n",
    "    # Calculate correlation matrix\n",
    "    corr_matrix = df.corr(method=method)\n",
    "\n",
    "    # Create a heatmap to visualize the correlation matrix\n",
    "    plt.figure(figsize=(8, 6))\n",
    "    sns.heatmap(corr_matrix, annot=True, cmap='coolwarm', fmt='.2f', linewidths=0.5, cbar=True, square=True)\n",
    "    plt.title(f'Correlation Heatmap ({method})')\n",
    "    plt.show()"
   ],
   "outputs": [],
   "execution_count": 4
  },
  {
   "cell_type": "markdown",
   "id": "6501f8f4bc86b82f",
   "metadata": {},
   "source": [
    "## Distribution library"
   ]
  },
  {
   "cell_type": "markdown",
   "id": "bc5be8cbc4d090a6",
   "metadata": {},
   "source": [
    "This class help to analyse distributions of the features.\n",
    "\n",
    "It provides **2** methods:\n",
    "- for plotting numerical feature's distribution\n",
    "- for plotting frequency for nominal value"
   ]
  },
  {
   "cell_type": "code",
   "id": "900e73f12e8bf67a",
   "metadata": {
    "ExecuteTime": {
     "end_time": "2025-03-11T08:02:20.488685Z",
     "start_time": "2025-03-11T08:02:20.483502Z"
    }
   },
   "source": [
    "class DistributionAnalyser:\n",
    "    def __init__(self, df):\n",
    "        self._df = df.copy()\n",
    "\n",
    "    # The function that plots numerical features distribution\n",
    "    def plot_numerical_distributions(self, numerical_features, num_columns=2):\n",
    "        # Calculate the number of numerical features in the dataset\n",
    "        num_features = len(numerical_features)\n",
    "\n",
    "        # Determine the number of rows needed to arrange the subplots in a grid\n",
    "        num_rows = math.ceil(num_features / num_columns)\n",
    "\n",
    "        # Set the figure size dynamically based on the number of rows\n",
    "        plt.figure(figsize=(15, (num_rows + 1) * 5))\n",
    "\n",
    "        # Loop through each numerical feature to create a histogram\n",
    "        for i, feature in enumerate(numerical_features):\n",
    "            # Define the subplot position in the grid\n",
    "            plt.subplot(num_rows, num_columns, i + 1)\n",
    "\n",
    "            # Plot the histogram for the current numerical feature\n",
    "            sns.histplot(self._df[feature], bins=30, kde=False)\n",
    "\n",
    "            # Set labels and title for the plot\n",
    "            plt.xlabel('Value')\n",
    "            plt.ylabel('Frequency')\n",
    "            plt.title(feature)\n",
    "\n",
    "        # Adjust the layout to prevent overlapping plots\n",
    "        plt.tight_layout()\n",
    "\n",
    "        # Display the figure with all subplots\n",
    "        plt.show()\n",
    "\n",
    "    # The function that plots categorical features relation frequency\n",
    "    def plot_categorical_relation_frequency(self, categorical_features, num_columns=2, top_n=100, height=5):\n",
    "        # Calculate the number of categorical features in the dataset\n",
    "        num_features = len(categorical_features)\n",
    "\n",
    "        # Determine the number of rows needed for the grid layout\n",
    "        num_rows = math.ceil(num_features / num_columns)\n",
    "\n",
    "        # Set the figure size dynamically based on the number of rows and specified height\n",
    "        plt.figure(figsize=(15, num_rows * height))\n",
    "\n",
    "        # Loop through each categorical feature to create bar plots\n",
    "        for i, feature in enumerate(categorical_features):\n",
    "            # Define the subplot position in the grid\n",
    "            plt.subplot(num_rows, num_columns, i + 1)\n",
    "\n",
    "            # Check if the column contains list-like entries (e.g., lists or sets) and explode if necessary\n",
    "            if self._df[feature].apply(lambda x: isinstance(x, list)).any():\n",
    "                current_values = self._df.explode(feature)[feature].dropna()\n",
    "            else:\n",
    "                current_values = self._df[feature].dropna()\n",
    "\n",
    "            # Calculate the relative frequency of the top_n most frequent categories\n",
    "            current_values = current_values.value_counts().head(top_n) / len(self._df[feature])\n",
    "\n",
    "            # Plot the bar chart for the categorical feature\n",
    "            sns.barplot(x=current_values.values, y=current_values.index, palette='viridis')\n",
    "\n",
    "            # Set labels and title for better interpretability\n",
    "            plt.xlabel('Frequency')\n",
    "            plt.ylabel('Value')\n",
    "            plt.title(f'Distribution of {feature}')\n",
    "\n",
    "            # Rotate y-axis labels if there are many categories or long category names\n",
    "            if len(current_values) > 10 or any(len(str(label)) > 15 for label in current_values.index):\n",
    "                plt.yticks(rotation=0)\n",
    "\n",
    "        # Adjust layout to prevent overlapping elements\n",
    "        plt.tight_layout()\n",
    "\n",
    "        # Display the figure with all subplots\n",
    "        plt.show()"
   ],
   "outputs": [],
   "execution_count": 5
  },
  {
   "cell_type": "markdown",
   "id": "17b3bc176707aa50",
   "metadata": {},
   "source": [
    "## Missing values library"
   ]
  },
  {
   "cell_type": "markdown",
   "id": "7608f2c95fb4b0c0",
   "metadata": {},
   "source": [
    "This class is used for two purposes:\n",
    "- draw a heatmap of missing values in the datasets' features\n",
    "- show matrix between **features / number of values**"
   ]
  },
  {
   "cell_type": "code",
   "id": "a7989844b6ce1f42",
   "metadata": {
    "ExecuteTime": {
     "end_time": "2025-03-11T08:02:20.498105Z",
     "start_time": "2025-03-11T08:02:20.495125Z"
    }
   },
   "source": [
    "class NanAnalyser:\n",
    "    def __init__(self, df):\n",
    "        self._df = df.copy()\n",
    "\n",
    "    def plot_nan_values_heatmap(self):\n",
    "        \"\"\"\n",
    "        Generate a heatmap to visualize missing values in the dataframe.\n",
    "\n",
    "        - Uses a seaborn heatmap where missing values are highlighted.\n",
    "        - The heatmap helps in identifying patterns of missing data.\n",
    "        \"\"\"\n",
    "        sns.heatmap(self._df.isnull(), cbar=False, cmap=\"viridis\")\n",
    "        plt.title(\"Missing Values Heatmap\")\n",
    "        plt.show()\n",
    "\n",
    "    def get_nan_statistic(self) -> pd.DataFrame:\n",
    "        \"\"\"\n",
    "        Calculate and return statistics about missing values in the dataframe.\n",
    "\n",
    "        - Computes the count and percentage of missing values for each column.\n",
    "        - Filters out columns with no missing values.\n",
    "        - Returns a summary as a DataFrame.\n",
    "        \"\"\"\n",
    "        # Calculate the count of missing values for each column\n",
    "        missing_count = self._df.isnull().sum()\n",
    "\n",
    "        # Calculate the percentage of missing values relative to the total number of rows\n",
    "        missing_percentage = (missing_count / len(self._df)) * 100\n",
    "\n",
    "        # Filter out columns that do not have missing values\n",
    "        missing_data = missing_count[missing_count > 0]\n",
    "        missing_data_percentage = missing_percentage[missing_percentage > 0]\n",
    "\n",
    "        # Create a summary DataFrame with missing values statistics\n",
    "        missing_summary = pd.DataFrame({\n",
    "            'Missing Values Count': missing_data,\n",
    "            'Missing Values Percentage': missing_data_percentage\n",
    "        })\n",
    "\n",
    "        return missing_summary"
   ],
   "outputs": [],
   "execution_count": 6
  },
  {
   "cell_type": "markdown",
   "id": "8235461ea660c732",
   "metadata": {},
   "source": [
    "## Time series library"
   ]
  },
  {
   "cell_type": "markdown",
   "id": "77d23547287b028",
   "metadata": {},
   "source": [
    "This class helps to create **time series**"
   ]
  },
  {
   "cell_type": "code",
   "id": "675deac57fe12623",
   "metadata": {
    "ExecuteTime": {
     "end_time": "2025-03-11T08:02:20.516498Z",
     "start_time": "2025-03-11T08:02:20.513229Z"
    }
   },
   "source": [
    "class TimeSeriesGenerator:\n",
    "    def __init__(self, df: pd.DataFrame):\n",
    "        self._df = df\n",
    "\n",
    "    def plot_time_series(self, date_col: str, target_col: str, group_col: Optional[str]):\n",
    "        \"\"\"\n",
    "        Plots the time series data with separate lines for each group.\n",
    "        :param date_col: Name of the date column\n",
    "        :param target_col: Name of the target feature column\n",
    "        :param group_col: Name of the column for grouping\n",
    "        \"\"\"\n",
    "        grouped_data = self._create_time_series(date_col, target_col, group_col)\n",
    "        plt.figure(figsize=(10, 5))\n",
    "        \n",
    "        if group_col:\n",
    "            for group in grouped_data[group_col].unique():\n",
    "                subset = grouped_data[grouped_data[group_col] == group]\n",
    "                plt.plot(subset[date_col], subset[target_col], label=f'Group {group}')\n",
    "                \n",
    "            plt.title(f\"Time series by group {group_col}\")\n",
    "        \n",
    "        plt.xlabel(date_col)\n",
    "        plt.ylabel(f\"Avg {target_col}\")\n",
    "        plt.legend()\n",
    "        plt.grid(True)\n",
    "        plt.show()\n",
    "    \n",
    "    def _create_time_series(self, date_col: str, target_col: str, group_col: str) -> pd.DataFrame:\n",
    "        \"\"\"\n",
    "        Creates a time series by aggregating data based on the specified grouping column and calculating the average target column value.\n",
    "        :param date_col: Name of the date column\n",
    "        :param target_col: Name of the target feature column\n",
    "        :param group_col: Name of the column for grouping\n",
    "        :return: pandas DataFrame with the time series\n",
    "        \"\"\"\n",
    "        self._df[date_col] = pd.to_datetime(self._df[date_col])\n",
    "        grouped = (self._df.groupby([date_col, group_col])[target_col]\n",
    "                   .mean()\n",
    "                   .reset_index())\n",
    "        return grouped"
   ],
   "outputs": [],
   "execution_count": 7
  },
  {
   "cell_type": "markdown",
   "id": "fca58197b004b59b",
   "metadata": {},
   "source": [
    "# Datasets loading and filtering "
   ]
  },
  {
   "cell_type": "markdown",
   "id": "7ff5a2f7cc93c4e9",
   "metadata": {},
   "source": [
    "## Reasoning of the datasets' choice "
   ]
  },
  {
   "cell_type": "markdown",
   "id": "83367425b5ad6944",
   "metadata": {},
   "source": [
    "The following datasets were chosen to explore and use for **SVD++** since they have information either about the relationships between users and businesses (this information is the purpose of the RecSys to restore) or about some features of users or items itself (such as business dataset):\n",
    "- business dataset;\n",
    "- tip dataset\n",
    "- review\n",
    "\n",
    "User dataset contains only information that is related to user, but not to U-I relations as well as checkin dataset that contain potential feature only for business."
   ]
  },
  {
   "cell_type": "markdown",
   "id": "8139c4caed516a19",
   "metadata": {},
   "source": [
    "Normally datasets are downloaded from the Kaggle, but in the purpose of time-saving the local path placed instead.\n",
    "If you want to download the datasets again, just uncomment the code below."
   ]
  },
  {
   "cell_type": "code",
   "id": "a9683619f7b8822f",
   "metadata": {
    "ExecuteTime": {
     "end_time": "2025-03-11T08:02:20.538640Z",
     "start_time": "2025-03-11T08:02:20.535544Z"
    }
   },
   "source": [
    "path = \"/Users/simon/.cache/kagglehub/datasets/yelp-dataset/yelp-dataset/versions/4\"\n",
    "\n",
    "# path = kagglehub.dataset_download(\"yelp-dataset/yelp-dataset\")\n",
    "# \n",
    "# print(\"Path to dataset files:\", path)"
   ],
   "outputs": [],
   "execution_count": 8
  },
  {
   "cell_type": "markdown",
   "id": "9b5f7b9fe502c006",
   "metadata": {},
   "source": [
    "Business' features description:\n",
    "- `business_id` - id of a business\n",
    "- `name` - name of the business\n",
    "- `address` - address of the business (geographical data)\n",
    "- `city` - city of the business (geographical data)\n",
    "- `state` - state of the business (geographical data)\n",
    "- `postal_code` - postal code of the business (geographical data)\n",
    "- `latitude` - latitude of the business (geographical data)\n",
    "- `longitude` - longitude of the business (geographical data)\n",
    "- `review_count` - the amount of the reviews gathered for the particular business\n",
    "- `is_open` - is the business opened (closed businesses are not relevant to use)\n",
    "- `attributes` - business' attributes (no provided context)\n",
    "- `categories` - categories related to the business\n",
    "- `hours` - working hours"
   ]
  },
  {
   "cell_type": "code",
   "id": "82a1b8ef24aac637",
   "metadata": {
    "ExecuteTime": {
     "end_time": "2025-03-11T08:02:21.980150Z",
     "start_time": "2025-03-11T08:02:20.543168Z"
    }
   },
   "source": [
    "business_df = pd.read_json(f\"{path}/yelp_academic_dataset_business.json\", lines=True)\n",
    "business_df"
   ],
   "outputs": [
    {
     "data": {
      "text/plain": [
       "                   business_id                      name  \\\n",
       "0       Pns2l4eNsfO8kk83dixA6A  Abby Rappoport, LAC, CMQ   \n",
       "1       mpf3x-BjTdTEA3yCZrAYPw             The UPS Store   \n",
       "2       tUFrWirKiKi_TAnsVWINQQ                    Target   \n",
       "3       MTSW4McQd7CbVtyjqoe9mw        St Honore Pastries   \n",
       "4       mWMc6_wTdE0EUBKIGXDVfA  Perkiomen Valley Brewery   \n",
       "...                        ...                       ...   \n",
       "150341  IUQopTMmYQG-qRtBk-8QnA              Binh's Nails   \n",
       "150342  c8GjPIOTGVmIemT7j5_SyQ      Wild Birds Unlimited   \n",
       "150343  _QAMST-NrQobXduilWEqSw         Claire's Boutique   \n",
       "150344  mtGm22y5c2UHNXDFAjaPNw  Cyclery & Fitness Center   \n",
       "150345  jV_XOycEzSlTx-65W906pg                   Sic Ink   \n",
       "\n",
       "                                address           city state postal_code  \\\n",
       "0                1616 Chapala St, Ste 2  Santa Barbara    CA       93101   \n",
       "1       87 Grasso Plaza Shopping Center         Affton    MO       63123   \n",
       "2                  5255 E Broadway Blvd         Tucson    AZ       85711   \n",
       "3                           935 Race St   Philadelphia    PA       19107   \n",
       "4                         101 Walnut St     Green Lane    PA       18054   \n",
       "...                                 ...            ...   ...         ...   \n",
       "150341                3388 Gateway Blvd       Edmonton    AB     T6J 5H2   \n",
       "150342               2813 Bransford Ave      Nashville    TN       37204   \n",
       "150343           6020 E 82nd St, Ste 46   Indianapolis    IN       46250   \n",
       "150344                     2472 Troy Rd   Edwardsville    IL       62025   \n",
       "150345            238 Apollo Beach Blvd   Apollo beach    FL       33572   \n",
       "\n",
       "         latitude   longitude  stars  review_count  is_open  \\\n",
       "0       34.426679 -119.711197    5.0             7        0   \n",
       "1       38.551126  -90.335695    3.0            15        1   \n",
       "2       32.223236 -110.880452    3.5            22        0   \n",
       "3       39.955505  -75.155564    4.0            80        1   \n",
       "4       40.338183  -75.471659    4.5            13        1   \n",
       "...           ...         ...    ...           ...      ...   \n",
       "150341  53.468419 -113.492054    3.0            13        1   \n",
       "150342  36.115118  -86.766925    4.0             5        1   \n",
       "150343  39.908707  -86.065088    3.5             8        1   \n",
       "150344  38.782351  -89.950558    4.0            24        1   \n",
       "150345  27.771002  -82.394910    4.5             9        1   \n",
       "\n",
       "                                               attributes  \\\n",
       "0                           {'ByAppointmentOnly': 'True'}   \n",
       "1                  {'BusinessAcceptsCreditCards': 'True'}   \n",
       "2       {'BikeParking': 'True', 'BusinessAcceptsCredit...   \n",
       "3       {'RestaurantsDelivery': 'False', 'OutdoorSeati...   \n",
       "4       {'BusinessAcceptsCreditCards': 'True', 'Wheelc...   \n",
       "...                                                   ...   \n",
       "150341  {'ByAppointmentOnly': 'False', 'RestaurantsPri...   \n",
       "150342  {'BusinessAcceptsCreditCards': 'True', 'Restau...   \n",
       "150343  {'RestaurantsPriceRange2': '1', 'BusinessAccep...   \n",
       "150344  {'BusinessParking': '{'garage': False, 'street...   \n",
       "150345  {'WheelchairAccessible': 'True', 'BusinessAcce...   \n",
       "\n",
       "                                               categories  \\\n",
       "0       Doctors, Traditional Chinese Medicine, Naturop...   \n",
       "1       Shipping Centers, Local Services, Notaries, Ma...   \n",
       "2       Department Stores, Shopping, Fashion, Home & G...   \n",
       "3       Restaurants, Food, Bubble Tea, Coffee & Tea, B...   \n",
       "4                               Brewpubs, Breweries, Food   \n",
       "...                                                   ...   \n",
       "150341                         Nail Salons, Beauty & Spas   \n",
       "150342  Pets, Nurseries & Gardening, Pet Stores, Hobby...   \n",
       "150343  Shopping, Jewelry, Piercing, Toy Stores, Beaut...   \n",
       "150344  Fitness/Exercise Equipment, Eyewear & Optician...   \n",
       "150345  Beauty & Spas, Permanent Makeup, Piercing, Tattoo   \n",
       "\n",
       "                                                    hours  \n",
       "0                                                    None  \n",
       "1       {'Monday': '0:0-0:0', 'Tuesday': '8:0-18:30', ...  \n",
       "2       {'Monday': '8:0-22:0', 'Tuesday': '8:0-22:0', ...  \n",
       "3       {'Monday': '7:0-20:0', 'Tuesday': '7:0-20:0', ...  \n",
       "4       {'Wednesday': '14:0-22:0', 'Thursday': '16:0-2...  \n",
       "...                                                   ...  \n",
       "150341  {'Monday': '10:0-19:30', 'Tuesday': '10:0-19:3...  \n",
       "150342  {'Monday': '9:30-17:30', 'Tuesday': '9:30-17:3...  \n",
       "150343                                               None  \n",
       "150344  {'Monday': '9:0-20:0', 'Tuesday': '9:0-20:0', ...  \n",
       "150345  {'Tuesday': '12:0-19:0', 'Wednesday': '12:0-19...  \n",
       "\n",
       "[150346 rows x 14 columns]"
      ],
      "text/html": [
       "<div>\n",
       "<style scoped>\n",
       "    .dataframe tbody tr th:only-of-type {\n",
       "        vertical-align: middle;\n",
       "    }\n",
       "\n",
       "    .dataframe tbody tr th {\n",
       "        vertical-align: top;\n",
       "    }\n",
       "\n",
       "    .dataframe thead th {\n",
       "        text-align: right;\n",
       "    }\n",
       "</style>\n",
       "<table border=\"1\" class=\"dataframe\">\n",
       "  <thead>\n",
       "    <tr style=\"text-align: right;\">\n",
       "      <th></th>\n",
       "      <th>business_id</th>\n",
       "      <th>name</th>\n",
       "      <th>address</th>\n",
       "      <th>city</th>\n",
       "      <th>state</th>\n",
       "      <th>postal_code</th>\n",
       "      <th>latitude</th>\n",
       "      <th>longitude</th>\n",
       "      <th>stars</th>\n",
       "      <th>review_count</th>\n",
       "      <th>is_open</th>\n",
       "      <th>attributes</th>\n",
       "      <th>categories</th>\n",
       "      <th>hours</th>\n",
       "    </tr>\n",
       "  </thead>\n",
       "  <tbody>\n",
       "    <tr>\n",
       "      <th>0</th>\n",
       "      <td>Pns2l4eNsfO8kk83dixA6A</td>\n",
       "      <td>Abby Rappoport, LAC, CMQ</td>\n",
       "      <td>1616 Chapala St, Ste 2</td>\n",
       "      <td>Santa Barbara</td>\n",
       "      <td>CA</td>\n",
       "      <td>93101</td>\n",
       "      <td>34.426679</td>\n",
       "      <td>-119.711197</td>\n",
       "      <td>5.0</td>\n",
       "      <td>7</td>\n",
       "      <td>0</td>\n",
       "      <td>{'ByAppointmentOnly': 'True'}</td>\n",
       "      <td>Doctors, Traditional Chinese Medicine, Naturop...</td>\n",
       "      <td>None</td>\n",
       "    </tr>\n",
       "    <tr>\n",
       "      <th>1</th>\n",
       "      <td>mpf3x-BjTdTEA3yCZrAYPw</td>\n",
       "      <td>The UPS Store</td>\n",
       "      <td>87 Grasso Plaza Shopping Center</td>\n",
       "      <td>Affton</td>\n",
       "      <td>MO</td>\n",
       "      <td>63123</td>\n",
       "      <td>38.551126</td>\n",
       "      <td>-90.335695</td>\n",
       "      <td>3.0</td>\n",
       "      <td>15</td>\n",
       "      <td>1</td>\n",
       "      <td>{'BusinessAcceptsCreditCards': 'True'}</td>\n",
       "      <td>Shipping Centers, Local Services, Notaries, Ma...</td>\n",
       "      <td>{'Monday': '0:0-0:0', 'Tuesday': '8:0-18:30', ...</td>\n",
       "    </tr>\n",
       "    <tr>\n",
       "      <th>2</th>\n",
       "      <td>tUFrWirKiKi_TAnsVWINQQ</td>\n",
       "      <td>Target</td>\n",
       "      <td>5255 E Broadway Blvd</td>\n",
       "      <td>Tucson</td>\n",
       "      <td>AZ</td>\n",
       "      <td>85711</td>\n",
       "      <td>32.223236</td>\n",
       "      <td>-110.880452</td>\n",
       "      <td>3.5</td>\n",
       "      <td>22</td>\n",
       "      <td>0</td>\n",
       "      <td>{'BikeParking': 'True', 'BusinessAcceptsCredit...</td>\n",
       "      <td>Department Stores, Shopping, Fashion, Home &amp; G...</td>\n",
       "      <td>{'Monday': '8:0-22:0', 'Tuesday': '8:0-22:0', ...</td>\n",
       "    </tr>\n",
       "    <tr>\n",
       "      <th>3</th>\n",
       "      <td>MTSW4McQd7CbVtyjqoe9mw</td>\n",
       "      <td>St Honore Pastries</td>\n",
       "      <td>935 Race St</td>\n",
       "      <td>Philadelphia</td>\n",
       "      <td>PA</td>\n",
       "      <td>19107</td>\n",
       "      <td>39.955505</td>\n",
       "      <td>-75.155564</td>\n",
       "      <td>4.0</td>\n",
       "      <td>80</td>\n",
       "      <td>1</td>\n",
       "      <td>{'RestaurantsDelivery': 'False', 'OutdoorSeati...</td>\n",
       "      <td>Restaurants, Food, Bubble Tea, Coffee &amp; Tea, B...</td>\n",
       "      <td>{'Monday': '7:0-20:0', 'Tuesday': '7:0-20:0', ...</td>\n",
       "    </tr>\n",
       "    <tr>\n",
       "      <th>4</th>\n",
       "      <td>mWMc6_wTdE0EUBKIGXDVfA</td>\n",
       "      <td>Perkiomen Valley Brewery</td>\n",
       "      <td>101 Walnut St</td>\n",
       "      <td>Green Lane</td>\n",
       "      <td>PA</td>\n",
       "      <td>18054</td>\n",
       "      <td>40.338183</td>\n",
       "      <td>-75.471659</td>\n",
       "      <td>4.5</td>\n",
       "      <td>13</td>\n",
       "      <td>1</td>\n",
       "      <td>{'BusinessAcceptsCreditCards': 'True', 'Wheelc...</td>\n",
       "      <td>Brewpubs, Breweries, Food</td>\n",
       "      <td>{'Wednesday': '14:0-22:0', 'Thursday': '16:0-2...</td>\n",
       "    </tr>\n",
       "    <tr>\n",
       "      <th>...</th>\n",
       "      <td>...</td>\n",
       "      <td>...</td>\n",
       "      <td>...</td>\n",
       "      <td>...</td>\n",
       "      <td>...</td>\n",
       "      <td>...</td>\n",
       "      <td>...</td>\n",
       "      <td>...</td>\n",
       "      <td>...</td>\n",
       "      <td>...</td>\n",
       "      <td>...</td>\n",
       "      <td>...</td>\n",
       "      <td>...</td>\n",
       "      <td>...</td>\n",
       "    </tr>\n",
       "    <tr>\n",
       "      <th>150341</th>\n",
       "      <td>IUQopTMmYQG-qRtBk-8QnA</td>\n",
       "      <td>Binh's Nails</td>\n",
       "      <td>3388 Gateway Blvd</td>\n",
       "      <td>Edmonton</td>\n",
       "      <td>AB</td>\n",
       "      <td>T6J 5H2</td>\n",
       "      <td>53.468419</td>\n",
       "      <td>-113.492054</td>\n",
       "      <td>3.0</td>\n",
       "      <td>13</td>\n",
       "      <td>1</td>\n",
       "      <td>{'ByAppointmentOnly': 'False', 'RestaurantsPri...</td>\n",
       "      <td>Nail Salons, Beauty &amp; Spas</td>\n",
       "      <td>{'Monday': '10:0-19:30', 'Tuesday': '10:0-19:3...</td>\n",
       "    </tr>\n",
       "    <tr>\n",
       "      <th>150342</th>\n",
       "      <td>c8GjPIOTGVmIemT7j5_SyQ</td>\n",
       "      <td>Wild Birds Unlimited</td>\n",
       "      <td>2813 Bransford Ave</td>\n",
       "      <td>Nashville</td>\n",
       "      <td>TN</td>\n",
       "      <td>37204</td>\n",
       "      <td>36.115118</td>\n",
       "      <td>-86.766925</td>\n",
       "      <td>4.0</td>\n",
       "      <td>5</td>\n",
       "      <td>1</td>\n",
       "      <td>{'BusinessAcceptsCreditCards': 'True', 'Restau...</td>\n",
       "      <td>Pets, Nurseries &amp; Gardening, Pet Stores, Hobby...</td>\n",
       "      <td>{'Monday': '9:30-17:30', 'Tuesday': '9:30-17:3...</td>\n",
       "    </tr>\n",
       "    <tr>\n",
       "      <th>150343</th>\n",
       "      <td>_QAMST-NrQobXduilWEqSw</td>\n",
       "      <td>Claire's Boutique</td>\n",
       "      <td>6020 E 82nd St, Ste 46</td>\n",
       "      <td>Indianapolis</td>\n",
       "      <td>IN</td>\n",
       "      <td>46250</td>\n",
       "      <td>39.908707</td>\n",
       "      <td>-86.065088</td>\n",
       "      <td>3.5</td>\n",
       "      <td>8</td>\n",
       "      <td>1</td>\n",
       "      <td>{'RestaurantsPriceRange2': '1', 'BusinessAccep...</td>\n",
       "      <td>Shopping, Jewelry, Piercing, Toy Stores, Beaut...</td>\n",
       "      <td>None</td>\n",
       "    </tr>\n",
       "    <tr>\n",
       "      <th>150344</th>\n",
       "      <td>mtGm22y5c2UHNXDFAjaPNw</td>\n",
       "      <td>Cyclery &amp; Fitness Center</td>\n",
       "      <td>2472 Troy Rd</td>\n",
       "      <td>Edwardsville</td>\n",
       "      <td>IL</td>\n",
       "      <td>62025</td>\n",
       "      <td>38.782351</td>\n",
       "      <td>-89.950558</td>\n",
       "      <td>4.0</td>\n",
       "      <td>24</td>\n",
       "      <td>1</td>\n",
       "      <td>{'BusinessParking': '{'garage': False, 'street...</td>\n",
       "      <td>Fitness/Exercise Equipment, Eyewear &amp; Optician...</td>\n",
       "      <td>{'Monday': '9:0-20:0', 'Tuesday': '9:0-20:0', ...</td>\n",
       "    </tr>\n",
       "    <tr>\n",
       "      <th>150345</th>\n",
       "      <td>jV_XOycEzSlTx-65W906pg</td>\n",
       "      <td>Sic Ink</td>\n",
       "      <td>238 Apollo Beach Blvd</td>\n",
       "      <td>Apollo beach</td>\n",
       "      <td>FL</td>\n",
       "      <td>33572</td>\n",
       "      <td>27.771002</td>\n",
       "      <td>-82.394910</td>\n",
       "      <td>4.5</td>\n",
       "      <td>9</td>\n",
       "      <td>1</td>\n",
       "      <td>{'WheelchairAccessible': 'True', 'BusinessAcce...</td>\n",
       "      <td>Beauty &amp; Spas, Permanent Makeup, Piercing, Tattoo</td>\n",
       "      <td>{'Tuesday': '12:0-19:0', 'Wednesday': '12:0-19...</td>\n",
       "    </tr>\n",
       "  </tbody>\n",
       "</table>\n",
       "<p>150346 rows × 14 columns</p>\n",
       "</div>"
      ]
     },
     "execution_count": 9,
     "metadata": {},
     "output_type": "execute_result"
    }
   ],
   "execution_count": 9
  },
  {
   "cell_type": "markdown",
   "id": "313e77ea6111fe8",
   "metadata": {},
   "source": [
    "Reasons of feature dropping:\n",
    "- geographical data doesn't make any sense since we don't have the same type of information about the user\n",
    "- there are features that don't describe anything in the purpose of RecSys (i.e. `name` or `hours`)\n",
    "- `attributes` feature doesn't have a context to analyze it\n",
    "\n",
    "Features that remains:\n",
    "- `business_id` - id of a business\n",
    "- `review_count` - this feature can potentially participate in the forming of **implicit rating**\n",
    "- `categories` - this feature can potentially participate in the forming of **implicit rating** + it's necessary to separate it into different entity\n",
    "- `is_open` - it's necessary to check ratio between open / closed businesses and filter them based on this feature since the recommendation of the closed business doesn't make any sense"
   ]
  },
  {
   "cell_type": "code",
   "id": "fbad1c27bf5cd0bf",
   "metadata": {
    "ExecuteTime": {
     "end_time": "2025-03-11T08:02:22.019635Z",
     "start_time": "2025-03-11T08:02:22.009788Z"
    }
   },
   "source": [
    "filtered_business_id = business_df[['business_id', 'review_count', 'is_open', 'categories']]\n",
    "filtered_business_id"
   ],
   "outputs": [
    {
     "data": {
      "text/plain": [
       "                   business_id  review_count  is_open  \\\n",
       "0       Pns2l4eNsfO8kk83dixA6A             7        0   \n",
       "1       mpf3x-BjTdTEA3yCZrAYPw            15        1   \n",
       "2       tUFrWirKiKi_TAnsVWINQQ            22        0   \n",
       "3       MTSW4McQd7CbVtyjqoe9mw            80        1   \n",
       "4       mWMc6_wTdE0EUBKIGXDVfA            13        1   \n",
       "...                        ...           ...      ...   \n",
       "150341  IUQopTMmYQG-qRtBk-8QnA            13        1   \n",
       "150342  c8GjPIOTGVmIemT7j5_SyQ             5        1   \n",
       "150343  _QAMST-NrQobXduilWEqSw             8        1   \n",
       "150344  mtGm22y5c2UHNXDFAjaPNw            24        1   \n",
       "150345  jV_XOycEzSlTx-65W906pg             9        1   \n",
       "\n",
       "                                               categories  \n",
       "0       Doctors, Traditional Chinese Medicine, Naturop...  \n",
       "1       Shipping Centers, Local Services, Notaries, Ma...  \n",
       "2       Department Stores, Shopping, Fashion, Home & G...  \n",
       "3       Restaurants, Food, Bubble Tea, Coffee & Tea, B...  \n",
       "4                               Brewpubs, Breweries, Food  \n",
       "...                                                   ...  \n",
       "150341                         Nail Salons, Beauty & Spas  \n",
       "150342  Pets, Nurseries & Gardening, Pet Stores, Hobby...  \n",
       "150343  Shopping, Jewelry, Piercing, Toy Stores, Beaut...  \n",
       "150344  Fitness/Exercise Equipment, Eyewear & Optician...  \n",
       "150345  Beauty & Spas, Permanent Makeup, Piercing, Tattoo  \n",
       "\n",
       "[150346 rows x 4 columns]"
      ],
      "text/html": [
       "<div>\n",
       "<style scoped>\n",
       "    .dataframe tbody tr th:only-of-type {\n",
       "        vertical-align: middle;\n",
       "    }\n",
       "\n",
       "    .dataframe tbody tr th {\n",
       "        vertical-align: top;\n",
       "    }\n",
       "\n",
       "    .dataframe thead th {\n",
       "        text-align: right;\n",
       "    }\n",
       "</style>\n",
       "<table border=\"1\" class=\"dataframe\">\n",
       "  <thead>\n",
       "    <tr style=\"text-align: right;\">\n",
       "      <th></th>\n",
       "      <th>business_id</th>\n",
       "      <th>review_count</th>\n",
       "      <th>is_open</th>\n",
       "      <th>categories</th>\n",
       "    </tr>\n",
       "  </thead>\n",
       "  <tbody>\n",
       "    <tr>\n",
       "      <th>0</th>\n",
       "      <td>Pns2l4eNsfO8kk83dixA6A</td>\n",
       "      <td>7</td>\n",
       "      <td>0</td>\n",
       "      <td>Doctors, Traditional Chinese Medicine, Naturop...</td>\n",
       "    </tr>\n",
       "    <tr>\n",
       "      <th>1</th>\n",
       "      <td>mpf3x-BjTdTEA3yCZrAYPw</td>\n",
       "      <td>15</td>\n",
       "      <td>1</td>\n",
       "      <td>Shipping Centers, Local Services, Notaries, Ma...</td>\n",
       "    </tr>\n",
       "    <tr>\n",
       "      <th>2</th>\n",
       "      <td>tUFrWirKiKi_TAnsVWINQQ</td>\n",
       "      <td>22</td>\n",
       "      <td>0</td>\n",
       "      <td>Department Stores, Shopping, Fashion, Home &amp; G...</td>\n",
       "    </tr>\n",
       "    <tr>\n",
       "      <th>3</th>\n",
       "      <td>MTSW4McQd7CbVtyjqoe9mw</td>\n",
       "      <td>80</td>\n",
       "      <td>1</td>\n",
       "      <td>Restaurants, Food, Bubble Tea, Coffee &amp; Tea, B...</td>\n",
       "    </tr>\n",
       "    <tr>\n",
       "      <th>4</th>\n",
       "      <td>mWMc6_wTdE0EUBKIGXDVfA</td>\n",
       "      <td>13</td>\n",
       "      <td>1</td>\n",
       "      <td>Brewpubs, Breweries, Food</td>\n",
       "    </tr>\n",
       "    <tr>\n",
       "      <th>...</th>\n",
       "      <td>...</td>\n",
       "      <td>...</td>\n",
       "      <td>...</td>\n",
       "      <td>...</td>\n",
       "    </tr>\n",
       "    <tr>\n",
       "      <th>150341</th>\n",
       "      <td>IUQopTMmYQG-qRtBk-8QnA</td>\n",
       "      <td>13</td>\n",
       "      <td>1</td>\n",
       "      <td>Nail Salons, Beauty &amp; Spas</td>\n",
       "    </tr>\n",
       "    <tr>\n",
       "      <th>150342</th>\n",
       "      <td>c8GjPIOTGVmIemT7j5_SyQ</td>\n",
       "      <td>5</td>\n",
       "      <td>1</td>\n",
       "      <td>Pets, Nurseries &amp; Gardening, Pet Stores, Hobby...</td>\n",
       "    </tr>\n",
       "    <tr>\n",
       "      <th>150343</th>\n",
       "      <td>_QAMST-NrQobXduilWEqSw</td>\n",
       "      <td>8</td>\n",
       "      <td>1</td>\n",
       "      <td>Shopping, Jewelry, Piercing, Toy Stores, Beaut...</td>\n",
       "    </tr>\n",
       "    <tr>\n",
       "      <th>150344</th>\n",
       "      <td>mtGm22y5c2UHNXDFAjaPNw</td>\n",
       "      <td>24</td>\n",
       "      <td>1</td>\n",
       "      <td>Fitness/Exercise Equipment, Eyewear &amp; Optician...</td>\n",
       "    </tr>\n",
       "    <tr>\n",
       "      <th>150345</th>\n",
       "      <td>jV_XOycEzSlTx-65W906pg</td>\n",
       "      <td>9</td>\n",
       "      <td>1</td>\n",
       "      <td>Beauty &amp; Spas, Permanent Makeup, Piercing, Tattoo</td>\n",
       "    </tr>\n",
       "  </tbody>\n",
       "</table>\n",
       "<p>150346 rows × 4 columns</p>\n",
       "</div>"
      ]
     },
     "execution_count": 10,
     "metadata": {},
     "output_type": "execute_result"
    }
   ],
   "execution_count": 10
  },
  {
   "cell_type": "markdown",
   "id": "51f4b738e48e7294",
   "metadata": {},
   "source": [
    "Reviews' features:\n",
    "- `review_id` | `user_id` | `business_id` - id of the review and foreign keys (one user can leave several reviews for one item)\n",
    "- `stars` - **explicit rating** provided by user for the particular item in the particular moment\n",
    "- `useful` | `funny` | `cool`  - user's flags about (presumably) review. We don't drop this feature since it's necessary to get any evidences that theory about the nature of the feature is right - check the **opportunity of usage them for implicit rating** \n",
    "- `text` - the content of review (can be useful for potential sentimental analysis)\n",
    "- `date` - the timestamp of review\n",
    "\n",
    "All the features can be used for the future development and need to be analysed."
   ]
  },
  {
   "cell_type": "code",
   "id": "f88dd88230fa18a4",
   "metadata": {
    "jupyter": {
     "is_executing": true
    },
    "ExecuteTime": {
     "start_time": "2025-03-11T08:02:22.047203Z"
    }
   },
   "source": [
    "review_df = pd.read_json(f\"{path}/yelp_academic_dataset_review.json\", lines=True)\n",
    "review_df"
   ],
   "outputs": [],
   "execution_count": null
  },
  {
   "cell_type": "markdown",
   "id": "4b04f6994f500c3",
   "metadata": {},
   "source": [
    "Tip's features:\n",
    "- `user_id` | `business_id` - ids of users and businesses with uncertainty in uniqueness of them and their pairs\n",
    "- `text` - content of tip (can be useful for potential sentimental analysis)\n",
    "- `date` - the date of publication\n",
    "- `compliment_count` - how many users complimented a particular tip - **consider opportunity of usage in implicit rating**"
   ]
  },
  {
   "cell_type": "code",
   "execution_count": null,
   "id": "8d75d3866f1bf8fb",
   "metadata": {
    "ExecuteTime": {
     "end_time": "2025-03-11T01:27:18.373387Z",
     "start_time": "2025-03-11T01:27:12.287383Z"
    }
   },
   "outputs": [],
   "source": [
    "tip_df = pd.read_json(f\"{path}/yelp_academic_dataset_tip.json\", lines=True)\n",
    "tip_df"
   ]
  },
  {
   "cell_type": "markdown",
   "id": "acd890ddf9edbffa",
   "metadata": {},
   "source": [
    "The only feature was dropped - `compliment_count` because of the following reason: this feature describes **user-to-user** relationships and would be useful if we've wanted to recommend *users to other users*. But the purpose of the RecSys under development is recommending **items to user**"
   ]
  },
  {
   "cell_type": "code",
   "execution_count": null,
   "id": "858ac2094e35f3ae",
   "metadata": {
    "ExecuteTime": {
     "end_time": "2025-03-11T01:27:18.450930Z",
     "start_time": "2025-03-11T01:27:18.408193Z"
    }
   },
   "outputs": [],
   "source": [
    "filtered_tip_df = tip_df.drop(axis=1, columns=['compliment_count'])\n",
    "filtered_tip_df"
   ]
  },
  {
   "cell_type": "markdown",
   "id": "759c3211ea8a7e11",
   "metadata": {},
   "source": [
    "# EDA"
   ]
  },
  {
   "cell_type": "markdown",
   "id": "e88d38f3a21fc196",
   "metadata": {},
   "source": [
    "## Reviews dataset"
   ]
  },
  {
   "cell_type": "markdown",
   "id": "410adb45580e29ec",
   "metadata": {},
   "source": [
    "### Basic descriptive statistic"
   ]
  },
  {
   "cell_type": "code",
   "execution_count": null,
   "id": "5edf20449bc9324c",
   "metadata": {
    "ExecuteTime": {
     "end_time": "2025-03-11T01:27:30.998290Z",
     "start_time": "2025-03-11T01:27:18.596746Z"
    }
   },
   "outputs": [],
   "source": [
    "review_df = review_df.set_index('business_id')\n",
    "review_df"
   ]
  },
  {
   "cell_type": "markdown",
   "id": "4d24ed376cc3fe6c",
   "metadata": {},
   "source": [
    "The conclusions from the descriptive statistics:\n",
    "- All the features have the same amount of items so **there is no Nans** (need to recheck)\n",
    "- At least `cool` and `funny` (probably `useful` also) have a lot of outliers (checking 75-quantile). At the same time, the max value is dramatically big. This is a relative evidence for the theory about these features are given from different users and describes **user-to-user interaction**\n",
    "- Following the previous point, described features are candidates for dropping, but it's necessary to recheck amount of outliers, because it's possible that they can be useful for implicit ratings. \n",
    "- Time range of the data goes from **2005** until **2022** which let us to assume that we've enough historical data that give us the opportunity to create **time series** and **implicit ratings** based on the history data"
   ]
  },
  {
   "cell_type": "code",
   "execution_count": null,
   "id": "e2fcceb26a274b5b",
   "metadata": {
    "ExecuteTime": {
     "end_time": "2025-03-11T01:27:32.372171Z",
     "start_time": "2025-03-11T01:27:31.073713Z"
    }
   },
   "outputs": [],
   "source": [
    "review_df.describe()"
   ]
  },
  {
   "cell_type": "markdown",
   "id": "371031e1bebba52e",
   "metadata": {},
   "source": [
    "All the features that will be explored are **continuous** (**numerical**)"
   ]
  },
  {
   "cell_type": "code",
   "execution_count": null,
   "id": "2b5f136fab1a810",
   "metadata": {
    "ExecuteTime": {
     "end_time": "2025-03-11T01:27:32.422607Z",
     "start_time": "2025-03-11T01:27:32.415701Z"
    }
   },
   "outputs": [],
   "source": [
    "review_df.dtypes"
   ]
  },
  {
   "cell_type": "markdown",
   "id": "ca63dafbbb5dc3c6",
   "metadata": {},
   "source": [
    "Remove text from analyzed feature since for the sentiment analyses it's necessary to provide different analysis for such **type of data**"
   ]
  },
  {
   "cell_type": "code",
   "execution_count": null,
   "id": "2fc56c0691a32f80",
   "metadata": {
    "ExecuteTime": {
     "end_time": "2025-03-11T01:27:32.499627Z",
     "start_time": "2025-03-11T01:27:32.496970Z"
    }
   },
   "outputs": [],
   "source": [
    "FEATURES_FOR_ANALYSIS = ['stars', 'useful', 'funny', 'cool', 'date']"
   ]
  },
  {
   "cell_type": "markdown",
   "id": "9b8d0cabb38ad5ba",
   "metadata": {},
   "source": [
    "### Nan analysis"
   ]
  },
  {
   "cell_type": "markdown",
   "id": "10e47457284fed6f",
   "metadata": {},
   "source": [
    "As it's possible to mention below, **assumption was proved** - there is no Nans in dataset at all"
   ]
  },
  {
   "cell_type": "code",
   "execution_count": null,
   "id": "400776e83a26428d",
   "metadata": {
    "ExecuteTime": {
     "end_time": "2025-03-11T01:27:47.940847Z",
     "start_time": "2025-03-11T01:27:32.562570Z"
    }
   },
   "outputs": [],
   "source": [
    "nan_analyser = NanAnalyser(review_df)"
   ]
  },
  {
   "cell_type": "code",
   "execution_count": null,
   "id": "48e69053a6cb6dfc",
   "metadata": {
    "ExecuteTime": {
     "end_time": "2025-03-11T01:28:19.055784Z",
     "start_time": "2025-03-11T01:27:48.045591Z"
    }
   },
   "outputs": [],
   "source": [
    "nan_analyser.plot_nan_values_heatmap()"
   ]
  },
  {
   "cell_type": "code",
   "execution_count": null,
   "id": "ff3727b2bce5e395",
   "metadata": {
    "ExecuteTime": {
     "end_time": "2025-03-11T01:28:42.231845Z",
     "start_time": "2025-03-11T01:28:19.140754Z"
    }
   },
   "outputs": [],
   "source": [
    "nan_analyser.get_nan_statistic()"
   ]
  },
  {
   "cell_type": "markdown",
   "id": "bd418390ddddb3cc",
   "metadata": {},
   "source": [
    "### Distribution and outliers analysis"
   ]
  },
  {
   "cell_type": "code",
   "execution_count": null,
   "id": "a3f449057c41bc13",
   "metadata": {
    "ExecuteTime": {
     "end_time": "2025-03-11T01:29:02.690718Z",
     "start_time": "2025-03-11T01:28:42.287043Z"
    }
   },
   "outputs": [],
   "source": [
    "distribution_analyser = DistributionAnalyser(review_df)"
   ]
  },
  {
   "cell_type": "code",
   "execution_count": null,
   "id": "5ebee7d353431488",
   "metadata": {
    "ExecuteTime": {
     "end_time": "2025-03-11T01:29:40.983012Z",
     "start_time": "2025-03-11T01:29:02.771843Z"
    }
   },
   "outputs": [],
   "source": [
    "distribution_analyser.plot_numerical_distributions(FEATURES_FOR_ANALYSIS)"
   ]
  },
  {
   "cell_type": "code",
   "execution_count": null,
   "id": "1b21aa7186df5fa8",
   "metadata": {
    "ExecuteTime": {
     "end_time": "2025-03-11T07:36:55.748207Z",
     "start_time": "2025-03-11T07:34:00.641378Z"
    },
    "jupyter": {
     "is_executing": true
    }
   },
   "outputs": [],
   "source": [
    "plot_box_plots(review_df)"
   ]
  },
  {
   "cell_type": "markdown",
   "id": "52587752fb0b4caf",
   "metadata": {},
   "source": [
    "### Correlation analysis"
   ]
  },
  {
   "cell_type": "markdown",
   "id": "ca15924efb97345a",
   "metadata": {},
   "source": [
    "Extract numerical features"
   ]
  },
  {
   "cell_type": "code",
   "execution_count": null,
   "id": "8df9ec6ab839cba2",
   "metadata": {
    "ExecuteTime": {
     "end_time": "2025-03-11T01:29:41.406540Z",
     "start_time": "2025-03-11T01:29:41.404172Z"
    }
   },
   "outputs": [],
   "source": [
    "NUMERICAL_FEATURES = ['stars', 'useful', 'funny', 'cool']"
   ]
  },
  {
   "cell_type": "code",
   "execution_count": null,
   "id": "8b74e3c29ce58abb",
   "metadata": {
    "ExecuteTime": {
     "end_time": "2025-03-11T01:29:42.624602Z",
     "start_time": "2025-03-11T01:29:41.975802Z"
    }
   },
   "outputs": [],
   "source": [
    "plot_correlation_matrix(review_df[NUMERICAL_FEATURES], method='pearson')"
   ]
  },
  {
   "cell_type": "code",
   "execution_count": null,
   "id": "fe23ba30f80b30f7",
   "metadata": {
    "ExecuteTime": {
     "end_time": "2025-03-11T01:29:46.283510Z",
     "start_time": "2025-03-11T01:29:42.637Z"
    }
   },
   "outputs": [],
   "source": [
    "plot_correlation_matrix(review_df[NUMERICAL_FEATURES])"
   ]
  },
  {
   "cell_type": "markdown",
   "id": "b435e102c33c77d2",
   "metadata": {},
   "source": [
    "### Time series analysis"
   ]
  },
  {
   "cell_type": "code",
   "execution_count": null,
   "id": "bff0f33336c63202",
   "metadata": {
    "ExecuteTime": {
     "end_time": "2025-03-11T07:30:00.207478Z",
     "start_time": "2025-03-11T07:29:56.890797Z"
    }
   },
   "outputs": [],
   "source": [
    "time_series = TimeSeriesGenerator(review_df)\n",
    "\n",
    "time_series.plot_time_series(date_col='date', target_col='stars', group_col='business_id')"
   ]
  },
  {
   "cell_type": "markdown",
   "id": "53ec3c0b5619f9f9",
   "metadata": {},
   "source": [
    "### Conclusions"
   ]
  },
  {
   "metadata": {},
   "cell_type": "markdown",
   "source": "1. Check out the opportunity of stratifying the **review** dataset",
   "id": "d536b65ee59e7221"
  }
 ],
 "metadata": {
  "kernelspec": {
   "display_name": "Python 3 (ipykernel)",
   "language": "python",
   "name": "python3"
  },
  "language_info": {
   "codemirror_mode": {
    "name": "ipython",
    "version": 3
   },
   "file_extension": ".py",
   "mimetype": "text/x-python",
   "name": "python",
   "nbconvert_exporter": "python",
   "pygments_lexer": "ipython3",
   "version": "3.12.7"
  }
 },
 "nbformat": 4,
 "nbformat_minor": 5
}
